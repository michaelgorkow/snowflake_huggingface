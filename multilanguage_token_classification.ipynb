{
 "cells": [
  {
   "cell_type": "markdown",
   "metadata": {},
   "source": [
    "# Imports"
   ]
  },
  {
   "cell_type": "code",
   "execution_count": 23,
   "metadata": {},
   "outputs": [],
   "source": [
    "import warnings\n",
    "warnings.filterwarnings(\"ignore\")\n",
    "\n",
    "# Load variables\n",
    "import os\n",
    "from dotenv import load_dotenv\n",
    "load_dotenv()\n",
    "\n",
    "# Snowpark Imports\n",
    "from snowflake.snowpark.session import Session\n",
    "from snowflake.snowpark import functions as F\n",
    "from snowflake.snowpark import types as T"
   ]
  },
  {
   "cell_type": "markdown",
   "metadata": {},
   "source": [
    "# Connect to Snowflake"
   ]
  },
  {
   "cell_type": "code",
   "execution_count": 2,
   "metadata": {},
   "outputs": [
    {
     "name": "stdout",
     "output_type": "stream",
     "text": [
      "Role:      \"ACCOUNTADMIN\"\n",
      "Warehouse: \"COMPUTE_WH\"\n",
      "Database:  \"MACHINE_LEARNING\"\n",
      "Schema:    \"PUBLIC\"\n"
     ]
    }
   ],
   "source": [
    "snowflake_connection_cfg = {\n",
    "    \"ACCOUNT\": os.getenv('SF_ACCOUNT'),\n",
    "    \"USER\": os.getenv('SF_USER'),\n",
    "    \"ROLE\": os.getenv('SF_ROLE'),\n",
    "    \"PASSWORD\": os.getenv('SF_PASSWORD'),\n",
    "    \"DATABASE\": os.getenv('SF_DATABASE'),\n",
    "    \"SCHEMA\": os.getenv('SF_SCHEMA'),\n",
    "    \"WAREHOUSE\": os.getenv('SF_WAREHOUSE')\n",
    "}\n",
    "\n",
    "# Creating Snowpark Session\n",
    "session = Session.builder.configs(snowflake_connection_cfg).create()\n",
    "\n",
    "print('Role:     ', session.get_current_role())\n",
    "print('Warehouse:', session.get_current_warehouse())\n",
    "print('Database: ', session.get_current_database())\n",
    "print('Schema:   ', session.get_current_schema())"
   ]
  },
  {
   "cell_type": "code",
   "execution_count": 7,
   "metadata": {},
   "outputs": [
    {
     "name": "stdout",
     "output_type": "stream",
     "text": [
      "-----------------------------------------------------------------------------------------------------------------------------------------------------------\n",
      "|\"INPUTS\"                                                                                                                                                 |\n",
      "-----------------------------------------------------------------------------------------------------------------------------------------------------------\n",
      "|Elon Musk, the CEO of Tesla, announced on January 15, 2022, that the company will start manufacturing in Berlin by the end of the year.                  |\n",
      "|Microsoft, founded by Bill Gates and Paul Allen, has its headquarters in Redmond, Washington and was established on April 4, 1975.                       |\n",
      "|The Louvre Museum in Paris, France, houses the famous Mona Lisa painting and attracts millions of visitors from around the globe annually.               |\n",
      "|The Treaty of Versailles was signed on June 28, 1919, by representatives from Germany and the Allied Powers, marking the end of World War I.             |\n",
      "|Serena Williams, an American professional tennis player, won her 23rd Grand Slam singles title at the Australian Open in Melbourne on January 28, 2017.  |\n",
      "-----------------------------------------------------------------------------------------------------------------------------------------------------------\n",
      "\n"
     ]
    }
   ],
   "source": [
    "# Create some test data to work with\n",
    "ner_texts = [\n",
    "    \"Elon Musk, the CEO of Tesla, announced on January 15, 2022, that the company will start manufacturing in Berlin by the end of the year.\",\n",
    "    \"Microsoft, founded by Bill Gates and Paul Allen, has its headquarters in Redmond, Washington and was established on April 4, 1975.\",\n",
    "    \"The Louvre Museum in Paris, France, houses the famous Mona Lisa painting and attracts millions of visitors from around the globe annually.\",\n",
    "    \"The Treaty of Versailles was signed on June 28, 1919, by representatives from Germany and the Allied Powers, marking the end of World War I.\",\n",
    "    \"Serena Williams, an American professional tennis player, won her 23rd Grand Slam singles title at the Australian Open in Melbourne on January 28, 2017.\"\n",
    "]\n",
    "\n",
    "df = session.create_dataframe(ner_texts, schema=['INPUTS'])\n",
    "df.show(n=15, max_width=1000)"
   ]
  },
  {
   "cell_type": "markdown",
   "metadata": {},
   "source": [
    "# Register & Run Token Classification Model"
   ]
  },
  {
   "cell_type": "code",
   "execution_count": 4,
   "metadata": {},
   "outputs": [],
   "source": [
    "# Get the model registry object\n",
    "from snowflake.ml.registry import Registry\n",
    "reg = Registry(\n",
    "    session=session, \n",
    "    database_name=session.get_current_database(), \n",
    "    schema_name=session.get_current_schema()\n",
    "    )"
   ]
  },
  {
   "cell_type": "code",
   "execution_count": 29,
   "metadata": {},
   "outputs": [
    {
     "name": "stdout",
     "output_type": "stream",
     "text": [
      "------------------------------------------------------------------------------------------------------------------------------------------------------------------------------------------------------------------------------------------------------------------------------------------------------------------------------------------------------------------------------------------------------------------------------------------------------------------------------------------------------------------------------------------------------------------------------------------------------------------------------------------------------------------------------------------------------------------------------------------------------------------------------------------------------------------------------------------------------------------------------------------------------------------------------------------------------------------------------------------------------------------------------------------------------------------------------------------------------------------------------------------------\n",
      "|\"INPUTS\"                                                                                                                                                 |\"OUTPUTS\"                                                                                                                                                                                                                                                                                                                                                                                                                                                                                                                                                                                                                                                                                                                                                                                                                                                                                                                                                                           |\n",
      "------------------------------------------------------------------------------------------------------------------------------------------------------------------------------------------------------------------------------------------------------------------------------------------------------------------------------------------------------------------------------------------------------------------------------------------------------------------------------------------------------------------------------------------------------------------------------------------------------------------------------------------------------------------------------------------------------------------------------------------------------------------------------------------------------------------------------------------------------------------------------------------------------------------------------------------------------------------------------------------------------------------------------------------------------------------------------------------------------------------------------------------------\n",
      "|The Louvre Museum in Paris, France, houses the famous Mona Lisa painting and attracts millions of visitors from around the globe annually.               |[{\"entity\": \"B-LOC\", \"score\": 0.9992496371269226, \"index\": 2, \"word\": \"Louvre\", \"start\": 4, \"end\": 10}, {\"entity\": \"I-LOC\", \"score\": 0.9991747736930847, \"index\": 3, \"word\": \"Museum\", \"start\": 11, \"end\": 17}, {\"entity\": \"B-LOC\", \"score\": 0.9996153116226196, \"index\": 5, \"word\": \"Paris\", \"start\": 21, \"end\": 26}, {\"entity\": \"B-LOC\", \"score\": 0.9995829463005066, \"index\": 7, \"word\": \"France\", \"start\": 28, \"end\": 34}, {\"entity\": \"B-PER\", \"score\": 0.7161262035369873, \"index\": 12, \"word\": \"Mona\", \"start\": 54, \"end\": 58}, {\"entity\": \"I-PER\", \"score\": 0.6371369361877441, \"index\": 13, \"word\": \"Lisa\", \"start\": 59, \"end\": 63}]                                                                                                                                                                                                                                                                                                                                        |\n",
      "|Microsoft, founded by Bill Gates and Paul Allen, has its headquarters in Redmond, Washington and was established on April 4, 1975.                       |[{\"entity\": \"B-ORG\", \"score\": 0.9984835982322693, \"index\": 1, \"word\": \"Microsoft\", \"start\": 0, \"end\": 9}, {\"entity\": \"B-PER\", \"score\": 0.9997666478157043, \"index\": 5, \"word\": \"Bill\", \"start\": 22, \"end\": 26}, {\"entity\": \"I-PER\", \"score\": 0.9998621940612793, \"index\": 6, \"word\": \"Gates\", \"start\": 27, \"end\": 32}, {\"entity\": \"B-PER\", \"score\": 0.9998044371604919, \"index\": 8, \"word\": \"Paul\", \"start\": 37, \"end\": 41}, {\"entity\": \"I-PER\", \"score\": 0.9999020099639893, \"index\": 9, \"word\": \"Allen\", \"start\": 42, \"end\": 47}, {\"entity\": \"B-LOC\", \"score\": 0.9992094039916992, \"index\": 15, \"word\": \"Red\", \"start\": 73, \"end\": 76}, {\"entity\": \"I-LOC\", \"score\": 0.9985079169273376, \"index\": 16, \"word\": \"##mond\", \"start\": 76, \"end\": 80}, {\"entity\": \"B-LOC\", \"score\": 0.99644535779953, \"index\": 18, \"word\": \"Washington\", \"start\": 82, \"end\": 92}]                                                                                                                       |\n",
      "|The Treaty of Versailles was signed on June 28, 1919, by representatives from Germany and the Allied Powers, marking the end of World War I.             |[{\"entity\": \"B-MISC\", \"score\": 0.6955371499061584, \"index\": 2, \"word\": \"Treaty\", \"start\": 4, \"end\": 10}, {\"entity\": \"I-MISC\", \"score\": 0.8728473782539368, \"index\": 3, \"word\": \"of\", \"start\": 11, \"end\": 13}, {\"entity\": \"I-MISC\", \"score\": 0.8612956404685974, \"index\": 4, \"word\": \"Versailles\", \"start\": 14, \"end\": 24}, {\"entity\": \"B-LOC\", \"score\": 0.991872251033783, \"index\": 16, \"word\": \"Germany\", \"start\": 78, \"end\": 85}, {\"entity\": \"B-ORG\", \"score\": 0.993036687374115, \"index\": 19, \"word\": \"Allied\", \"start\": 94, \"end\": 100}, {\"entity\": \"I-ORG\", \"score\": 0.9903274178504944, \"index\": 20, \"word\": \"Powers\", \"start\": 101, \"end\": 107}, {\"entity\": \"B-MISC\", \"score\": 0.8707866072654724, \"index\": 26, \"word\": \"World\", \"start\": 128, \"end\": 133}, {\"entity\": \"I-MISC\", \"score\": 0.9993653893470764, \"index\": 27, \"word\": \"War\", \"start\": 134, \"end\": 137}, {\"entity\": \"I-MISC\", \"score\": 0.9993206262588501, \"index\": 28, \"word\": \"I\", \"start\": 138, \"end\": 139}]  |\n",
      "|Serena Williams, an American professional tennis player, won her 23rd Grand Slam singles title at the Australian Open in Melbourne on January 28, 2017.  |[{\"entity\": \"B-PER\", \"score\": 0.9997209906578064, \"index\": 1, \"word\": \"Serena\", \"start\": 0, \"end\": 6}, {\"entity\": \"I-PER\", \"score\": 0.9998213648796082, \"index\": 2, \"word\": \"Williams\", \"start\": 7, \"end\": 15}, {\"entity\": \"B-MISC\", \"score\": 0.8021312355995178, \"index\": 5, \"word\": \"American\", \"start\": 20, \"end\": 28}, {\"entity\": \"B-MISC\", \"score\": 0.7461417317390442, \"index\": 20, \"word\": \"Australian\", \"start\": 102, \"end\": 112}, {\"entity\": \"I-MISC\", \"score\": 0.9878838658332825, \"index\": 21, \"word\": \"Open\", \"start\": 113, \"end\": 117}, {\"entity\": \"B-LOC\", \"score\": 0.9989080429077148, \"index\": 23, \"word\": \"Melbourne\", \"start\": 121, \"end\": 130}]                                                                                                                                                                                                                                                                                                                  |\n",
      "|Elon Musk, the CEO of Tesla, announced on January 15, 2022, that the company will start manufacturing in Berlin by the end of the year.                  |[{\"entity\": \"B-PER\", \"score\": 0.9990461468696594, \"index\": 1, \"word\": \"Elo\", \"start\": 0, \"end\": 3}, {\"entity\": \"I-PER\", \"score\": 0.9896406531333923, \"index\": 2, \"word\": \"##n\", \"start\": 3, \"end\": 4}, {\"entity\": \"I-PER\", \"score\": 0.9994780421257019, \"index\": 3, \"word\": \"Mus\", \"start\": 5, \"end\": 8}, {\"entity\": \"I-PER\", \"score\": 0.9987083673477173, \"index\": 4, \"word\": \"##k\", \"start\": 8, \"end\": 9}, {\"entity\": \"B-ORG\", \"score\": 0.9943819642066956, \"index\": 9, \"word\": \"Tesla\", \"start\": 22, \"end\": 27}, {\"entity\": \"B-LOC\", \"score\": 0.9994100332260132, \"index\": 25, \"word\": \"Berlin\", \"start\": 105, \"end\": 111}]                                                                                                                                                                                                                                                                                                                                                      |\n",
      "------------------------------------------------------------------------------------------------------------------------------------------------------------------------------------------------------------------------------------------------------------------------------------------------------------------------------------------------------------------------------------------------------------------------------------------------------------------------------------------------------------------------------------------------------------------------------------------------------------------------------------------------------------------------------------------------------------------------------------------------------------------------------------------------------------------------------------------------------------------------------------------------------------------------------------------------------------------------------------------------------------------------------------------------------------------------------------------------------------------------------------------------\n",
      "\n"
     ]
    }
   ],
   "source": [
    "# Get the token classification model from Huggingface\n",
    "# Make sure it fits into a Snowflake warehouse and does not require GPUs\n",
    "# Otherwise the model must deployed in Snowpark Container Services\n",
    "from transformers import pipeline\n",
    "pipe = pipeline(\"token-classification\", model=\"Babelscape/wikineural-multilingual-ner\")\n",
    "\n",
    "# use SOWH because model is big\n",
    "session.use_warehouse('snowpark_opt_wh')\n",
    "\n",
    "# Register the model to Snowflake (predict is the model's function we want to call)\n",
    "snow_model_custom = reg.log_model(\n",
    "    pipe, \n",
    "    model_name='wikineural_multilingual_ner', \n",
    "    sample_input_data=df.limit(10),\n",
    "    conda_dependencies=['tokenizers','transformers','sentencepiece']\n",
    "    )\n",
    "\n",
    "# Model signature\n",
    "ner_tags = snow_model_custom.run(df).cache_result()\n",
    "ner_tags.show(n=15, max_width=1000)"
   ]
  },
  {
   "cell_type": "code",
   "execution_count": 30,
   "metadata": {},
   "outputs": [
    {
     "name": "stdout",
     "output_type": "stream",
     "text": [
      "----------------------------------------------------------------------------------------------------------------------------------------------------------------------------------------------------------------------\n",
      "|\"INPUTS\"                                                                                                                                    |\"ENTITY\"  |\"SCORE\"             |\"WORD\"     |\"INDEX\"  |\"START\"  |\"END\"  |\n",
      "----------------------------------------------------------------------------------------------------------------------------------------------------------------------------------------------------------------------\n",
      "|The Louvre Museum in Paris, France, houses the famous Mona Lisa painting and attracts millions of visitors from around the globe annually.  |B-LOC     |0.9992496371269226  |Louvre     |2        |4        |10     |\n",
      "|The Louvre Museum in Paris, France, houses the famous Mona Lisa painting and attracts millions of visitors from around the globe annually.  |I-LOC     |0.9991747736930848  |Museum     |3        |11       |17     |\n",
      "|The Louvre Museum in Paris, France, houses the famous Mona Lisa painting and attracts millions of visitors from around the globe annually.  |B-LOC     |0.9996153116226196  |Paris      |5        |21       |26     |\n",
      "|The Louvre Museum in Paris, France, houses the famous Mona Lisa painting and attracts millions of visitors from around the globe annually.  |B-LOC     |0.9995829463005066  |France     |7        |28       |34     |\n",
      "|The Louvre Museum in Paris, France, houses the famous Mona Lisa painting and attracts millions of visitors from around the globe annually.  |B-PER     |0.7161262035369873  |Mona       |12       |54       |58     |\n",
      "|The Louvre Museum in Paris, France, houses the famous Mona Lisa painting and attracts millions of visitors from around the globe annually.  |I-PER     |0.6371369361877441  |Lisa       |13       |59       |63     |\n",
      "|Microsoft, founded by Bill Gates and Paul Allen, has its headquarters in Redmond, Washington and was established on April 4, 1975.          |B-ORG     |0.9984835982322692  |Microsoft  |1        |0        |9      |\n",
      "|Microsoft, founded by Bill Gates and Paul Allen, has its headquarters in Redmond, Washington and was established on April 4, 1975.          |B-PER     |0.9997666478157043  |Bill       |5        |22       |26     |\n",
      "|Microsoft, founded by Bill Gates and Paul Allen, has its headquarters in Redmond, Washington and was established on April 4, 1975.          |I-PER     |0.9998621940612792  |Gates      |6        |27       |32     |\n",
      "|Microsoft, founded by Bill Gates and Paul Allen, has its headquarters in Redmond, Washington and was established on April 4, 1975.          |B-PER     |0.999804437160492   |Paul       |8        |37       |41     |\n",
      "----------------------------------------------------------------------------------------------------------------------------------------------------------------------------------------------------------------------\n",
      "\n"
     ]
    }
   ],
   "source": [
    "# Transform outputs into single rows\n",
    "ner_tags = ner_tags.join_table_function('FLATTEN', F.parse_json(F.col('OUTPUTS')))\n",
    "ner_tags = ner_tags.with_column('ENTITY', F.col('VALUE')['entity'].cast(T.StringType()))\n",
    "ner_tags = ner_tags.with_column('SCORE', F.col('VALUE')['score'].cast(T.FloatType()))\n",
    "ner_tags = ner_tags.with_column('WORD', F.col('VALUE')['word'].cast(T.StringType()))\n",
    "ner_tags = ner_tags.with_column('INDEX', F.col('VALUE')['index'].cast(T.IntegerType()))\n",
    "ner_tags = ner_tags.with_column('START', F.col('VALUE')['start'].cast(T.IntegerType()))\n",
    "ner_tags = ner_tags.with_column('END', F.col('VALUE')['end'].cast(T.IntegerType()))\n",
    "ner_tags = ner_tags.select(['INPUTS', 'ENTITY', 'SCORE', 'WORD', 'INDEX', 'START', 'END'])\n",
    "ner_tags.show(max_width=1000)"
   ]
  }
 ],
 "metadata": {
  "kernelspec": {
   "display_name": "pysnowpark_huggingface",
   "language": "python",
   "name": "python3"
  },
  "language_info": {
   "codemirror_mode": {
    "name": "ipython",
    "version": 3
   },
   "file_extension": ".py",
   "mimetype": "text/x-python",
   "name": "python",
   "nbconvert_exporter": "python",
   "pygments_lexer": "ipython3",
   "version": "3.11.8"
  }
 },
 "nbformat": 4,
 "nbformat_minor": 2
}

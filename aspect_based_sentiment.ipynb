{
 "cells": [
  {
   "cell_type": "markdown",
   "metadata": {},
   "source": [
    "# Imports"
   ]
  },
  {
   "cell_type": "code",
   "execution_count": 1,
   "metadata": {},
   "outputs": [],
   "source": [
    "import warnings\n",
    "warnings.filterwarnings(\"ignore\")\n",
    "\n",
    "# Load variables\n",
    "import os\n",
    "from dotenv import load_dotenv\n",
    "load_dotenv()\n",
    "\n",
    "# Snowpark Imports\n",
    "from snowflake.snowpark.session import Session\n",
    "from snowflake.snowpark import functions as F\n",
    "from snowflake.ml.model.model_signature import FeatureSpec, DataType, ModelSignature"
   ]
  },
  {
   "cell_type": "markdown",
   "metadata": {},
   "source": [
    "# Connect to Snowflake"
   ]
  },
  {
   "cell_type": "code",
   "execution_count": 2,
   "metadata": {},
   "outputs": [
    {
     "name": "stdout",
     "output_type": "stream",
     "text": [
      "Role:      \"ACCOUNTADMIN\"\n",
      "Warehouse: \"COMPUTE_WH\"\n",
      "Database:  \"MACHINE_LEARNING\"\n",
      "Schema:    \"PUBLIC\"\n"
     ]
    }
   ],
   "source": [
    "snowflake_connection_cfg = {\n",
    "    \"ACCOUNT\": os.getenv('SF_ACCOUNT'),\n",
    "    \"USER\": os.getenv('SF_USER'),\n",
    "    \"ROLE\": os.getenv('SF_ROLE'),\n",
    "    \"PASSWORD\": os.getenv('SF_PASSWORD'),\n",
    "    \"DATABASE\": os.getenv('SF_DATABASE'),\n",
    "    \"SCHEMA\": os.getenv('SF_SCHEMA'),\n",
    "    \"WAREHOUSE\": os.getenv('SF_WAREHOUSE')\n",
    "}\n",
    "\n",
    "# Creating Snowpark Session\n",
    "session = Session.builder.configs(snowflake_connection_cfg).create()\n",
    "\n",
    "print('Role:     ', session.get_current_role())\n",
    "print('Warehouse:', session.get_current_warehouse())\n",
    "print('Database: ', session.get_current_database())\n",
    "print('Schema:   ', session.get_current_schema())"
   ]
  },
  {
   "cell_type": "code",
   "execution_count": 50,
   "metadata": {},
   "outputs": [
    {
     "name": "stdout",
     "output_type": "stream",
     "text": [
      "----------------------------------------------------------------------------------\n",
      "|\"REVIEWS\"                                                                       |\n",
      "----------------------------------------------------------------------------------\n",
      "|Great tasting coffee but the machine keeps breaking.                            |\n",
      "|Love the coffee and the friendly staff, but the seating area is quite cramped.  |\n",
      "|Deliciously smooth coffee, however, the customer service is often lacking.      |\n",
      "|Delicious and strong coffee, however, the cafe is always overcrowded.           |\n",
      "|Love the coffe but the wifi in that shop is terrible                            |\n",
      "|Terrible the coffe but the wifi in that shop is great!                          |\n",
      "|I hate the coffee, but the seating area is really good!                         |\n",
      "----------------------------------------------------------------------------------\n",
      "\n"
     ]
    }
   ],
   "source": [
    "# Create some test data to work with\n",
    "coffee_reviews = [\n",
    "    \"Great tasting coffee but the machine keeps breaking.\",\n",
    "    \"Love the coffee and the friendly staff, but the seating area is quite cramped.\",\n",
    "    \"Deliciously smooth coffee, however, the customer service is often lacking.\",\n",
    "    \"Delicious and strong coffee, however, the cafe is always overcrowded.\",\n",
    "    \"Love the coffe but the wifi in that shop is terrible\",\n",
    "    \"Terrible the coffe but the wifi in that shop is great!\",\n",
    "    \"I hate the coffee, but the seating area is really good!\"\n",
    "]\n",
    "\n",
    "df = session.create_dataframe(coffee_reviews, schema=['REVIEWS'])\n",
    "df.show(n=15, max_width=1000)"
   ]
  },
  {
   "cell_type": "markdown",
   "metadata": {},
   "source": [
    "# Register & Run Sentiment Model"
   ]
  },
  {
   "cell_type": "code",
   "execution_count": 9,
   "metadata": {},
   "outputs": [],
   "source": [
    "# Get the model registry object\n",
    "from snowflake.ml.registry import Registry\n",
    "reg = Registry(\n",
    "    session=session, \n",
    "    database_name=session.get_current_database(), \n",
    "    schema_name=session.get_current_schema()\n",
    "    )"
   ]
  },
  {
   "cell_type": "code",
   "execution_count": 14,
   "metadata": {},
   "outputs": [],
   "source": [
    "# Get the aspect based sentiment model from Huggingface\n",
    "from transformers import pipeline\n",
    "pipe = pipeline(\"text-classification\", model=\"yangheng/deberta-v3-base-absa-v1.1\")\n",
    "\n",
    "# use SOWH because model is big\n",
    "session.use_warehouse('snowpark_opt_wh')\n",
    "\n",
    "# Register the model to Snowflake\n",
    "snow_model = reg.log_model(\n",
    "    pipe, \n",
    "    model_name='deberta_v3_base_absa_v1_1', \n",
    "    conda_dependencies=['tokenizers','transformers']\n",
    "    )"
   ]
  },
  {
   "cell_type": "code",
   "execution_count": 52,
   "metadata": {},
   "outputs": [
    {
     "name": "stdout",
     "output_type": "stream",
     "text": [
      "------------------------------------------------------------------------------------------------------------------\n",
      "|\"REVIEWS\"                                                                       |\"label\"   |\"score\"             |\n",
      "------------------------------------------------------------------------------------------------------------------\n",
      "|Great tasting coffee but the machine keeps breaking.                            |Positive  |0.9963699579238892  |\n",
      "|Love the coffe but the wifi in that shop is terrible                            |Positive  |0.9949190020561218  |\n",
      "|Terrible the coffe but the wifi in that shop is great!                          |Negative  |0.9925636649131776  |\n",
      "|Deliciously smooth coffee, however, the customer service is often lacking.      |Positive  |0.9963778853416444  |\n",
      "|I hate the coffee, but the seating area is really good!                         |Negative  |0.9926406741142272  |\n",
      "|Delicious and strong coffee, however, the cafe is always overcrowded.           |Positive  |0.9947526454925536  |\n",
      "|Love the coffee and the friendly staff, but the seating area is quite cramped.  |Positive  |0.996787428855896   |\n",
      "------------------------------------------------------------------------------------------------------------------\n",
      "\n"
     ]
    }
   ],
   "source": [
    "# Get the aspect based sentiment model from Huggingface\n",
    "from transformers import pipeline\n",
    "pipe = pipeline(\"text-classification\", model=\"yangheng/deberta-v3-base-absa-v1.1\")\n",
    "\n",
    "# use SOWH because model is big\n",
    "session.use_warehouse('snowpark_opt_wh')\n",
    "\n",
    "# Customize our model signature\n",
    "model_sig = ModelSignature(\n",
    "                  inputs=[\n",
    "                      FeatureSpec(dtype=DataType.STRING, name='TEXT')\n",
    "                      ],\n",
    "                      outputs=[\n",
    "                          FeatureSpec(dtype=DataType.STRING, name='label'),\n",
    "                          FeatureSpec(dtype=DataType.DOUBLE, name='score')\n",
    "                      ]\n",
    "                  )\n",
    "\n",
    "# Register the model to Snowflake\n",
    "snow_model = reg.log_model(\n",
    "    pipe, \n",
    "    signatures={'predict':model_sig},\n",
    "    model_name='deberta_v3_base_absa_v1_1', \n",
    "    conda_dependencies=['tokenizers','transformers']\n",
    "    )\n",
    "\n",
    "# Define the aspect\n",
    "aspect = 'coffee'\n",
    "\n",
    "# Create the query for the Hugging Face Model (Text must be started with [CLS], followed by the aspect between [SEP])\n",
    "df = df.with_column('TEXT',F.concat(F.lit('[CLS]'),F.col('REVIEWS'),F.lit('[SEP]'), F.lit(aspect), F.lit('[SEP]')))\n",
    "\n",
    "# Run the model\n",
    "scored_data = snow_model.run(df).cache_result()\n",
    "scored_data.drop('TEXT').show(n=10,max_width=1000)"
   ]
  }
 ],
 "metadata": {
  "kernelspec": {
   "display_name": "pysnowpark_huggingface",
   "language": "python",
   "name": "python3"
  },
  "language_info": {
   "codemirror_mode": {
    "name": "ipython",
    "version": 3
   },
   "file_extension": ".py",
   "mimetype": "text/x-python",
   "name": "python",
   "nbconvert_exporter": "python",
   "pygments_lexer": "ipython3",
   "version": "3.11.8"
  }
 },
 "nbformat": 4,
 "nbformat_minor": 2
}

{
 "cells": [
  {
   "cell_type": "markdown",
   "metadata": {},
   "source": [
    "# Imports"
   ]
  },
  {
   "cell_type": "code",
   "execution_count": 1,
   "metadata": {},
   "outputs": [],
   "source": [
    "import warnings\n",
    "warnings.filterwarnings(\"ignore\")\n",
    "\n",
    "# Load variables\n",
    "import os\n",
    "from dotenv import load_dotenv\n",
    "load_dotenv()\n",
    "\n",
    "# Snowpark Imports\n",
    "from snowflake.snowpark.session import Session\n",
    "import snowflake.snowpark.functions as F"
   ]
  },
  {
   "cell_type": "markdown",
   "metadata": {},
   "source": [
    "# Connect to Snowflake"
   ]
  },
  {
   "cell_type": "code",
   "execution_count": 2,
   "metadata": {},
   "outputs": [
    {
     "name": "stdout",
     "output_type": "stream",
     "text": [
      "Role:      \"ACCOUNTADMIN\"\n",
      "Warehouse: \"COMPUTE_WH\"\n",
      "Database:  \"MACHINE_LEARNING\"\n",
      "Schema:    \"PUBLIC\"\n"
     ]
    }
   ],
   "source": [
    "snowflake_connection_cfg = {\n",
    "    \"ACCOUNT\": os.getenv('SF_ACCOUNT'),\n",
    "    \"USER\": os.getenv('SF_USER'),\n",
    "    \"ROLE\": os.getenv('SF_ROLE'),\n",
    "    \"PASSWORD\": os.getenv('SF_PASSWORD'),\n",
    "    \"DATABASE\": os.getenv('SF_DATABASE'),\n",
    "    \"SCHEMA\": os.getenv('SF_SCHEMA'),\n",
    "    \"WAREHOUSE\": os.getenv('SF_WAREHOUSE')\n",
    "}\n",
    "\n",
    "# Creating Snowpark Session\n",
    "session = Session.builder.configs(snowflake_connection_cfg).create()\n",
    "\n",
    "print('Role:     ', session.get_current_role())\n",
    "print('Warehouse:', session.get_current_warehouse())\n",
    "print('Database: ', session.get_current_database())\n",
    "print('Schema:   ', session.get_current_schema())"
   ]
  },
  {
   "cell_type": "code",
   "execution_count": 22,
   "metadata": {},
   "outputs": [
    {
     "name": "stdout",
     "output_type": "stream",
     "text": [
      "---------------------------------------------------------------------------------------------------------------------------------------------------------------------------------------------------------------------------------------------------------------------------------------------------------------------------------------------------------------------------------------------------------------------------------------\n",
      "|\"context\"                                                                                                                                                                                                                                                                                                                                                                                                                            |\n",
      "---------------------------------------------------------------------------------------------------------------------------------------------------------------------------------------------------------------------------------------------------------------------------------------------------------------------------------------------------------------------------------------------------------------------------------------\n",
      "|Die Blockchain-Technologie bietet eine sichere Methode zur Aufzeichnung von Transaktionen. Sie basiert auf einer dezentralen Datenbank, die es ermöglicht, Informationen über Netzwerkknoten hinweg zu verteilen und zu verifizieren. Diese Technologie wird häufig in der Finanzwelt verwendet, insbesondere für Kryptowährungen wie Bitcoin.                                                                                       |\n",
      "|Quantencomputer nutzen die Prinzipien der Quantenmechanik, um Informationen zu verarbeiten. Im Gegensatz zu klassischen Computern, die Daten in Bits verarbeiten, verwenden Quantencomputer Qubits, die gleichzeitig mehrere Zustände einnehmen können. Dies ermöglicht es ihnen, komplexe Berechnungen schneller durchzuführen, was sie besonders nützlich für Aufgaben wie die Materialwissenschaft oder die Kryptographie macht.  |\n",
      "|Virtuelle Realität (VR) schafft eine künstlich generierte Welt mit Hilfe von Computergrafiken. Benutzer von VR-Brillen können in diese Welten eintauchen und interagieren, was das Gefühl vermittelt, physisch an einem anderen Ort zu sein. VR wird zunehmend in Bereichen wie Bildung, Training, Unterhaltung und sogar in der Medizin für therapeutische Zwecke eingesetzt.                                                       |\n",
      "---------------------------------------------------------------------------------------------------------------------------------------------------------------------------------------------------------------------------------------------------------------------------------------------------------------------------------------------------------------------------------------------------------------------------------------\n",
      "\n"
     ]
    }
   ],
   "source": [
    "# Create some test data to work with\n",
    "technology_texts_german = [\n",
    "    \"Die Blockchain-Technologie bietet eine sichere Methode zur Aufzeichnung von Transaktionen. Sie basiert auf einer dezentralen Datenbank, die es ermöglicht, Informationen über Netzwerkknoten hinweg zu verteilen und zu verifizieren. Diese Technologie wird häufig in der Finanzwelt verwendet, insbesondere für Kryptowährungen wie Bitcoin.\",\n",
    "    \"Quantencomputer nutzen die Prinzipien der Quantenmechanik, um Informationen zu verarbeiten. Im Gegensatz zu klassischen Computern, die Daten in Bits verarbeiten, verwenden Quantencomputer Qubits, die gleichzeitig mehrere Zustände einnehmen können. Dies ermöglicht es ihnen, komplexe Berechnungen schneller durchzuführen, was sie besonders nützlich für Aufgaben wie die Materialwissenschaft oder die Kryptographie macht.\",\n",
    "    \"Virtuelle Realität (VR) schafft eine künstlich generierte Welt mit Hilfe von Computergrafiken. Benutzer von VR-Brillen können in diese Welten eintauchen und interagieren, was das Gefühl vermittelt, physisch an einem anderen Ort zu sein. VR wird zunehmend in Bereichen wie Bildung, Training, Unterhaltung und sogar in der Medizin für therapeutische Zwecke eingesetzt.\"\n",
    "]\n",
    "\n",
    "df = session.create_dataframe(technology_texts_german, schema=['\"context\"'])\n",
    "df.show(n=15, max_width=1000)"
   ]
  },
  {
   "cell_type": "markdown",
   "metadata": {},
   "source": [
    "# Register & Run Question-Answer Model"
   ]
  },
  {
   "cell_type": "code",
   "execution_count": 18,
   "metadata": {},
   "outputs": [],
   "source": [
    "# Get the model registry object\n",
    "from snowflake.ml.registry import Registry\n",
    "reg = Registry(\n",
    "    session=session, \n",
    "    database_name=session.get_current_database(), \n",
    "    schema_name=session.get_current_schema()\n",
    "    )"
   ]
  },
  {
   "cell_type": "code",
   "execution_count": 31,
   "metadata": {},
   "outputs": [
    {
     "name": "stdout",
     "output_type": "stream",
     "text": [
      "-------------------------------------------------------------------------------------------------------------------------------------------------------------------------------------------------------------------\n",
      "|\"context\"                                                                                             |\"score\"              |\"answer\"                                                                            |\n",
      "-------------------------------------------------------------------------------------------------------------------------------------------------------------------------------------------------------------------\n",
      "|Die Blockchain-Technologie bietet eine sichere Methode zur Aufzeichnung von Transaktionen. Sie ba...  |0.29910144209861755  |in der Finanzwelt                                                                   |\n",
      "|Quantencomputer nutzen die Prinzipien der Quantenmechanik, um Informationen zu verarbeiten. Im Ge...  |0.14709903299808502  |Aufgaben wie die Materialwissenschaft oder die Kryptographie                        |\n",
      "|Virtuelle Realität (VR) schafft eine künstlich generierte Welt mit Hilfe von Computergrafiken. Be...  |0.06949145346879959  |Bildung, Training, Unterhaltung und sogar in der Medizin für therapeutische Zwecke  |\n",
      "-------------------------------------------------------------------------------------------------------------------------------------------------------------------------------------------------------------------\n",
      "\n"
     ]
    }
   ],
   "source": [
    "# Get the embedding model from Huggingface\n",
    "# Make sure it fits into a Snowflake warehouse and does not require GPUs\n",
    "# Otherwise the model must deployed in Snowpark Container Services\n",
    "from transformers import pipeline\n",
    "pipe = pipeline(\"question-answering\", model=\"deepset/gelectra-base-germanquad\")\n",
    "\n",
    "# Register the model to Snowflake (predict is the model's function we want to call)\n",
    "snow_model_custom = reg.log_model(\n",
    "    pipe, \n",
    "    model_name='gelectra_base_germanquad', \n",
    "    sample_input_data=df.limit(10),\n",
    "    conda_dependencies=['tokenizers','transformers','sentencepiece']\n",
    "    )\n",
    "\n",
    "# Model Output\n",
    "answers = snow_model_custom.run(df.select(F.lit('Wofür wird Blockchain hauptsächlich genutzt?').alias('\"question\"'), F.col('\"context\"'))).cache_result()\n",
    "answers.select(['\"context\"','\"score\"','\"answer\"']).show(max_width=100)"
   ]
  }
 ],
 "metadata": {
  "kernelspec": {
   "display_name": "pysnowpark_huggingface",
   "language": "python",
   "name": "python3"
  },
  "language_info": {
   "codemirror_mode": {
    "name": "ipython",
    "version": 3
   },
   "file_extension": ".py",
   "mimetype": "text/x-python",
   "name": "python",
   "nbconvert_exporter": "python",
   "pygments_lexer": "ipython3",
   "version": "3.11.8"
  }
 },
 "nbformat": 4,
 "nbformat_minor": 2
}

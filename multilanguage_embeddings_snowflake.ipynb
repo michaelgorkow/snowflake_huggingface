{
 "cells": [
  {
   "cell_type": "markdown",
   "metadata": {},
   "source": [
    "# Imports"
   ]
  },
  {
   "cell_type": "code",
   "execution_count": 1,
   "metadata": {},
   "outputs": [],
   "source": [
    "import warnings\n",
    "warnings.filterwarnings(\"ignore\")\n",
    "\n",
    "# Load variables\n",
    "import os\n",
    "from dotenv import load_dotenv\n",
    "load_dotenv()\n",
    "\n",
    "# Snowpark Imports\n",
    "from snowflake.snowpark.session import Session\n",
    "import snowflake.snowpark.functions as F\n",
    "from snowflake.snowpark.functions import pandas_udf\n",
    "import snowflake.snowpark.types as T\n",
    "\n",
    "# Other\n",
    "import pandas as pd\n",
    "from cachetools import cached"
   ]
  },
  {
   "cell_type": "markdown",
   "metadata": {},
   "source": [
    "# Connect to Snowflake"
   ]
  },
  {
   "cell_type": "code",
   "execution_count": 2,
   "metadata": {},
   "outputs": [
    {
     "name": "stdout",
     "output_type": "stream",
     "text": [
      "Role:      \"ACCOUNTADMIN\"\n",
      "Warehouse: \"SNOWPARK_OPT_WH\"\n",
      "Database:  \"MACHINE_LEARNING\"\n",
      "Schema:    \"PUBLIC\"\n"
     ]
    }
   ],
   "source": [
    "snowflake_connection_cfg = {\n",
    "    \"ACCOUNT\": os.getenv('SF_ACCOUNT'),\n",
    "    \"USER\": os.getenv('SF_USER'),\n",
    "    \"ROLE\": os.getenv('SF_ROLE'),\n",
    "    \"PASSWORD\": os.getenv('SF_PASSWORD'),\n",
    "    \"DATABASE\": os.getenv('SF_DATABASE'),\n",
    "    \"SCHEMA\": os.getenv('SF_SCHEMA'),\n",
    "    \"WAREHOUSE\": os.getenv('SF_WAREHOUSE')\n",
    "}\n",
    "\n",
    "# Creating Snowpark Session\n",
    "session = Session.builder.configs(snowflake_connection_cfg).create()\n",
    "\n",
    "# Use Snowpark Optimized Warehouse\n",
    "session.use_warehouse('snowpark_opt_wh')\n",
    "\n",
    "print('Role:     ', session.get_current_role())\n",
    "print('Warehouse:', session.get_current_warehouse())\n",
    "print('Database: ', session.get_current_database())\n",
    "print('Schema:   ', session.get_current_schema())"
   ]
  },
  {
   "cell_type": "markdown",
   "metadata": {},
   "source": [
    "## Create an External Access Integration\n",
    "This allows Snowflake to download models from Hugginface."
   ]
  },
  {
   "cell_type": "code",
   "execution_count": 3,
   "metadata": {},
   "outputs": [
    {
     "data": {
      "text/plain": [
       "[Row(status='Integration HF_INT successfully created.')]"
      ]
     },
     "execution_count": 3,
     "metadata": {},
     "output_type": "execute_result"
    }
   ],
   "source": [
    "session.sql(\"\"\"CREATE OR REPLACE NETWORK RULE hf_rule\n",
    "                  MODE = EGRESS\n",
    "                  TYPE = HOST_PORT\n",
    "                  VALUE_LIST = ('huggingface.co','cdn-lfs-us-1.huggingface.co')\"\"\").collect()\n",
    "\n",
    "\n",
    "session.sql(\"\"\"CREATE OR REPLACE EXTERNAL ACCESS INTEGRATION hf_int\n",
    "                  ALLOWED_NETWORK_RULES = (hf_rule)\n",
    "                  ENABLED = true;\"\"\").collect()"
   ]
  },
  {
   "cell_type": "markdown",
   "metadata": {},
   "source": [
    "## Create some Test Data\n",
    "Goal is to retrieve sentences related to AI. Other sentences should have higher distance."
   ]
  },
  {
   "cell_type": "code",
   "execution_count": 4,
   "metadata": {},
   "outputs": [
    {
     "name": "stdout",
     "output_type": "stream",
     "text": [
      "------------------------------------------------------\n",
      "|\"TEXT\"                                              |\n",
      "------------------------------------------------------\n",
      "|AI refers to the simulation of human intelligen...  |\n",
      "|The potential for AI to improve healthcare is v...  |\n",
      "|AI technologies, such as machine learning and d...  |\n",
      "|Ethical considerations are crucial in the devel...  |\n",
      "|As AI continues to evolve, the need for skilled...  |\n",
      "|Political campaigns increasingly leverage data ...  |\n",
      "|Major sporting events, such as the Olympics and...  |\n",
      "|In business, strategic mergers and acquisitions...  |\n",
      "|The intersection of sports and politics often m...  |\n",
      "|Technological innovations in business, like blo...  |\n",
      "------------------------------------------------------\n",
      "\n"
     ]
    }
   ],
   "source": [
    "ai_sentences = [\n",
    "    \"AI refers to the simulation of human intelligence in machines that are programmed to think like humans and mimic their actions.\",\n",
    "    \"The potential for AI to improve healthcare is vast, with applications ranging from diagnostic tools to personalized medicine.\",\n",
    "    \"AI technologies, such as machine learning and deep learning, are increasingly integral to advancements in sectors like finance, transportation, and security.\",\n",
    "    \"Ethical considerations are crucial in the development and deployment of AI, ensuring technologies are used responsibly and do not perpetuate biases.\",\n",
    "    \"As AI continues to evolve, the need for skilled professionals to design, manage, and oversee these systems is growing exponentially.\"\n",
    "]\n",
    "\n",
    "mixed_topics_sentences = [\n",
    "    \"Political campaigns increasingly leverage data analytics to target voters and optimize their messages.\",\n",
    "    \"Major sporting events, such as the Olympics and the FIFA World Cup, significantly boost the economy of the host country through tourism and infrastructure improvements.\",\n",
    "    \"In business, strategic mergers and acquisitions can reshape industries, creating new market leaders and altering competitive dynamics.\",\n",
    "    \"The intersection of sports and politics often manifests when athletes take public stands on political issues, influencing public opinion and policy.\",\n",
    "    \"Technological innovations in business, like blockchain and AI, are becoming pivotal in enhancing transparency and efficiency in financial transactions and governance.\"\n",
    "]\n",
    "\n",
    "search_text = 'AI is transforming industries by automating complex processes, enhancing decision-making with predictive analytics, and personalizing user experiences at an unprecedented scale.'\n",
    "\n",
    "df = session.create_dataframe(ai_sentences+mixed_topics_sentences, schema=['TEXT'])\n",
    "df.show()"
   ]
  },
  {
   "cell_type": "markdown",
   "metadata": {},
   "source": [
    "## Create the Functions for Arctic Models from Snowflake\n",
    "<b>Note:</b>  \n",
    "These functions will download the model when being excuted.  \n",
    "For <b><u>optimal performance</u></b>, I strongly recommend to upload the model files to a Snowflake stage first and then point the Functions to the model files on stage.  \n",
    "You find this optimized approach the end."
   ]
  },
  {
   "cell_type": "code",
   "execution_count": 5,
   "metadata": {},
   "outputs": [
    {
     "data": {
      "text/plain": [
       "[Row(status='Stage area FUNCTIONS successfully created.')]"
      ]
     },
     "execution_count": 5,
     "metadata": {},
     "output_type": "execute_result"
    }
   ],
   "source": [
    "# Create a stage to host our functions\n",
    "session.sql('CREATE OR REPLACE STAGE FUNCTIONS').collect()"
   ]
  },
  {
   "cell_type": "markdown",
   "metadata": {},
   "source": [
    "# Arctic XS Model"
   ]
  },
  {
   "cell_type": "code",
   "execution_count": 6,
   "metadata": {},
   "outputs": [
    {
     "name": "stderr",
     "output_type": "stream",
     "text": [
      "Package 'pytorch' is not installed in the local environment. Your UDF might not work when the package is installed on the server but not on your local environment.\n",
      "The version of package 'cachetools' in the local environment is 5.3.3, which does not fit the criteria for the requirement 'cachetools'. Your UDF might not work when the package version is different between the server and your local environment.\n"
     ]
    }
   ],
   "source": [
    "@cached(cache={})\n",
    "def load_model() -> object:\n",
    "    import os\n",
    "    os.environ[\"HF_HOME\"] = '/tmp'\n",
    "    from transformers import AutoModel, AutoTokenizer\n",
    "    tokenizer = AutoTokenizer.from_pretrained(\"Snowflake/snowflake-arctic-embed-xs\")\n",
    "    model = AutoModel.from_pretrained(\"Snowflake/snowflake-arctic-embed-xs\", add_pooling_layer=False)\n",
    "    return tokenizer, model\n",
    "    \n",
    "\n",
    "def embed_arctic_xs(text: pd.Series) -> pd.Series:\n",
    "    tokenizer, model = load_model()\n",
    "    embeddings = model(**tokenizer(text.tolist(), padding=True, truncation=True, return_tensors='pt', max_length=512))[0][:, 0]\n",
    "    return embeddings.tolist()\n",
    "\n",
    "embed_arctic_xs = pandas_udf(\n",
    "    session=session,\n",
    "    name=\"EMBED_ARCTIC_XS\", \n",
    "    func=embed_arctic_xs,\n",
    "    return_type=T.ArrayType(), \n",
    "    input_types=[T.StringType()], \n",
    "    packages=['pytorch','transformers','cachetools'], \n",
    "    is_permanent=True, \n",
    "    replace=True,\n",
    "    stage_location='@FUNCTIONS', \n",
    "    external_access_integrations=['HF_INT']\n",
    "    )"
   ]
  },
  {
   "cell_type": "code",
   "execution_count": 7,
   "metadata": {},
   "outputs": [
    {
     "name": "stdout",
     "output_type": "stream",
     "text": [
      "-----------------------------------------------------------------------------------------------------------\n",
      "|\"TEXT\"                                              |\"EMBEDDING_XS\"                                      |\n",
      "-----------------------------------------------------------------------------------------------------------\n",
      "|The potential for AI to improve healthcare is v...  |[-0.0001352909894194454, 0.40068864822387695, 0...  |\n",
      "|Political campaigns increasingly leverage data ...  |[-0.16542716324329376, 0.32436394691467285, -0....  |\n",
      "|Major sporting events, such as the Olympics and...  |[0.16280654072761536, 1.099736213684082, 0.1863...  |\n",
      "|The intersection of sports and politics often m...  |[-0.4530579745769501, 0.24810077250003815, 0.19...  |\n",
      "|As AI continues to evolve, the need for skilled...  |[-0.2427491992712021, 0.6662875413894653, -0.07...  |\n",
      "|AI technologies, such as machine learning and d...  |[0.2519180178642273, 0.3343959450721741, -0.007...  |\n",
      "|Ethical considerations are crucial in the devel...  |[-0.29632332921028137, 0.563687801361084, -0.23...  |\n",
      "|AI refers to the simulation of human intelligen...  |[0.28594380617141724, 0.23065607249736786, -0.1...  |\n",
      "|Technological innovations in business, like blo...  |[0.1598115861415863, 0.6208478808403015, -0.335...  |\n",
      "|In business, strategic mergers and acquisitions...  |[0.21651607751846313, 0.7585282325744629, 0.070...  |\n",
      "-----------------------------------------------------------------------------------------------------------\n",
      "\n"
     ]
    }
   ],
   "source": [
    "# Run Embedding Model\n",
    "embedded_df_xs = df.with_column('EMBEDDING_XS', embed_arctic_xs('TEXT').cast(T.VectorType(float,384)))\n",
    "embedded_df_xs.write.save_as_table('EMBEDDINGS_XS', mode='overwrite')\n",
    "\n",
    "# Outputs:\n",
    "embedded_df_xs = session.table('EMBEDDINGS_XS')\n",
    "embedded_df_xs.show()"
   ]
  },
  {
   "cell_type": "code",
   "execution_count": 8,
   "metadata": {},
   "outputs": [
    {
     "name": "stdout",
     "output_type": "stream",
     "text": [
      "--------------------------------------------------------------------------------------------------------------------------------------------\n",
      "|\"TEXT\"                                              |\"EMBEDDING_XS\"                                      |\"VECTOR_DISTANCE_XS_EMBEDDING\"  |\n",
      "--------------------------------------------------------------------------------------------------------------------------------------------\n",
      "|AI technologies, such as machine learning and d...  |[0.2519180178642273, 0.3343959450721741, -0.007...  |5.26300961887902                |\n",
      "|As AI continues to evolve, the need for skilled...  |[-0.2427491992712021, 0.6662875413894653, -0.07...  |5.374090073325059               |\n",
      "|The potential for AI to improve healthcare is v...  |[-0.0001352909894194454, 0.40068864822387695, 0...  |5.620593230951895               |\n",
      "|AI refers to the simulation of human intelligen...  |[0.28594380617141724, 0.23065607249736786, -0.1...  |6.300694067127768               |\n",
      "|Ethical considerations are crucial in the devel...  |[-0.29632332921028137, 0.563687801361084, -0.23...  |6.485275610461929               |\n",
      "|Technological innovations in business, like blo...  |[0.1598115861415863, 0.6208478808403015, -0.335...  |6.707793915032197               |\n",
      "|In business, strategic mergers and acquisitions...  |[0.21651607751846313, 0.7585282325744629, 0.070...  |7.300782033757984               |\n",
      "|Political campaigns increasingly leverage data ...  |[-0.16542716324329376, 0.32436394691467285, -0....  |7.353436513933681               |\n",
      "|Major sporting events, such as the Olympics and...  |[0.16280654072761536, 1.099736213684082, 0.1863...  |8.475391444165629               |\n",
      "|The intersection of sports and politics often m...  |[-0.4530579745769501, 0.24810077250003815, 0.19...  |8.769733520078224               |\n",
      "--------------------------------------------------------------------------------------------------------------------------------------------\n",
      "\n"
     ]
    }
   ],
   "source": [
    "# Calculate distances to search query\n",
    "distances = embedded_df_xs.with_column(\n",
    "    'VECTOR_DISTANCE_XS_EMBEDDING', \n",
    "    F.vector_l2_distance(\n",
    "        F.col('EMBEDDING_XS'),\n",
    "        embed_arctic_xs(F.lit(search_text)).cast(T.VectorType(float,384))\n",
    "    )\n",
    ").order_by('VECTOR_DISTANCE_XS_EMBEDDING').show()"
   ]
  },
  {
   "cell_type": "markdown",
   "metadata": {},
   "source": [
    "# Arctic S Model"
   ]
  },
  {
   "cell_type": "code",
   "execution_count": 9,
   "metadata": {},
   "outputs": [
    {
     "name": "stderr",
     "output_type": "stream",
     "text": [
      "Package 'pytorch' is not installed in the local environment. Your UDF might not work when the package is installed on the server but not on your local environment.\n",
      "The version of package 'cachetools' in the local environment is 5.3.3, which does not fit the criteria for the requirement 'cachetools'. Your UDF might not work when the package version is different between the server and your local environment.\n"
     ]
    }
   ],
   "source": [
    "@cached(cache={})\n",
    "def load_model() -> object:\n",
    "    import os\n",
    "    os.environ[\"HF_HOME\"] = '/tmp'\n",
    "    from transformers import AutoModel, AutoTokenizer\n",
    "    tokenizer = AutoTokenizer.from_pretrained(\"Snowflake/snowflake-arctic-embed-s\")\n",
    "    model = AutoModel.from_pretrained(\"Snowflake/snowflake-arctic-embed-s\", add_pooling_layer=False)\n",
    "    return tokenizer, model\n",
    "    \n",
    "\n",
    "def embed_arctic_s(text: pd.Series) -> pd.Series:\n",
    "    tokenizer, model = load_model()\n",
    "    embeddings = model(**tokenizer(text.tolist(), padding=True, truncation=True, return_tensors='pt', max_length=512))[0][:, 0]\n",
    "    return embeddings.tolist()\n",
    "\n",
    "embed_arctic_s = pandas_udf(\n",
    "    session=session,\n",
    "    name=\"EMBED_ARCTIC_S\", \n",
    "    func=embed_arctic_s,\n",
    "    return_type=T.ArrayType(), \n",
    "    input_types=[T.StringType()], \n",
    "    packages=['pytorch','transformers','cachetools'], \n",
    "    is_permanent=True, \n",
    "    replace=True,\n",
    "    stage_location='@FUNCTIONS', \n",
    "    external_access_integrations=['HF_INT']\n",
    "    )"
   ]
  },
  {
   "cell_type": "code",
   "execution_count": 10,
   "metadata": {},
   "outputs": [
    {
     "name": "stdout",
     "output_type": "stream",
     "text": [
      "-----------------------------------------------------------------------------------------------------------\n",
      "|\"TEXT\"                                              |\"EMBEDDING_S\"                                       |\n",
      "-----------------------------------------------------------------------------------------------------------\n",
      "|Ethical considerations are crucial in the devel...  |[-0.07469506561756134, -0.08195497840642929, -0...  |\n",
      "|As AI continues to evolve, the need for skilled...  |[-0.049789149314165115, -0.3286069929599762, -0...  |\n",
      "|In business, strategic mergers and acquisitions...  |[0.18188203871250153, -0.2920404374599457, -0.1...  |\n",
      "|Technological innovations in business, like blo...  |[-0.21616318821907043, -0.3488922715187073, -0....  |\n",
      "|The intersection of sports and politics often m...  |[-0.17553821206092834, 0.049565475434064865, -0...  |\n",
      "|The potential for AI to improve healthcare is v...  |[-0.12555864453315735, -0.1989528238773346, -0....  |\n",
      "|Political campaigns increasingly leverage data ...  |[-0.10299614816904068, -0.19540853798389435, -0...  |\n",
      "|AI technologies, such as machine learning and d...  |[-0.01815970055758953, -0.3376675248146057, -0....  |\n",
      "|AI refers to the simulation of human intelligen...  |[-0.12342896312475204, -0.3106103241443634, -0....  |\n",
      "|Major sporting events, such as the Olympics and...  |[-0.2001800686120987, -0.1358056217432022, -0.1...  |\n",
      "-----------------------------------------------------------------------------------------------------------\n",
      "\n"
     ]
    }
   ],
   "source": [
    "# Run Embedding Model\n",
    "embedded_df_s = df.with_column('EMBEDDING_S', embed_arctic_s('TEXT').cast(T.VectorType(float,384)))\n",
    "embedded_df_s.write.save_as_table('EMBEDDINGS_S', mode='overwrite')\n",
    "\n",
    "# Outputs:\n",
    "embedded_df_s = session.table('EMBEDDINGS_S')\n",
    "embedded_df_s.show()"
   ]
  },
  {
   "cell_type": "code",
   "execution_count": 11,
   "metadata": {},
   "outputs": [
    {
     "name": "stdout",
     "output_type": "stream",
     "text": [
      "-------------------------------------------------------------------------------------------------------------------------------------------\n",
      "|\"TEXT\"                                              |\"EMBEDDING_S\"                                       |\"VECTOR_DISTANCE_S_EMBEDDING\"  |\n",
      "-------------------------------------------------------------------------------------------------------------------------------------------\n",
      "|AI technologies, such as machine learning and d...  |[-0.01815970055758953, -0.3376675248146057, -0....  |2.2046929589845377             |\n",
      "|As AI continues to evolve, the need for skilled...  |[-0.049789149314165115, -0.3286069929599762, -0...  |2.2446368194301183             |\n",
      "|The potential for AI to improve healthcare is v...  |[-0.12555864453315735, -0.1989528238773346, -0....  |2.3709271292298126             |\n",
      "|Technological innovations in business, like blo...  |[-0.21616318821907043, -0.3488922715187073, -0....  |2.7660335950155925             |\n",
      "|AI refers to the simulation of human intelligen...  |[-0.12342896312475204, -0.3106103241443634, -0....  |2.8327526357630246             |\n",
      "|Ethical considerations are crucial in the devel...  |[-0.07469506561756134, -0.08195497840642929, -0...  |2.865568530276145              |\n",
      "|In business, strategic mergers and acquisitions...  |[0.18188203871250153, -0.2920404374599457, -0.1...  |2.89452844946516               |\n",
      "|Political campaigns increasingly leverage data ...  |[-0.10299614816904068, -0.19540853798389435, -0...  |2.937575805984547              |\n",
      "|Major sporting events, such as the Olympics and...  |[-0.2001800686120987, -0.1358056217432022, -0.1...  |3.4803392790786303             |\n",
      "|The intersection of sports and politics often m...  |[-0.17553821206092834, 0.049565475434064865, -0...  |3.7025246435320205             |\n",
      "-------------------------------------------------------------------------------------------------------------------------------------------\n",
      "\n"
     ]
    }
   ],
   "source": [
    "# Calculate distances to search query\n",
    "distances = embedded_df_s.with_column(\n",
    "    'VECTOR_DISTANCE_S_EMBEDDING', \n",
    "    F.vector_l2_distance(\n",
    "        F.col('EMBEDDING_S'),\n",
    "        embed_arctic_s(F.lit(search_text)).cast(T.VectorType(float,384))\n",
    "    )\n",
    ").order_by('VECTOR_DISTANCE_S_EMBEDDING').show()"
   ]
  },
  {
   "cell_type": "markdown",
   "metadata": {},
   "source": [
    "# Arctic M Model"
   ]
  },
  {
   "cell_type": "code",
   "execution_count": 12,
   "metadata": {},
   "outputs": [
    {
     "name": "stderr",
     "output_type": "stream",
     "text": [
      "Package 'pytorch' is not installed in the local environment. Your UDF might not work when the package is installed on the server but not on your local environment.\n",
      "The version of package 'cachetools' in the local environment is 5.3.3, which does not fit the criteria for the requirement 'cachetools'. Your UDF might not work when the package version is different between the server and your local environment.\n"
     ]
    }
   ],
   "source": [
    "@cached(cache={})\n",
    "def load_model() -> object:\n",
    "    import os\n",
    "    os.environ[\"HF_HOME\"] = '/tmp'\n",
    "    from transformers import AutoModel, AutoTokenizer\n",
    "    tokenizer = AutoTokenizer.from_pretrained(\"Snowflake/snowflake-arctic-embed-m\")\n",
    "    model = AutoModel.from_pretrained(\"Snowflake/snowflake-arctic-embed-m\", add_pooling_layer=False)\n",
    "    return tokenizer, model\n",
    "    \n",
    "\n",
    "def embed_arctic_m(text: pd.Series) -> pd.Series:\n",
    "    tokenizer, model = load_model()\n",
    "    embeddings = model(**tokenizer(text.tolist(), padding=True, truncation=True, return_tensors='pt', max_length=512))[0][:, 0]\n",
    "    return embeddings.tolist()\n",
    "\n",
    "embed_arctic_m = pandas_udf(\n",
    "    session=session,\n",
    "    name=\"EMBED_ARCTIC_M\", \n",
    "    func=embed_arctic_m,\n",
    "    return_type=T.ArrayType(), \n",
    "    input_types=[T.StringType()], \n",
    "    packages=['pytorch','transformers','cachetools'], \n",
    "    is_permanent=True, \n",
    "    replace=True,\n",
    "    stage_location='@FUNCTIONS', \n",
    "    external_access_integrations=['HF_INT']\n",
    "    )"
   ]
  },
  {
   "cell_type": "code",
   "execution_count": 13,
   "metadata": {},
   "outputs": [
    {
     "name": "stdout",
     "output_type": "stream",
     "text": [
      "-----------------------------------------------------------------------------------------------------------\n",
      "|\"TEXT\"                                              |\"EMBEDDING_M\"                                       |\n",
      "-----------------------------------------------------------------------------------------------------------\n",
      "|As AI continues to evolve, the need for skilled...  |[0.26411405205726624, 0.2557848393917084, -0.26...  |\n",
      "|Ethical considerations are crucial in the devel...  |[-0.15665480494499207, 0.6648065447807312, -0.4...  |\n",
      "|Political campaigns increasingly leverage data ...  |[-0.07612626254558563, 0.11559521406888962, -0....  |\n",
      "|The intersection of sports and politics often m...  |[0.15341803431510925, 0.15423737466335297, -0.7...  |\n",
      "|AI refers to the simulation of human intelligen...  |[0.0372220054268837, 0.5137598514556885, -0.245...  |\n",
      "|The potential for AI to improve healthcare is v...  |[0.5622907280921936, 0.2611202001571655, -0.300...  |\n",
      "|AI technologies, such as machine learning and d...  |[0.11811910569667816, 0.06497251987457275, -0.2...  |\n",
      "|Technological innovations in business, like blo...  |[0.1994236260652542, 0.2557758390903473, -0.275...  |\n",
      "|Major sporting events, such as the Olympics and...  |[0.07146310806274414, 0.10744042694568634, -0.1...  |\n",
      "|In business, strategic mergers and acquisitions...  |[-0.07596161216497421, 0.01427883468568325, -0....  |\n",
      "-----------------------------------------------------------------------------------------------------------\n",
      "\n"
     ]
    }
   ],
   "source": [
    "# Run Embedding Model\n",
    "embedded_df_m = df.with_column('EMBEDDING_M', embed_arctic_m('TEXT').cast(T.VectorType(float,768)))\n",
    "embedded_df_m.write.save_as_table('EMBEDDINGS_M', mode='overwrite')\n",
    "\n",
    "# Outputs:\n",
    "embedded_df_m = session.table('EMBEDDINGS_M')\n",
    "embedded_df_m.show()"
   ]
  },
  {
   "cell_type": "code",
   "execution_count": 14,
   "metadata": {},
   "outputs": [
    {
     "name": "stdout",
     "output_type": "stream",
     "text": [
      "-------------------------------------------------------------------------------------------------------------------------------------------\n",
      "|\"TEXT\"                                              |\"EMBEDDING_M\"                                       |\"VECTOR_DISTANCE_M_EMBEDDING\"  |\n",
      "-------------------------------------------------------------------------------------------------------------------------------------------\n",
      "|AI technologies, such as machine learning and d...  |[0.11811910569667816, 0.06497251987457275, -0.2...  |6.228082296681562              |\n",
      "|The potential for AI to improve healthcare is v...  |[0.5622907280921936, 0.2611202001571655, -0.300...  |6.797850089449093              |\n",
      "|Technological innovations in business, like blo...  |[0.1994236260652542, 0.2557758390903473, -0.275...  |7.604252589188865              |\n",
      "|AI refers to the simulation of human intelligen...  |[0.0372220054268837, 0.5137598514556885, -0.245...  |7.612079116386081              |\n",
      "|As AI continues to evolve, the need for skilled...  |[0.26411405205726624, 0.2557848393917084, -0.26...  |7.6742906671335005             |\n",
      "|Ethical considerations are crucial in the devel...  |[-0.15665480494499207, 0.6648065447807312, -0.4...  |8.395047462606394              |\n",
      "|Political campaigns increasingly leverage data ...  |[-0.07612626254558563, 0.11559521406888962, -0....  |8.462733535136195              |\n",
      "|In business, strategic mergers and acquisitions...  |[-0.07596161216497421, 0.01427883468568325, -0....  |8.482412655777283              |\n",
      "|Major sporting events, such as the Olympics and...  |[0.07146310806274414, 0.10744042694568634, -0.1...  |9.6985579844397                |\n",
      "|The intersection of sports and politics often m...  |[0.15341803431510925, 0.15423737466335297, -0.7...  |10.534075349513989             |\n",
      "-------------------------------------------------------------------------------------------------------------------------------------------\n",
      "\n"
     ]
    }
   ],
   "source": [
    "# Calculate distances to search query\n",
    "distances = embedded_df_m.with_column(\n",
    "    'VECTOR_DISTANCE_M_EMBEDDING', \n",
    "    F.vector_l2_distance(\n",
    "        F.col('EMBEDDING_M'),\n",
    "        embed_arctic_m(F.lit(search_text)).cast(T.VectorType(float,768))\n",
    "    )\n",
    ").order_by('VECTOR_DISTANCE_M_EMBEDDING').show()"
   ]
  },
  {
   "cell_type": "markdown",
   "metadata": {},
   "source": [
    "# Arctic L Model"
   ]
  },
  {
   "cell_type": "code",
   "execution_count": 15,
   "metadata": {},
   "outputs": [
    {
     "name": "stderr",
     "output_type": "stream",
     "text": [
      "Package 'pytorch' is not installed in the local environment. Your UDF might not work when the package is installed on the server but not on your local environment.\n",
      "The version of package 'cachetools' in the local environment is 5.3.3, which does not fit the criteria for the requirement 'cachetools'. Your UDF might not work when the package version is different between the server and your local environment.\n"
     ]
    }
   ],
   "source": [
    "@cached(cache={})\n",
    "def load_model() -> object:\n",
    "    import os\n",
    "    os.environ[\"HF_HOME\"] = '/tmp'\n",
    "    from transformers import AutoModel, AutoTokenizer\n",
    "    tokenizer = AutoTokenizer.from_pretrained(\"Snowflake/snowflake-arctic-embed-l\")\n",
    "    model = AutoModel.from_pretrained(\"Snowflake/snowflake-arctic-embed-l\", add_pooling_layer=False)\n",
    "    return tokenizer, model\n",
    "    \n",
    "\n",
    "def embed_arctic_l(text: pd.Series) -> pd.Series:\n",
    "    tokenizer, model = load_model()\n",
    "    embeddings = model(**tokenizer(text.tolist(), padding=True, truncation=True, return_tensors='pt', max_length=512))[0][:, 0]\n",
    "    return embeddings.tolist()\n",
    "\n",
    "embed_arctic_l = pandas_udf(\n",
    "    session=session,\n",
    "    name=\"EMBED_ARCTIC_L\", \n",
    "    func=embed_arctic_l,\n",
    "    return_type=T.ArrayType(), \n",
    "    input_types=[T.StringType()], \n",
    "    packages=['pytorch','transformers','cachetools'], \n",
    "    is_permanent=True, \n",
    "    replace=True,\n",
    "    stage_location='@FUNCTIONS', \n",
    "    external_access_integrations=['HF_INT']\n",
    "    )"
   ]
  },
  {
   "cell_type": "code",
   "execution_count": 16,
   "metadata": {},
   "outputs": [
    {
     "name": "stdout",
     "output_type": "stream",
     "text": [
      "-----------------------------------------------------------------------------------------------------------\n",
      "|\"TEXT\"                                              |\"EMBEDDING_L\"                                       |\n",
      "-----------------------------------------------------------------------------------------------------------\n",
      "|AI refers to the simulation of human intelligen...  |[0.926182746887207, -1.996230125427246, -0.8437...  |\n",
      "|The intersection of sports and politics often m...  |[0.23365822434425354, -1.5001283884048462, -0.4...  |\n",
      "|As AI continues to evolve, the need for skilled...  |[0.3951736390590668, -0.7839894890785217, -0.01...  |\n",
      "|The potential for AI to improve healthcare is v...  |[0.4619120657444, -1.2435344457626343, -0.52466...  |\n",
      "|Major sporting events, such as the Olympics and...  |[0.2846733629703522, -1.8977553844451904, -1.29...  |\n",
      "|Technological innovations in business, like blo...  |[0.3795325458049774, -1.3688700199127197, -0.48...  |\n",
      "|AI technologies, such as machine learning and d...  |[0.936636745929718, -1.4382154941558838, -0.645...  |\n",
      "|Political campaigns increasingly leverage data ...  |[0.2195805460214615, -1.3803067207336426, -0.32...  |\n",
      "|Ethical considerations are crucial in the devel...  |[0.7247706055641174, -0.8766656517982483, -0.74...  |\n",
      "|In business, strategic mergers and acquisitions...  |[0.20250287652015686, -1.321860432624817, -0.51...  |\n",
      "-----------------------------------------------------------------------------------------------------------\n",
      "\n"
     ]
    }
   ],
   "source": [
    "# Run Embedding Model\n",
    "embedded_df_l = df.with_column('EMBEDDING_L', embed_arctic_l('TEXT').cast(T.VectorType(float,1024)))\n",
    "embedded_df_l.write.save_as_table('EMBEDDINGS_L', mode='overwrite')\n",
    "\n",
    "# Outputs:\n",
    "embedded_df_l = session.table('EMBEDDINGS_L')\n",
    "embedded_df_l.show()"
   ]
  },
  {
   "cell_type": "code",
   "execution_count": 17,
   "metadata": {},
   "outputs": [
    {
     "name": "stdout",
     "output_type": "stream",
     "text": [
      "-------------------------------------------------------------------------------------------------------------------------------------------\n",
      "|\"TEXT\"                                              |\"EMBEDDING_L\"                                       |\"VECTOR_DISTANCE_L_EMBEDDING\"  |\n",
      "-------------------------------------------------------------------------------------------------------------------------------------------\n",
      "|AI technologies, such as machine learning and d...  |[0.936636745929718, -1.4382154941558838, -0.645...  |8.980712143966812              |\n",
      "|The potential for AI to improve healthcare is v...  |[0.4619120657444, -1.2435344457626343, -0.52466...  |9.82795266393022               |\n",
      "|As AI continues to evolve, the need for skilled...  |[0.3951736390590668, -0.7839894890785217, -0.01...  |10.337995974394726             |\n",
      "|AI refers to the simulation of human intelligen...  |[0.926182746887207, -1.996230125427246, -0.8437...  |11.223088607665352             |\n",
      "|Technological innovations in business, like blo...  |[0.3795325458049774, -1.3688700199127197, -0.48...  |11.450959837549508             |\n",
      "|Ethical considerations are crucial in the devel...  |[0.7247706055641174, -0.8766656517982483, -0.74...  |12.253100567233675             |\n",
      "|In business, strategic mergers and acquisitions...  |[0.20250287652015686, -1.321860432624817, -0.51...  |12.523370486798248             |\n",
      "|Political campaigns increasingly leverage data ...  |[0.2195805460214615, -1.3803067207336426, -0.32...  |12.885044364926836             |\n",
      "|Major sporting events, such as the Olympics and...  |[0.2846733629703522, -1.8977553844451904, -1.29...  |15.720987877320788             |\n",
      "|The intersection of sports and politics often m...  |[0.23365822434425354, -1.5001283884048462, -0.4...  |15.842671314364885             |\n",
      "-------------------------------------------------------------------------------------------------------------------------------------------\n",
      "\n"
     ]
    }
   ],
   "source": [
    "# Calculate distances to search query\n",
    "distances = embedded_df_l.with_column(\n",
    "    'VECTOR_DISTANCE_L_EMBEDDING', \n",
    "    F.vector_l2_distance(\n",
    "        F.col('EMBEDDING_L'),\n",
    "        embed_arctic_l(F.lit(search_text)).cast(T.VectorType(float,1024))\n",
    "    )\n",
    ").order_by('VECTOR_DISTANCE_L_EMBEDDING').show()"
   ]
  },
  {
   "cell_type": "markdown",
   "metadata": {},
   "source": [
    "# Optimal performance\n",
    "Note:  \n",
    "This approach is <b><u>much faster</u></b> than downloading the model files with every call."
   ]
  },
  {
   "cell_type": "code",
   "execution_count": 18,
   "metadata": {},
   "outputs": [
    {
     "data": {
      "text/plain": [
       "[Row(status='HF_MODELS already exists, statement succeeded.')]"
      ]
     },
     "execution_count": 18,
     "metadata": {},
     "output_type": "execute_result"
    }
   ],
   "source": [
    "# Create a stage for HF models\n",
    "session.sql('CREATE STAGE IF NOT EXISTS HF_MODELS').collect()"
   ]
  },
  {
   "cell_type": "code",
   "execution_count": 19,
   "metadata": {},
   "outputs": [
    {
     "data": {
      "text/plain": [
       "[PutResult(source='arctic_model_xs.joblib', target='arctic_model_xs.joblib', source_size=90321645, target_size=0, source_compression='NONE', target_compression='NONE', status='SKIPPED', message='')]"
      ]
     },
     "execution_count": 19,
     "metadata": {},
     "output_type": "execute_result"
    }
   ],
   "source": [
    "import os\n",
    "import joblib\n",
    "os.environ[\"HF_HOME\"] = '/tmp'\n",
    "\n",
    "from transformers import AutoModel, AutoTokenizer\n",
    "tokenizer = AutoTokenizer.from_pretrained(\"Snowflake/snowflake-arctic-embed-xs\")\n",
    "model = AutoModel.from_pretrained(\"Snowflake/snowflake-arctic-embed-xs\", add_pooling_layer=False)\n",
    "\n",
    "# Save the tokenizer and model using joblib\n",
    "import joblib\n",
    "joblib.dump(tokenizer, '/tmp/arctic_tokenizer_xs.joblib')\n",
    "joblib.dump(model, '/tmp/arctic_model_xs.joblib')\n",
    "\n",
    "# Upload to Snowflake\n",
    "session.file.put('/tmp/arctic_tokenizer_xs.joblib', stage_location='@HF_MODELS/', auto_compress=False)\n",
    "session.file.put('/tmp/arctic_model_xs.joblib', stage_location='@HF_MODELS/', auto_compress=False)"
   ]
  },
  {
   "cell_type": "code",
   "execution_count": 20,
   "metadata": {},
   "outputs": [
    {
     "name": "stderr",
     "output_type": "stream",
     "text": [
      "Package 'pytorch' is not installed in the local environment. Your UDF might not work when the package is installed on the server but not on your local environment.\n",
      "The version of package 'cachetools' in the local environment is 5.3.3, which does not fit the criteria for the requirement 'cachetools'. Your UDF might not work when the package version is different between the server and your local environment.\n",
      "The version of package 'joblib' in the local environment is 1.4.0, which does not fit the criteria for the requirement 'joblib'. Your UDF might not work when the package version is different between the server and your local environment.\n"
     ]
    }
   ],
   "source": [
    "@cached(cache={})\n",
    "def load_model_opt(import_dir) -> object:\n",
    "    import joblib\n",
    "    tokenizer = joblib.load(f'{import_dir}arctic_tokenizer_xs.joblib')\n",
    "    model = joblib.load(f'{import_dir}arctic_model_xs.joblib')\n",
    "    return tokenizer, model\n",
    "    \n",
    "\n",
    "def embed_arctic_xs_opt(text: pd.Series) -> pd.Series:\n",
    "    import sys\n",
    "    IMPORT_DIRECTORY_NAME = \"snowflake_import_directory\"\n",
    "    import_dir = sys._xoptions[IMPORT_DIRECTORY_NAME]\n",
    "    tokenizer, model = load_model_opt(import_dir)\n",
    "    embeddings = model(**tokenizer(text.tolist(), padding=True, truncation=True, return_tensors='pt', max_length=512))[0][:, 0]\n",
    "    return embeddings.tolist()\n",
    "\n",
    "embed_arctic_xs_opt = pandas_udf(\n",
    "    session=session,\n",
    "    name=\"EMBED_ARCTIC_XS_OPT\", \n",
    "    func=embed_arctic_xs_opt,\n",
    "    return_type=T.ArrayType(), \n",
    "    input_types=[T.StringType()], \n",
    "    packages=['pytorch','transformers','cachetools','joblib'], \n",
    "    is_permanent=True, \n",
    "    replace=True,\n",
    "    stage_location='@FUNCTIONS', \n",
    "    external_access_integrations=['HF_INT'],\n",
    "    imports=[\n",
    "        '@hf_models/arctic_model_xs.joblib',\n",
    "        '@hf_models/arctic_tokenizer_xs.joblib'\n",
    "        ]\n",
    "    )"
   ]
  },
  {
   "cell_type": "code",
   "execution_count": 21,
   "metadata": {},
   "outputs": [
    {
     "name": "stdout",
     "output_type": "stream",
     "text": [
      "-----------------------------------------------------------------------------------------------------------\n",
      "|\"TEXT\"                                              |\"EMBEDDING_XS\"                                      |\n",
      "-----------------------------------------------------------------------------------------------------------\n",
      "|As AI continues to evolve, the need for skilled...  |[-0.2427491992712021, 0.6662875413894653, -0.07...  |\n",
      "|In business, strategic mergers and acquisitions...  |[0.21651607751846313, 0.7585282325744629, 0.070...  |\n",
      "|AI refers to the simulation of human intelligen...  |[0.28594380617141724, 0.23065607249736786, -0.1...  |\n",
      "|AI technologies, such as machine learning and d...  |[0.2519180178642273, 0.3343959450721741, -0.007...  |\n",
      "|Technological innovations in business, like blo...  |[0.1598115861415863, 0.6208478808403015, -0.335...  |\n",
      "|Major sporting events, such as the Olympics and...  |[0.16280654072761536, 1.099736213684082, 0.1863...  |\n",
      "|The potential for AI to improve healthcare is v...  |[-0.0001352909894194454, 0.40068864822387695, 0...  |\n",
      "|Ethical considerations are crucial in the devel...  |[-0.29632332921028137, 0.563687801361084, -0.23...  |\n",
      "|The intersection of sports and politics often m...  |[-0.4530579745769501, 0.24810077250003815, 0.19...  |\n",
      "|Political campaigns increasingly leverage data ...  |[-0.16542716324329376, 0.32436394691467285, -0....  |\n",
      "-----------------------------------------------------------------------------------------------------------\n",
      "\n"
     ]
    }
   ],
   "source": [
    "# Run Embedding Model\n",
    "embedded_df_xs = df.with_column('EMBEDDING_XS', embed_arctic_xs_opt('TEXT').cast(T.VectorType(float,384)))\n",
    "embedded_df_xs.write.save_as_table('EMBEDDINGS_XS', mode='overwrite')\n",
    "\n",
    "# Outputs:\n",
    "embedded_df_xs = session.table('EMBEDDINGS_XS')\n",
    "embedded_df_xs.show()"
   ]
  },
  {
   "cell_type": "code",
   "execution_count": 22,
   "metadata": {},
   "outputs": [
    {
     "name": "stdout",
     "output_type": "stream",
     "text": [
      "--------------------------------------------------------------------------------------------------------------------------------------------\n",
      "|\"TEXT\"                                              |\"EMBEDDING_XS\"                                      |\"VECTOR_DISTANCE_XS_EMBEDDING\"  |\n",
      "--------------------------------------------------------------------------------------------------------------------------------------------\n",
      "|AI technologies, such as machine learning and d...  |[0.2519180178642273, 0.3343959450721741, -0.007...  |5.26300961887902                |\n",
      "|As AI continues to evolve, the need for skilled...  |[-0.2427491992712021, 0.6662875413894653, -0.07...  |5.374090073325059               |\n",
      "|The potential for AI to improve healthcare is v...  |[-0.0001352909894194454, 0.40068864822387695, 0...  |5.620593230951895               |\n",
      "|AI refers to the simulation of human intelligen...  |[0.28594380617141724, 0.23065607249736786, -0.1...  |6.300694067127768               |\n",
      "|Ethical considerations are crucial in the devel...  |[-0.29632332921028137, 0.563687801361084, -0.23...  |6.485275610461929               |\n",
      "|Technological innovations in business, like blo...  |[0.1598115861415863, 0.6208478808403015, -0.335...  |6.707793915032197               |\n",
      "|In business, strategic mergers and acquisitions...  |[0.21651607751846313, 0.7585282325744629, 0.070...  |7.300782033757984               |\n",
      "|Political campaigns increasingly leverage data ...  |[-0.16542716324329376, 0.32436394691467285, -0....  |7.353436513933681               |\n",
      "|Major sporting events, such as the Olympics and...  |[0.16280654072761536, 1.099736213684082, 0.1863...  |8.475391444165629               |\n",
      "|The intersection of sports and politics often m...  |[-0.4530579745769501, 0.24810077250003815, 0.19...  |8.769733520078224               |\n",
      "--------------------------------------------------------------------------------------------------------------------------------------------\n",
      "\n"
     ]
    }
   ],
   "source": [
    "# Calculate distances to search query\n",
    "distances = embedded_df_xs.with_column(\n",
    "    'VECTOR_DISTANCE_XS_EMBEDDING', \n",
    "    F.vector_l2_distance(\n",
    "        F.col('EMBEDDING_XS'),\n",
    "        embed_arctic_xs_opt(F.lit(search_text)).cast(T.VectorType(float,384))\n",
    "    )\n",
    ").order_by('VECTOR_DISTANCE_XS_EMBEDDING').show()"
   ]
  },
  {
   "cell_type": "markdown",
   "metadata": {},
   "source": [
    "# Performance Test"
   ]
  },
  {
   "cell_type": "code",
   "execution_count": 23,
   "metadata": {},
   "outputs": [
    {
     "name": "stdout",
     "output_type": "stream",
     "text": [
      "-------------------------\n",
      "|\"TEXT\"                 |\n",
      "-------------------------\n",
      "|Snowflake is awesome.  |\n",
      "|Snowflake is awesome.  |\n",
      "|Snowflake is awesome.  |\n",
      "|Snowflake is awesome.  |\n",
      "|Snowflake is awesome.  |\n",
      "|Snowflake is awesome.  |\n",
      "|Snowflake is awesome.  |\n",
      "|Snowflake is awesome.  |\n",
      "|Snowflake is awesome.  |\n",
      "|Snowflake is awesome.  |\n",
      "-------------------------\n",
      "\n"
     ]
    },
    {
     "data": {
      "text/plain": [
       "1000"
      ]
     },
     "execution_count": 23,
     "metadata": {},
     "output_type": "execute_result"
    }
   ],
   "source": [
    "# Create test data\n",
    "session.generator(F.lit('Snowflake is awesome.').as_('TEXT'), rowcount=1000).write.save_as_table('PERFORMANCE_TEST', mode='overwrite')\n",
    "df_test = session.table('PERFORMANCE_TEST')\n",
    "df_test.show()\n",
    "df_test.count()"
   ]
  },
  {
   "cell_type": "code",
   "execution_count": 24,
   "metadata": {},
   "outputs": [
    {
     "name": "stdout",
     "output_type": "stream",
     "text": [
      "CPU times: user 7.69 ms, sys: 2.94 ms, total: 10.6 ms\n",
      "Wall time: 15.8 s\n"
     ]
    }
   ],
   "source": [
    "%%time\n",
    "# Run Embedding Model and materialize\n",
    "df_test.with_column('EMBEDDING_XS', embed_arctic_xs('TEXT').cast(T.VectorType(float,384))).write.save_as_table('EMBEDDINGS_XS', mode='overwrite')"
   ]
  },
  {
   "cell_type": "code",
   "execution_count": 25,
   "metadata": {},
   "outputs": [
    {
     "name": "stdout",
     "output_type": "stream",
     "text": [
      "CPU times: user 7.87 ms, sys: 2.4 ms, total: 10.3 ms\n",
      "Wall time: 13.9 s\n"
     ]
    }
   ],
   "source": [
    "%%time\n",
    "# Run Embedding Model (Optimized) and materialize\n",
    "df_test.with_column('EMBEDDING_XS', embed_arctic_xs_opt('TEXT').cast(T.VectorType(float,384))).write.save_as_table('EMBEDDINGS_XS', mode='overwrite')"
   ]
  }
 ],
 "metadata": {
  "kernelspec": {
   "display_name": "pysnowpark_huggingface",
   "language": "python",
   "name": "python3"
  },
  "language_info": {
   "codemirror_mode": {
    "name": "ipython",
    "version": 3
   },
   "file_extension": ".py",
   "mimetype": "text/x-python",
   "name": "python",
   "nbconvert_exporter": "python",
   "pygments_lexer": "ipython3",
   "version": "3.11.8"
  }
 },
 "nbformat": 4,
 "nbformat_minor": 2
}

{
 "cells": [
  {
   "cell_type": "markdown",
   "metadata": {},
   "source": [
    "# Imports"
   ]
  },
  {
   "cell_type": "code",
   "execution_count": 1,
   "metadata": {},
   "outputs": [],
   "source": [
    "import warnings\n",
    "warnings.filterwarnings(\"ignore\")\n",
    "\n",
    "# Load variables\n",
    "import os\n",
    "from dotenv import load_dotenv\n",
    "load_dotenv()\n",
    "\n",
    "# Snowpark Imports\n",
    "from snowflake.snowpark.session import Session\n",
    "from snowflake.ml.model.model_signature import FeatureSpec, DataType, ModelSignature"
   ]
  },
  {
   "cell_type": "markdown",
   "metadata": {},
   "source": [
    "# Connect to Snowflake"
   ]
  },
  {
   "cell_type": "code",
   "execution_count": 2,
   "metadata": {},
   "outputs": [
    {
     "name": "stdout",
     "output_type": "stream",
     "text": [
      "Role:      \"ACCOUNTADMIN\"\n",
      "Warehouse: \"COMPUTE_WH\"\n",
      "Database:  \"MACHINE_LEARNING\"\n",
      "Schema:    \"PUBLIC\"\n"
     ]
    }
   ],
   "source": [
    "snowflake_connection_cfg = {\n",
    "    \"ACCOUNT\": os.getenv('SF_ACCOUNT'),\n",
    "    \"USER\": os.getenv('SF_USER'),\n",
    "    \"ROLE\": os.getenv('SF_ROLE'),\n",
    "    \"PASSWORD\": os.getenv('SF_PASSWORD'),\n",
    "    \"DATABASE\": os.getenv('SF_DATABASE'),\n",
    "    \"SCHEMA\": os.getenv('SF_SCHEMA'),\n",
    "    \"WAREHOUSE\": os.getenv('SF_WAREHOUSE')\n",
    "}\n",
    "\n",
    "# Creating Snowpark Session\n",
    "session = Session.builder.configs(snowflake_connection_cfg).create()\n",
    "\n",
    "print('Role:     ', session.get_current_role())\n",
    "print('Warehouse:', session.get_current_warehouse())\n",
    "print('Database: ', session.get_current_database())\n",
    "print('Schema:   ', session.get_current_schema())"
   ]
  },
  {
   "cell_type": "code",
   "execution_count": 3,
   "metadata": {},
   "outputs": [
    {
     "name": "stdout",
     "output_type": "stream",
     "text": [
      "-------------------------------------------------------------------------------------------------------------------------------------------\n",
      "|\"TEXT\"                                                                                                                                   |\n",
      "-------------------------------------------------------------------------------------------------------------------------------------------\n",
      "|Ich liebe dieses Produkt absolut! Es hat alle meine Erwartungen übertroffen und ich empfehle es jedem weiter.                            |\n",
      "|Das ist der beste Kauf, den ich dieses Jahr gemacht habe! Es funktioniert einwandfrei und der Kundenservice war fantastisch.             |\n",
      "|Fünf Sterne! Das Produkt kam pünktlich an und funktioniert sogar besser als beschrieben. Könnte nicht glücklicher sein.                  |\n",
      "|Ich bin wirklich beeindruckt von der Qualität und Effizienz dieses Produkts. Es ist definitiv den Preis wert.                            |\n",
      "|Unglaubliche Ergebnisse! Ich habe sofort einen Unterschied bemerkt und es ist ein wesentlicher Teil meiner täglichen Routine geworden.   |\n",
      "|Sehr enttäuscht von diesem Kauf. Es hat nach einer Woche aufgehört zu funktionieren und die Qualität ist minderwertig.                   |\n",
      "|Ich würde dieses Produkt nicht empfehlen. Es ist überteuert für das, was es bietet, und der Kundensupport ist nicht hilfreich.           |\n",
      "|Ein Stern. Das Produkt kam beschädigt an und es zurückzusenden war ein Alptraum. Vollkommen unzufrieden.                                 |\n",
      "|Das ist das schlechteste Produkt, das ich je benutzt habe. Es funktioniert nicht wie beworben und ist eine komplette Geldverschwendung.  |\n",
      "|Ich bereue diesen Kauf. Es ist schlecht gemacht und hat keine meiner Erwartungen erfüllt. Eine totale Enttäuschung.                      |\n",
      "|Das Produkt ist in Ordnung, funktioniert wie erwartet, aber nichts beeindruckendes.                                                      |\n",
      "|Es ist ein durchschnittliches Produkt, erledigt die Arbeit, sticht aber in keiner Weise hervor.                                          |\n",
      "|Neutral bezüglich dieses Kaufs. Es hat seine Vor- und Nachteile, aber insgesamt ist es einfach in Ordnung.                               |\n",
      "|Das Produkt erfüllt die grundlegenden Anforderungen, ist jedoch nichts Außergewöhnliches.                                                |\n",
      "|Es funktioniert ausreichend, allerdings gibt es bessere Optionen zu diesem Preis.                                                        |\n",
      "-------------------------------------------------------------------------------------------------------------------------------------------\n",
      "\n"
     ]
    }
   ],
   "source": [
    "# Create some test data to work with\n",
    "positive_reviews = [\n",
    "    \"Ich liebe dieses Produkt absolut! Es hat alle meine Erwartungen übertroffen und ich empfehle es jedem weiter.\",\n",
    "    \"Das ist der beste Kauf, den ich dieses Jahr gemacht habe! Es funktioniert einwandfrei und der Kundenservice war fantastisch.\",\n",
    "    \"Fünf Sterne! Das Produkt kam pünktlich an und funktioniert sogar besser als beschrieben. Könnte nicht glücklicher sein.\",\n",
    "    \"Ich bin wirklich beeindruckt von der Qualität und Effizienz dieses Produkts. Es ist definitiv den Preis wert.\",\n",
    "    \"Unglaubliche Ergebnisse! Ich habe sofort einen Unterschied bemerkt und es ist ein wesentlicher Teil meiner täglichen Routine geworden.\"\n",
    "]\n",
    "\n",
    "negative_reviews = [\n",
    "    \"Sehr enttäuscht von diesem Kauf. Es hat nach einer Woche aufgehört zu funktionieren und die Qualität ist minderwertig.\",\n",
    "    \"Ich würde dieses Produkt nicht empfehlen. Es ist überteuert für das, was es bietet, und der Kundensupport ist nicht hilfreich.\",\n",
    "    \"Ein Stern. Das Produkt kam beschädigt an und es zurückzusenden war ein Alptraum. Vollkommen unzufrieden.\",\n",
    "    \"Das ist das schlechteste Produkt, das ich je benutzt habe. Es funktioniert nicht wie beworben und ist eine komplette Geldverschwendung.\",\n",
    "    \"Ich bereue diesen Kauf. Es ist schlecht gemacht und hat keine meiner Erwartungen erfüllt. Eine totale Enttäuschung.\"\n",
    "]\n",
    "\n",
    "neutral_reviews = [\n",
    "    \"Das Produkt ist in Ordnung, funktioniert wie erwartet, aber nichts beeindruckendes.\",\n",
    "    \"Es ist ein durchschnittliches Produkt, erledigt die Arbeit, sticht aber in keiner Weise hervor.\",\n",
    "    \"Neutral bezüglich dieses Kaufs. Es hat seine Vor- und Nachteile, aber insgesamt ist es einfach in Ordnung.\",\n",
    "    \"Das Produkt erfüllt die grundlegenden Anforderungen, ist jedoch nichts Außergewöhnliches.\",\n",
    "    \"Es funktioniert ausreichend, allerdings gibt es bessere Optionen zu diesem Preis.\"\n",
    "]\n",
    "\n",
    "\n",
    "\n",
    "df = session.create_dataframe(positive_reviews+negative_reviews+neutral_reviews, schema=['TEXT'])\n",
    "df.show(n=15, max_width=1000)"
   ]
  },
  {
   "cell_type": "markdown",
   "metadata": {},
   "source": [
    "# Register & Run Sentiment Model"
   ]
  },
  {
   "cell_type": "code",
   "execution_count": 4,
   "metadata": {},
   "outputs": [],
   "source": [
    "# Get the model registry object\n",
    "from snowflake.ml.registry import Registry\n",
    "reg = Registry(\n",
    "    session=session, \n",
    "    database_name=session.get_current_database(), \n",
    "    schema_name=session.get_current_schema()\n",
    "    )"
   ]
  },
  {
   "cell_type": "code",
   "execution_count": 5,
   "metadata": {},
   "outputs": [
    {
     "name": "stdout",
     "output_type": "stream",
     "text": [
      "----------------------------------------------------------------------------------------------------------------------------------------------------------------------------\n",
      "|\"TEXT\"                                                                                                                                   |\"label\"   |\"score\"              |\n",
      "----------------------------------------------------------------------------------------------------------------------------------------------------------------------------\n",
      "|Ein Stern. Das Produkt kam beschädigt an und es zurückzusenden war ein Alptraum. Vollkommen unzufrieden.                                 |negative  |0.8657243847846985   |\n",
      "|Ich liebe dieses Produkt absolut! Es hat alle meine Erwartungen übertroffen und ich empfehle es jedem weiter.                            |positive  |0.95161372423172     |\n",
      "|Fünf Sterne! Das Produkt kam pünktlich an und funktioniert sogar besser als beschrieben. Könnte nicht glücklicher sein.                  |positive  |0.6690628528594971   |\n",
      "|Ich bin wirklich beeindruckt von der Qualität und Effizienz dieses Produkts. Es ist definitiv den Preis wert.                            |positive  |0.5831477046012878   |\n",
      "|Unglaubliche Ergebnisse! Ich habe sofort einen Unterschied bemerkt und es ist ein wesentlicher Teil meiner täglichen Routine geworden.   |negative  |0.889271080493927    |\n",
      "|Das ist der beste Kauf, den ich dieses Jahr gemacht habe! Es funktioniert einwandfrei und der Kundenservice war fantastisch.             |positive  |0.9413297176361084   |\n",
      "|Sehr enttäuscht von diesem Kauf. Es hat nach einer Woche aufgehört zu funktionieren und die Qualität ist minderwertig.                   |negative  |0.5030512809753418   |\n",
      "|Ich würde dieses Produkt nicht empfehlen. Es ist überteuert für das, was es bietet, und der Kundensupport ist nicht hilfreich.           |negative  |0.8110332489013672   |\n",
      "|Es funktioniert ausreichend, allerdings gibt es bessere Optionen zu diesem Preis.                                                        |positive  |0.6790763139724731   |\n",
      "|Das Produkt erfüllt die grundlegenden Anforderungen, ist jedoch nichts Außergewöhnliches.                                                |neutral   |0.5459635853767395   |\n",
      "|Es ist ein durchschnittliches Produkt, erledigt die Arbeit, sticht aber in keiner Weise hervor.                                          |neutral   |0.4280953109264374   |\n",
      "|Das Produkt ist in Ordnung, funktioniert wie erwartet, aber nichts beeindruckendes.                                                      |negative  |0.4561719000339508   |\n",
      "|Neutral bezüglich dieses Kaufs. Es hat seine Vor- und Nachteile, aber insgesamt ist es einfach in Ordnung.                               |neutral   |0.37570223212242126  |\n",
      "|Ich bereue diesen Kauf. Es ist schlecht gemacht und hat keine meiner Erwartungen erfüllt. Eine totale Enttäuschung.                      |negative  |0.8996298909187317   |\n",
      "|Das ist das schlechteste Produkt, das ich je benutzt habe. Es funktioniert nicht wie beworben und ist eine komplette Geldverschwendung.  |negative  |0.976406753063202    |\n",
      "----------------------------------------------------------------------------------------------------------------------------------------------------------------------------\n",
      "\n"
     ]
    }
   ],
   "source": [
    "# Get the sentiment model from Huggingface\n",
    "# Make sure it fits into a Snowflake warehouse and does not require GPUs\n",
    "# Otherwise the model must deployed in Snowpark Container Services\n",
    "from transformers import pipeline\n",
    "pipe = pipeline(\"text-classification\", model=\"lxyuan/distilbert-base-multilingual-cased-sentiments-student\")\n",
    "\n",
    "# use SOWH because model is big\n",
    "session.use_warehouse('snowpark_opt_wh')\n",
    "\n",
    "# Customize our model signature\n",
    "model_sig = ModelSignature(\n",
    "                  inputs=[\n",
    "                      FeatureSpec(dtype=DataType.STRING, name='TEXT')\n",
    "                      ],\n",
    "                      outputs=[\n",
    "                          FeatureSpec(dtype=DataType.STRING, name='label'),\n",
    "                          FeatureSpec(dtype=DataType.DOUBLE, name='score')\n",
    "                      ]\n",
    "                  )\n",
    "\n",
    "# Register the model to Snowflake\n",
    "snow_model_custom = reg.log_model(\n",
    "    pipe, \n",
    "    model_name='distilbert_base_multilingual_cased_sentiments_student_custom', \n",
    "    signatures={'predict':model_sig},\n",
    "    conda_dependencies=['tokenizers','transformers']\n",
    "    )\n",
    "\n",
    "# Model signature\n",
    "sentiment_values = snow_model_custom.run(df).cache_result()\n",
    "sentiment_values.show(n=15, max_width=1000)"
   ]
  }
 ],
 "metadata": {
  "kernelspec": {
   "display_name": "pysnowpark_huggingface",
   "language": "python",
   "name": "python3"
  },
  "language_info": {
   "codemirror_mode": {
    "name": "ipython",
    "version": 3
   },
   "file_extension": ".py",
   "mimetype": "text/x-python",
   "name": "python",
   "nbconvert_exporter": "python",
   "pygments_lexer": "ipython3",
   "version": "3.11.8"
  }
 },
 "nbformat": 4,
 "nbformat_minor": 2
}

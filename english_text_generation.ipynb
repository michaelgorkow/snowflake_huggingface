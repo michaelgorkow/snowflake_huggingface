{
 "cells": [
  {
   "cell_type": "markdown",
   "metadata": {},
   "source": [
    "# Imports"
   ]
  },
  {
   "cell_type": "code",
   "execution_count": 4,
   "metadata": {},
   "outputs": [],
   "source": [
    "import warnings\n",
    "warnings.filterwarnings(\"ignore\")\n",
    "\n",
    "# Load variables\n",
    "import os\n",
    "from dotenv import load_dotenv\n",
    "load_dotenv()\n",
    "\n",
    "# Snowpark Imports\n",
    "from snowflake.snowpark.session import Session\n",
    "import snowflake.snowpark.functions as F\n",
    "from snowflake.snowpark import types as T"
   ]
  },
  {
   "cell_type": "markdown",
   "metadata": {},
   "source": [
    "# Connect to Snowflake"
   ]
  },
  {
   "cell_type": "code",
   "execution_count": 5,
   "metadata": {},
   "outputs": [
    {
     "name": "stdout",
     "output_type": "stream",
     "text": [
      "Role:      \"ACCOUNTADMIN\"\n",
      "Warehouse: \"COMPUTE_WH\"\n",
      "Database:  \"MACHINE_LEARNING\"\n",
      "Schema:    \"PUBLIC\"\n"
     ]
    }
   ],
   "source": [
    "snowflake_connection_cfg = {\n",
    "    \"ACCOUNT\": os.getenv('SF_ACCOUNT'),\n",
    "    \"USER\": os.getenv('SF_USER'),\n",
    "    \"ROLE\": os.getenv('SF_ROLE'),\n",
    "    \"PASSWORD\": os.getenv('SF_PASSWORD'),\n",
    "    \"DATABASE\": os.getenv('SF_DATABASE'),\n",
    "    \"SCHEMA\": os.getenv('SF_SCHEMA'),\n",
    "    \"WAREHOUSE\": os.getenv('SF_WAREHOUSE')\n",
    "}\n",
    "\n",
    "# Creating Snowpark Session\n",
    "session = Session.builder.configs(snowflake_connection_cfg).create()\n",
    "\n",
    "print('Role:     ', session.get_current_role())\n",
    "print('Warehouse:', session.get_current_warehouse())\n",
    "print('Database: ', session.get_current_database())\n",
    "print('Schema:   ', session.get_current_schema())"
   ]
  },
  {
   "cell_type": "code",
   "execution_count": 29,
   "metadata": {},
   "outputs": [
    {
     "name": "stdout",
     "output_type": "stream",
     "text": [
      "--------------------------------------------------------------\n",
      "|\"INPUTS\"                                                    |\n",
      "--------------------------------------------------------------\n",
      "|If I could travel anywhere in the world, I would go to      |\n",
      "|One of the most important lessons I've learned in life is   |\n",
      "|When I think about the future of technology, I wonder       |\n",
      "|The best advice I ever received was to always               |\n",
      "|Every morning, I start my day by                            |\n",
      "--------------------------------------------------------------\n",
      "\n"
     ]
    }
   ],
   "source": [
    "# Create some test data to work with\n",
    "incomplete_sentences = [\n",
    "    \"If I could travel anywhere in the world, I would go to \",\n",
    "    \"One of the most important lessons I've learned in life is \",\n",
    "    \"When I think about the future of technology, I wonder \",\n",
    "    \"The best advice I ever received was to always \",\n",
    "    \"Every morning, I start my day by \"\n",
    "]\n",
    "\n",
    "\n",
    "df = session.create_dataframe(incomplete_sentences, schema=['INPUTS'])\n",
    "df.show(n=15, max_width=1000)"
   ]
  },
  {
   "cell_type": "markdown",
   "metadata": {},
   "source": [
    "# Register & Run Text Generation Model"
   ]
  },
  {
   "cell_type": "code",
   "execution_count": 7,
   "metadata": {},
   "outputs": [],
   "source": [
    "# Get the model registry object\n",
    "from snowflake.ml.registry import Registry\n",
    "reg = Registry(\n",
    "    session=session, \n",
    "    database_name=session.get_current_database(), \n",
    "    schema_name=session.get_current_schema()\n",
    "    )"
   ]
  },
  {
   "cell_type": "code",
   "execution_count": 37,
   "metadata": {},
   "outputs": [
    {
     "name": "stdout",
     "output_type": "stream",
     "text": [
      "-------------------------------------------------------------------------------------------------------------------------------------------------------------------------------------------------------------------------------------------------------------------------------\n",
      "|\"INPUTS\"                                                    |\"GENERATED_TEXT\"                                                                                                                                                                                                |\n",
      "-------------------------------------------------------------------------------------------------------------------------------------------------------------------------------------------------------------------------------------------------------------------------------\n",
      "|If I could travel anywhere in the world, I would go to      |If I could travel anywhere in the world, I would go to ices.‍‍                                                                                                                                                  |\n",
      "|                                                            |At one point, I saw it in the kitchen, I sat down at that part of a food basket and stared at it.                                                                                                               |\n",
      "|                                                            |I saw                                                                                                                                                                                                           |\n",
      "|One of the most important lessons I've learned in life is   |One of the most important lessons I've learned in life is   “We have to be happy with our behavior.” These changes are most visible as the changes lead to a decline in our mood, and if we didn't take action  |\n",
      "|When I think about the future of technology, I wonder       |When I think about the future of technology, I wonder !!                                                                                                                                                        |\n",
      "|                                                            |There are currently more than 4K screens in Japan over the next 1,000 days for video streaming, and I think that is the world's most important aspect…it can still                                              |\n",
      "|The best advice I ever received was to always               |The best advice I ever received was to always _______ to stay out of work and stay in a place that can be enjoyable to your children.                                                                           |\n",
      "|                                                            |                                                                                                                                                                                                                |\n",
      "|                                                            |                                                                                                                                                                                                                |\n",
      "|                                                            |There's a lot going on on inside your family's house, from the kids to the                                                                                                                                      |\n",
      "|Every morning, I start my day by                            |Every morning, I start my day by ikiddip and put them all together (they will be ready), and the next day I see them come and go and show them how to work as a human. I am so excited that they are            |\n",
      "-------------------------------------------------------------------------------------------------------------------------------------------------------------------------------------------------------------------------------------------------------------------------------\n",
      "\n"
     ]
    }
   ],
   "source": [
    "# Get the text generation model from Huggingface\n",
    "# Make sure it fits into a Snowflake warehouse and does not require GPUs\n",
    "# Otherwise the model must deployed in Snowpark Container Services\n",
    "from transformers import pipeline\n",
    "pipe = pipeline(\"text-generation\", model=\"distilbert/distilgpt2\")\n",
    "\n",
    "# Register the model to Snowflake (predict is the model's function we want to call)\n",
    "snow_model = reg.log_model(\n",
    "    pipe, \n",
    "    model_name='distilgpt2', \n",
    "    sample_input_data=df.limit(10),\n",
    "    conda_dependencies=['tokenizers','transformers','sentencepiece']\n",
    "    )\n",
    "\n",
    "# Outputs\n",
    "results = snow_model.run(df).cache_result()\n",
    "results.select('INPUTS', F.parse_json(F.col('OUTPUTS'))[0]['generated_text'].cast(T.StringType()).as_('GENERATED_TEXT')).show(max_width=1000)"
   ]
  }
 ],
 "metadata": {
  "kernelspec": {
   "display_name": "pysnowpark_huggingface",
   "language": "python",
   "name": "python3"
  },
  "language_info": {
   "codemirror_mode": {
    "name": "ipython",
    "version": 3
   },
   "file_extension": ".py",
   "mimetype": "text/x-python",
   "name": "python",
   "nbconvert_exporter": "python",
   "pygments_lexer": "ipython3",
   "version": "3.11.8"
  }
 },
 "nbformat": 4,
 "nbformat_minor": 2
}

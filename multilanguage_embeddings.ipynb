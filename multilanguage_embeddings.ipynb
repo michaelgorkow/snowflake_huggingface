{
 "cells": [
  {
   "cell_type": "markdown",
   "metadata": {},
   "source": [
    "# Imports"
   ]
  },
  {
   "cell_type": "code",
   "execution_count": 11,
   "metadata": {},
   "outputs": [],
   "source": [
    "import warnings\n",
    "warnings.filterwarnings(\"ignore\")\n",
    "\n",
    "# Load variables\n",
    "import os\n",
    "from dotenv import load_dotenv\n",
    "load_dotenv()\n",
    "\n",
    "# Snowpark Imports\n",
    "from snowflake.snowpark.session import Session\n",
    "import snowflake.snowpark.functions as F\n",
    "import snowflake.snowpark.types as T"
   ]
  },
  {
   "cell_type": "markdown",
   "metadata": {},
   "source": [
    "# Connect to Snowflake"
   ]
  },
  {
   "cell_type": "code",
   "execution_count": 12,
   "metadata": {},
   "outputs": [
    {
     "name": "stdout",
     "output_type": "stream",
     "text": [
      "Role:      \"ACCOUNTADMIN\"\n",
      "Warehouse: \"COMPUTE_WH\"\n",
      "Database:  \"MACHINE_LEARNING\"\n",
      "Schema:    \"PUBLIC\"\n"
     ]
    }
   ],
   "source": [
    "snowflake_connection_cfg = {\n",
    "    \"ACCOUNT\": os.getenv('SF_ACCOUNT'),\n",
    "    \"USER\": os.getenv('SF_USER'),\n",
    "    \"ROLE\": os.getenv('SF_ROLE'),\n",
    "    \"PASSWORD\": os.getenv('SF_PASSWORD'),\n",
    "    \"DATABASE\": os.getenv('SF_DATABASE'),\n",
    "    \"SCHEMA\": os.getenv('SF_SCHEMA'),\n",
    "    \"WAREHOUSE\": os.getenv('SF_WAREHOUSE')\n",
    "}\n",
    "\n",
    "# Creating Snowpark Session\n",
    "session = Session.builder.configs(snowflake_connection_cfg).create()\n",
    "\n",
    "print('Role:     ', session.get_current_role())\n",
    "print('Warehouse:', session.get_current_warehouse())\n",
    "print('Database: ', session.get_current_database())\n",
    "print('Schema:   ', session.get_current_schema())"
   ]
  },
  {
   "cell_type": "code",
   "execution_count": 132,
   "metadata": {},
   "outputs": [
    {
     "name": "stdout",
     "output_type": "stream",
     "text": [
      "------------------------------------------------------\n",
      "|\"TEXT\"                                              |\n",
      "------------------------------------------------------\n",
      "|KI revolutioniert die Geschäftsanalytik, indem ...  |\n",
      "|Unternehmen nutzen KI, um die Analyse und Inter...  |\n",
      "|Mit KI können Unternehmen nun große Datenmengen...  |\n",
      "|Künstliche Intelligenz ist ein Schlüsselwerkzeu...  |\n",
      "|Der Einsatz von KI in Unternehmen hilft dabei, ...  |\n",
      "|Der große Weiße Hai ist einer der mächtigsten R...  |\n",
      "|Van Goghs Sternennacht stellt die Aussicht aus ...  |\n",
      "|Quantencomputing könnte potenziell viele der de...  |\n",
      "|Die brasilianische Küche ist bekannt für ihre V...  |\n",
      "|Das schnellste Landtier, der Gepard, erreicht G...  |\n",
      "------------------------------------------------------\n",
      "\n"
     ]
    }
   ],
   "source": [
    "# Create some test data to work with\n",
    "ai_texts_german = [\n",
    "    \"KI revolutioniert die Geschäftsanalytik, indem sie tiefere Einblicke in Daten bietet.\",\n",
    "    \"Unternehmen nutzen KI, um die Analyse und Interpretation komplexer Datensätze zu transformieren.\",\n",
    "    \"Mit KI können Unternehmen nun große Datenmengen verstehen, um die Entscheidungsfindung zu verbessern.\",\n",
    "    \"Künstliche Intelligenz ist ein Schlüsselwerkzeug für Unternehmen, die ihre Datenanalyse verbessern möchten.\",\n",
    "    \"Der Einsatz von KI in Unternehmen hilft dabei, bedeutungsvolle Informationen aus großen Datensätzen zu extrahieren.\"\n",
    "]\n",
    "\n",
    "\n",
    "different_texts_german = [\n",
    "    \"Der große Weiße Hai ist einer der mächtigsten Raubtiere des Ozeans.\",\n",
    "    \"Van Goghs Sternennacht stellt die Aussicht aus seinem Zimmer in der Anstalt bei Nacht dar.\",\n",
    "    \"Quantencomputing könnte potenziell viele der derzeit verwendeten kryptografischen Systeme brechen.\",\n",
    "    \"Die brasilianische Küche ist bekannt für ihre Vielfalt und Reichhaltigkeit, beeinflusst von Europa, Afrika und den amerindischen Kulturen.\",\n",
    "    \"Das schnellste Landtier, der Gepard, erreicht Geschwindigkeiten von bis zu 120 km/h.\"\n",
    "]\n",
    "\n",
    "\n",
    "search_text = 'Maschinelles Lernen ist eine unverzichtbare Ressource für Unternehmen, die ihre Dateneinblicke verbessern möchten.'\n",
    "\n",
    "df = session.create_dataframe(ai_texts_german+different_texts_german, schema=['TEXT'])\n",
    "df.show()"
   ]
  },
  {
   "cell_type": "markdown",
   "metadata": {},
   "source": [
    "# Register Embedding Model"
   ]
  },
  {
   "cell_type": "code",
   "execution_count": 16,
   "metadata": {},
   "outputs": [],
   "source": [
    "# Get the model registry object\n",
    "from snowflake.ml.registry import Registry\n",
    "reg = Registry(\n",
    "    session=session, \n",
    "    database_name=session.get_current_database(), \n",
    "    schema_name=session.get_current_schema()\n",
    "    )"
   ]
  },
  {
   "cell_type": "code",
   "execution_count": null,
   "metadata": {},
   "outputs": [],
   "source": [
    "# Get the embedding model from Huggingface\n",
    "# Make sure it fits into a Snowflake warehouse and does not require GPUs\n",
    "# Otherwise the model must deployed in Snowpark Container Services\n",
    "from sentence_transformers import SentenceTransformer\n",
    "model = SentenceTransformer(\"intfloat/multilingual-e5-small\")"
   ]
  },
  {
   "cell_type": "code",
   "execution_count": null,
   "metadata": {},
   "outputs": [],
   "source": [
    "# Register the model to Snowflake\n",
    "snow_model = reg.log_model(\n",
    "    model, \n",
    "    model_name='multilingual_e5_small', \n",
    "    )"
   ]
  },
  {
   "cell_type": "code",
   "execution_count": 59,
   "metadata": {},
   "outputs": [
    {
     "data": {
      "text/plain": [
       "[{'name': 'ENCODE',\n",
       "  'target_method': 'encode',\n",
       "  'signature': ModelSignature(\n",
       "                      inputs=[\n",
       "                          FeatureSpec(dtype=DataType.STRING, name='TEXT')\n",
       "                      ],\n",
       "                      outputs=[\n",
       "                          FeatureSpec(dtype=DataType.DOUBLE, name='output_feature_0', shape=(384,))\n",
       "                      ]\n",
       "                  )}]"
      ]
     },
     "execution_count": 59,
     "metadata": {},
     "output_type": "execute_result"
    }
   ],
   "source": [
    "# The model can also be used via calling multilingual_e5_small!ENCODE\n",
    "snow_model.show_functions()"
   ]
  },
  {
   "cell_type": "markdown",
   "metadata": {},
   "source": [
    "# Use Embeddings for Similarity Search"
   ]
  },
  {
   "cell_type": "code",
   "execution_count": 133,
   "metadata": {},
   "outputs": [
    {
     "name": "stdout",
     "output_type": "stream",
     "text": [
      "-----------------------------------------------------------------------------------------------------------\n",
      "|\"TEXT\"                                              |\"EMBEDDING\"                                         |\n",
      "-----------------------------------------------------------------------------------------------------------\n",
      "|Der große Weiße Hai ist einer der mächtigsten R...  |[0.0795096904039383, -0.01898859813809395, -0.0...  |\n",
      "|Der Einsatz von KI in Unternehmen hilft dabei, ...  |[0.07381673902273178, -0.07341468334197998, -0....  |\n",
      "|Mit KI können Unternehmen nun große Datenmengen...  |[0.05727183073759079, -0.05122379586100578, -0....  |\n",
      "|Das schnellste Landtier, der Gepard, erreicht G...  |[0.07121457904577255, -0.02618776448071003, -0....  |\n",
      "|Künstliche Intelligenz ist ein Schlüsselwerkzeu...  |[0.01078315544873476, -0.036433085799217224, -0...  |\n",
      "|Quantencomputing könnte potenziell viele der de...  |[0.09990449994802475, -0.04794745147228241, -0....  |\n",
      "|Van Goghs Sternennacht stellt die Aussicht aus ...  |[0.09676273912191391, -0.0885557308793068, -0.0...  |\n",
      "|KI revolutioniert die Geschäftsanalytik, indem ...  |[0.07513290643692017, -0.0682922974228859, -0.0...  |\n",
      "|Die brasilianische Küche ist bekannt für ihre V...  |[0.09199897944927216, -0.03341960534453392, -0....  |\n",
      "|Unternehmen nutzen KI, um die Analyse und Inter...  |[0.0837983638048172, -0.05431424081325531, -0.0...  |\n",
      "-----------------------------------------------------------------------------------------------------------\n",
      "\n"
     ]
    }
   ],
   "source": [
    "# Create Embeddings from Huggingface Model\n",
    "embedding_df = snow_model.run(df)\n",
    "# We have to convert the output of the Huggingface model to Snowflake's Vector Datatype\n",
    "embedding_df = embedding_df.with_column(\n",
    "    'EMBEDDING', \n",
    "    F.col('\"output_feature_0\"').cast(T.VectorType(float,384))).drop('\"output_feature_0\"')\n",
    "embedding_df.write.save_as_table('EMBEDDED_TEXTS', mode='overwrite')\n",
    "embedding_df = session.table('EMBEDDED_TEXTS')\n",
    "embedding_df.show()"
   ]
  },
  {
   "cell_type": "code",
   "execution_count": 134,
   "metadata": {},
   "outputs": [],
   "source": [
    "# Finally we can calculate the distance between all the embeddings and our search vector\n",
    "closest_texts = embedding_df.with_column(\n",
    "    'VECTOR_DISTANCE', \n",
    "    F.vector_l2_distance(\n",
    "        F.col('EMBEDDING'), \n",
    "        F.call_builtin(\n",
    "            'MULTILINGUAL_E5_SMALL!ENCODE', \n",
    "            F.lit(search_text))['output_feature_0'].cast(T.VectorType(float,384))\n",
    "    )\n",
    ").cache_result()"
   ]
  },
  {
   "cell_type": "code",
   "execution_count": 135,
   "metadata": {},
   "outputs": [
    {
     "name": "stdout",
     "output_type": "stream",
     "text": [
      "-----------------------------------------------------------------------------------------------------------------------------\n",
      "|\"TEXT\"                                                                                                |\"VECTOR_DISTANCE\"   |\n",
      "-----------------------------------------------------------------------------------------------------------------------------\n",
      "|Künstliche Intelligenz ist ein Schlüsselwerkzeug für Unternehmen, die ihre Datenanalyse verbesser...  |0.5223915125274216  |\n",
      "|KI revolutioniert die Geschäftsanalytik, indem sie tiefere Einblicke in Daten bietet.                 |0.5508320832298432  |\n",
      "|Mit KI können Unternehmen nun große Datenmengen verstehen, um die Entscheidungsfindung zu verbess...  |0.5517107107937466  |\n",
      "|Der Einsatz von KI in Unternehmen hilft dabei, bedeutungsvolle Informationen aus großen Datensätz...  |0.5768123622873043  |\n",
      "|Unternehmen nutzen KI, um die Analyse und Interpretation komplexer Datensätze zu transformieren.      |0.5782022682310389  |\n",
      "|Quantencomputing könnte potenziell viele der derzeit verwendeten kryptografischen Systeme brechen.    |0.6388733105787354  |\n",
      "|Der große Weiße Hai ist einer der mächtigsten Raubtiere des Ozeans.                                   |0.6887633247263519  |\n",
      "|Die brasilianische Küche ist bekannt für ihre Vielfalt und Reichhaltigkeit, beeinflusst von Europ...  |0.6959150254004067  |\n",
      "|Das schnellste Landtier, der Gepard, erreicht Geschwindigkeiten von bis zu 120 km/h.                  |0.7112655721076001  |\n",
      "|Van Goghs Sternennacht stellt die Aussicht aus seinem Zimmer in der Anstalt bei Nacht dar.            |0.7352039852718184  |\n",
      "-----------------------------------------------------------------------------------------------------------------------------\n",
      "\n"
     ]
    }
   ],
   "source": [
    "# As we can see, all of the closest texts are AI related like our search vector\n",
    "closest_texts.order_by('VECTOR_DISTANCE').drop('EMBEDDING').show(max_width=100)"
   ]
  },
  {
   "cell_type": "markdown",
   "metadata": {},
   "source": [
    "# Customize the Model Signature"
   ]
  },
  {
   "cell_type": "code",
   "execution_count": null,
   "metadata": {},
   "outputs": [],
   "source": [
    "from snowflake.ml.model.model_signature import FeatureSpec, DataType, ModelSignature\n",
    "\n",
    "# In this example the output column will be called EMBEDDING and have a shape of (384,)\n",
    "model_sig = ModelSignature(\n",
    "                  inputs=[\n",
    "                      FeatureSpec(dtype=DataType.STRING, name='TEXT')\n",
    "                      ],\n",
    "                      outputs=[\n",
    "                          FeatureSpec(dtype=DataType.DOUBLE, name='EMBEDDING', shape=(384,))\n",
    "                      ]\n",
    "                  )"
   ]
  },
  {
   "cell_type": "code",
   "execution_count": 130,
   "metadata": {},
   "outputs": [],
   "source": [
    "# Register the model to Snowflake (encode is the model's function we want to call)\n",
    "snow_model_custom = reg.log_model(\n",
    "    model, \n",
    "    model_name='multilingual_e5_small_custom', \n",
    "    signatures={'encode':model_sig}\n",
    "    )"
   ]
  },
  {
   "cell_type": "code",
   "execution_count": 137,
   "metadata": {},
   "outputs": [
    {
     "name": "stdout",
     "output_type": "stream",
     "text": [
      "-----------------------------------------------------------------------------------------------------------\n",
      "|\"TEXT\"                                              |\"EMBEDDING\"                                         |\n",
      "-----------------------------------------------------------------------------------------------------------\n",
      "|Der Einsatz von KI in Unternehmen hilft dabei, ...  |[0.07381673902273178, -0.07341468334197998, -0....  |\n",
      "|Der große Weiße Hai ist einer der mächtigsten R...  |[0.0795096904039383, -0.01898859813809395, -0.0...  |\n",
      "|KI revolutioniert die Geschäftsanalytik, indem ...  |[0.07513290643692017, -0.0682922974228859, -0.0...  |\n",
      "|Künstliche Intelligenz ist ein Schlüsselwerkzeu...  |[0.01078315544873476, -0.036433085799217224, -0...  |\n",
      "|Quantencomputing könnte potenziell viele der de...  |[0.09990449994802475, -0.04794745147228241, -0....  |\n",
      "|Van Goghs Sternennacht stellt die Aussicht aus ...  |[0.09676273912191391, -0.0885557308793068, -0.0...  |\n",
      "|Das schnellste Landtier, der Gepard, erreicht G...  |[0.07121457904577255, -0.02618776448071003, -0....  |\n",
      "|Mit KI können Unternehmen nun große Datenmengen...  |[0.05727183073759079, -0.05122379586100578, -0....  |\n",
      "|Unternehmen nutzen KI, um die Analyse und Inter...  |[0.0837983638048172, -0.05431424081325531, -0.0...  |\n",
      "|Die brasilianische Küche ist bekannt für ihre V...  |[0.09199897944927216, -0.03341960534453392, -0....  |\n",
      "-----------------------------------------------------------------------------------------------------------\n",
      "\n"
     ]
    }
   ],
   "source": [
    "# Create Embeddings from Huggingface Model\n",
    "embedding_df = snow_model_custom.run(df)\n",
    "# We have to convert the output of the Huggingface model to Snowflake's Vector Datatype\n",
    "embedding_df = embedding_df.with_column('EMBEDDING', F.col('EMBEDDING').cast(T.VectorType(float,384)))\n",
    "embedding_df.write.save_as_table('EMBEDDED_TEXTS', mode='overwrite')\n",
    "embedding_df = session.table('EMBEDDED_TEXTS')\n",
    "embedding_df.show()"
   ]
  },
  {
   "cell_type": "code",
   "execution_count": 144,
   "metadata": {},
   "outputs": [
    {
     "name": "stdout",
     "output_type": "stream",
     "text": [
      "-----------------------------------------------------------------------------------------------------------------------------\n",
      "|\"TEXT\"                                                                                                |\"VECTOR_DISTANCE\"   |\n",
      "-----------------------------------------------------------------------------------------------------------------------------\n",
      "|Künstliche Intelligenz ist ein Schlüsselwerkzeug für Unternehmen, die ihre Datenanalyse verbesser...  |0.5223915125274216  |\n",
      "|KI revolutioniert die Geschäftsanalytik, indem sie tiefere Einblicke in Daten bietet.                 |0.5508320832298432  |\n",
      "|Mit KI können Unternehmen nun große Datenmengen verstehen, um die Entscheidungsfindung zu verbess...  |0.5517107107937466  |\n",
      "|Der Einsatz von KI in Unternehmen hilft dabei, bedeutungsvolle Informationen aus großen Datensätz...  |0.5768123622873043  |\n",
      "|Unternehmen nutzen KI, um die Analyse und Interpretation komplexer Datensätze zu transformieren.      |0.5782022682310389  |\n",
      "|Quantencomputing könnte potenziell viele der derzeit verwendeten kryptografischen Systeme brechen.    |0.6388733105787354  |\n",
      "|Der große Weiße Hai ist einer der mächtigsten Raubtiere des Ozeans.                                   |0.6887633247263519  |\n",
      "|Die brasilianische Küche ist bekannt für ihre Vielfalt und Reichhaltigkeit, beeinflusst von Europ...  |0.6959150254004067  |\n",
      "|Das schnellste Landtier, der Gepard, erreicht Geschwindigkeiten von bis zu 120 km/h.                  |0.7112655721076001  |\n",
      "|Van Goghs Sternennacht stellt die Aussicht aus seinem Zimmer in der Anstalt bei Nacht dar.            |0.7352039852718184  |\n",
      "-----------------------------------------------------------------------------------------------------------------------------\n",
      "\n"
     ]
    }
   ],
   "source": [
    "# Finally we can calculate the distance between all the embeddings and our search vector\n",
    "closest_texts = embedding_df.with_column(\n",
    "    'VECTOR_DISTANCE', \n",
    "    F.vector_l2_distance(\n",
    "        F.col('EMBEDDING'), \n",
    "        F.call_builtin(\n",
    "            'MULTILINGUAL_E5_SMALL_CUSTOM!ENCODE', \n",
    "            F.lit(search_text))['EMBEDDING'].cast(T.VectorType(float,384))\n",
    "    )\n",
    ").cache_result()\n",
    "\n",
    "# As we can see, all of the closest texts are AI related like our search vector\n",
    "closest_texts.order_by('VECTOR_DISTANCE').drop('EMBEDDING').show(max_width=100)"
   ]
  }
 ],
 "metadata": {
  "kernelspec": {
   "display_name": "pysnowpark_huggingface",
   "language": "python",
   "name": "python3"
  },
  "language_info": {
   "codemirror_mode": {
    "name": "ipython",
    "version": 3
   },
   "file_extension": ".py",
   "mimetype": "text/x-python",
   "name": "python",
   "nbconvert_exporter": "python",
   "pygments_lexer": "ipython3",
   "version": "3.11.8"
  }
 },
 "nbformat": 4,
 "nbformat_minor": 2
}

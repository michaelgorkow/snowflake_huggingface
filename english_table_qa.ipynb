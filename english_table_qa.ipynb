{
 "cells": [
  {
   "cell_type": "markdown",
   "metadata": {},
   "source": [
    "# Imports"
   ]
  },
  {
   "cell_type": "code",
   "execution_count": 1,
   "metadata": {},
   "outputs": [],
   "source": [
    "import warnings\n",
    "warnings.filterwarnings(\"ignore\")\n",
    "\n",
    "# Load variables\n",
    "import os\n",
    "from dotenv import load_dotenv\n",
    "load_dotenv()\n",
    "\n",
    "# Snowpark Imports\n",
    "from snowflake.snowpark.session import Session\n",
    "import snowflake.snowpark.functions as F\n",
    "import snowflake.snowpark.types as T"
   ]
  },
  {
   "cell_type": "markdown",
   "metadata": {},
   "source": [
    "# Connect to Snowflake"
   ]
  },
  {
   "cell_type": "code",
   "execution_count": 4,
   "metadata": {},
   "outputs": [
    {
     "name": "stdout",
     "output_type": "stream",
     "text": [
      "Role:      \"ACCOUNTADMIN\"\n",
      "Warehouse: \"COMPUTE_WH\"\n",
      "Database:  \"MACHINE_LEARNING\"\n",
      "Schema:    \"PUBLIC\"\n"
     ]
    }
   ],
   "source": [
    "snowflake_connection_cfg = {\n",
    "    \"ACCOUNT\": os.getenv('SF_ACCOUNT'),\n",
    "    \"USER\": os.getenv('SF_USER'),\n",
    "    \"ROLE\": os.getenv('SF_ROLE'),\n",
    "    \"PASSWORD\": os.getenv('SF_PASSWORD'),\n",
    "    \"DATABASE\": os.getenv('SF_DATABASE'),\n",
    "    \"SCHEMA\": os.getenv('SF_SCHEMA'),\n",
    "    \"WAREHOUSE\": os.getenv('SF_WAREHOUSE')\n",
    "}\n",
    "\n",
    "# Creating Snowpark Session\n",
    "session = Session.builder.configs(snowflake_connection_cfg).create()\n",
    "\n",
    "print('Role:     ', session.get_current_role())\n",
    "print('Warehouse:', session.get_current_warehouse())\n",
    "print('Database: ', session.get_current_database())\n",
    "print('Schema:   ', session.get_current_schema())"
   ]
  },
  {
   "cell_type": "code",
   "execution_count": 155,
   "metadata": {},
   "outputs": [
    {
     "name": "stdout",
     "output_type": "stream",
     "text": [
      "----------------------------\n",
      "|\"EMPLOYEE\"     |\"SALARY\"  |\n",
      "----------------------------\n",
      "|Alice Johnson  |10        |\n",
      "|Bob Smith      |20        |\n",
      "|Carlos Ray     |30        |\n",
      "|Diana Grace    |40        |\n",
      "|Evan Zhao      |50        |\n",
      "----------------------------\n",
      "\n"
     ]
    }
   ],
   "source": [
    "# Create some test data to work with\n",
    "salary_list = [\n",
    "    [\"Alice Johnson\", 10],\n",
    "    [\"Bob Smith\", 20],\n",
    "    [\"Carlos Ray\", 30],\n",
    "    [\"Diana Grace\", 40],\n",
    "    [\"Evan Zhao\", 50]\n",
    "]\n",
    "\n",
    "df = session.create_dataframe(salary_list, schema=['EMPLOYEE','SALARY'])\n",
    "df.show(n=15, max_width=1000)"
   ]
  },
  {
   "cell_type": "markdown",
   "metadata": {},
   "source": [
    "# Register & Run Table-QA Model"
   ]
  },
  {
   "cell_type": "code",
   "execution_count": 8,
   "metadata": {},
   "outputs": [],
   "source": [
    "# Get the model registry object\n",
    "from snowflake.ml.registry import Registry\n",
    "reg = Registry(\n",
    "    session=session, \n",
    "    database_name=session.get_current_database(), \n",
    "    schema_name=session.get_current_schema()\n",
    "    )"
   ]
  },
  {
   "cell_type": "code",
   "execution_count": 9,
   "metadata": {},
   "outputs": [
    {
     "name": "stderr",
     "output_type": "stream",
     "text": [
      "Some non-default generation parameters are set in the model config. These should go into a GenerationConfig file (https://huggingface.co/docs/transformers/generation_strategies#save-a-custom-decoding-strategy-with-your-model) instead. This warning will be raised to an exception in v4.41.\n",
      "Non-default generation parameters: {'temperature': 0.0352513}\n"
     ]
    }
   ],
   "source": [
    "# Get the table-qa model from Huggingface\n",
    "# Make sure it fits into a Snowflake warehouse and does not require GPUs\n",
    "# Otherwise the model must deployed in Snowpark Container Services\n",
    "from transformers import pipeline\n",
    "pipe = pipeline(task=\"table-question-answering\", model=\"google/tapas-large-finetuned-wtq\")\n",
    "\n",
    "# use Snowpark Optimized Warehouse because model is big\n",
    "session.use_warehouse('snowpark_opt_wh')\n",
    "\n",
    "# Register the model to Snowflake (predict is the model's function we want to call)\n",
    "snow_model = reg.log_model(\n",
    "    pipe, \n",
    "    model_name='tapas_large_finetuned_wtq', \n",
    "    sample_input_data=df.limit(10),\n",
    "    conda_dependencies=['tokenizers','transformers','sentencepiece']\n",
    "    )"
   ]
  },
  {
   "cell_type": "code",
   "execution_count": 156,
   "metadata": {},
   "outputs": [
    {
     "name": "stdout",
     "output_type": "stream",
     "text": [
      "------------------------------------------------------\n",
      "|\"table\"                                             |\n",
      "------------------------------------------------------\n",
      "|{\"EMPLOYEE\":[\"Alice Johnson\",\"Bob Smith\",\"Carlo...  |\n",
      "------------------------------------------------------\n",
      "\n"
     ]
    }
   ],
   "source": [
    "# transform data suitable for table-qa model\n",
    "df = df.select(F.array_agg('EMPLOYEE').as_('EMPLOYEE'),F.array_agg(F.col('SALARY').cast(T.StringType())).as_('SALARY'))\n",
    "df = df.select(F.call_builtin('object_agg', F.lit('EMPLOYEE'), F.col('EMPLOYEE')).as_('EMPLOYEE'), F.call_builtin('object_agg', F.lit('SALARY'), F.col('SALARY')).as_('SALARY'))\n",
    "df = df.select(F.object_construct('*').cast(T.StringType()).as_('\"table\"'))\n",
    "df.show()"
   ]
  },
  {
   "cell_type": "code",
   "execution_count": 157,
   "metadata": {},
   "outputs": [
    {
     "name": "stdout",
     "output_type": "stream",
     "text": [
      "------------------------------------------------------------------------------------------------------------------------------------------------------------------------------------------------------------------\n",
      "|\"table\"                                                                                                                |\"query\"                             |\"answer\"  |\"coordinates\"  |\"cells\"  |\"aggregator\"  |\n",
      "------------------------------------------------------------------------------------------------------------------------------------------------------------------------------------------------------------------\n",
      "|{\"EMPLOYEE\":[\"Alice Johnson\",\"Bob Smith\",\"Evan Zhao\",\"Diana Grace\",\"Carlos Ray\"],\"SALARY\":[\"10\",\"20\",\"50\",\"40\",\"30\"]}  |What is the salary of Diana Grace?  |SUM > 40  |[              |[        |SUM           |\n",
      "|                                                                                                                       |                                    |          |  [            |  \"40\"   |              |\n",
      "|                                                                                                                       |                                    |          |    3,         |]        |              |\n",
      "|                                                                                                                       |                                    |          |    1          |         |              |\n",
      "|                                                                                                                       |                                    |          |  ]            |         |              |\n",
      "|                                                                                                                       |                                    |          |]              |         |              |\n",
      "------------------------------------------------------------------------------------------------------------------------------------------------------------------------------------------------------------------\n",
      "\n"
     ]
    }
   ],
   "source": [
    "# Ask questions\n",
    "df_query = df.with_column('\"query\"', F.lit('What is the salary of Diana Grace?').cast(T.StringType()))\n",
    "snow_model.run(df_query).show(max_width=1000)"
   ]
  },
  {
   "cell_type": "code",
   "execution_count": 159,
   "metadata": {},
   "outputs": [
    {
     "name": "stdout",
     "output_type": "stream",
     "text": [
      "-----------------------------------------------------------------------------------------------------------------------------------------------------------------------------------------------------------\n",
      "|\"table\"                                                                                                                |\"query\"                      |\"answer\"  |\"coordinates\"  |\"cells\"  |\"aggregator\"  |\n",
      "-----------------------------------------------------------------------------------------------------------------------------------------------------------------------------------------------------------\n",
      "|{\"EMPLOYEE\":[\"Diana Grace\",\"Alice Johnson\",\"Bob Smith\",\"Carlos Ray\",\"Evan Zhao\"],\"SALARY\":[\"40\",\"10\",\"20\",\"30\",\"50\"]}  |What is the minimum salary?  |SUM > 10  |[              |[        |SUM           |\n",
      "|                                                                                                                       |                             |          |  [            |  \"10\"   |              |\n",
      "|                                                                                                                       |                             |          |    1,         |]        |              |\n",
      "|                                                                                                                       |                             |          |    1          |         |              |\n",
      "|                                                                                                                       |                             |          |  ]            |         |              |\n",
      "|                                                                                                                       |                             |          |]              |         |              |\n",
      "-----------------------------------------------------------------------------------------------------------------------------------------------------------------------------------------------------------\n",
      "\n"
     ]
    }
   ],
   "source": [
    "# Ask questions\n",
    "df_query = df.with_column('\"query\"', F.lit('What is the minimum salary?').cast(T.StringType()))\n",
    "snow_model.run(df_query).show(max_width=1000)"
   ]
  },
  {
   "cell_type": "code",
   "execution_count": 160,
   "metadata": {},
   "outputs": [
    {
     "name": "stdout",
     "output_type": "stream",
     "text": [
      "------------------------------------------------------------------------------------------------------------------------------------------------------------------------------------------------------------------\n",
      "|\"table\"                                                                                                                |\"query\"                      |\"answer\"   |\"coordinates\"  |\"cells\"        |\"aggregator\"  |\n",
      "------------------------------------------------------------------------------------------------------------------------------------------------------------------------------------------------------------------\n",
      "|{\"EMPLOYEE\":[\"Alice Johnson\",\"Carlos Ray\",\"Evan Zhao\",\"Bob Smith\",\"Diana Grace\"],\"SALARY\":[\"10\",\"30\",\"50\",\"20\",\"40\"]}  |Who has the highest salary?  |Evan Zhao  |[              |[              |NONE          |\n",
      "|                                                                                                                       |                             |           |  [            |  \"Evan Zhao\"  |              |\n",
      "|                                                                                                                       |                             |           |    2,         |]              |              |\n",
      "|                                                                                                                       |                             |           |    0          |               |              |\n",
      "|                                                                                                                       |                             |           |  ]            |               |              |\n",
      "|                                                                                                                       |                             |           |]              |               |              |\n",
      "------------------------------------------------------------------------------------------------------------------------------------------------------------------------------------------------------------------\n",
      "\n"
     ]
    }
   ],
   "source": [
    "# Ask questions\n",
    "df_query = df.with_column('\"query\"', F.lit('Who has the highest salary?').cast(T.StringType()))\n",
    "snow_model.run(df_query).show(max_width=1000)"
   ]
  },
  {
   "cell_type": "code",
   "execution_count": 161,
   "metadata": {},
   "outputs": [
    {
     "name": "stdout",
     "output_type": "stream",
     "text": [
      "-----------------------------------------------------------------------------------------------------------------------------------------------------------------------------------------------------------------------------------------------------------\n",
      "|\"table\"                                                                                                                |\"query\"                                                |\"answer\"                |\"coordinates\"  |\"cells\"          |\"aggregator\"  |\n",
      "-----------------------------------------------------------------------------------------------------------------------------------------------------------------------------------------------------------------------------------------------------------\n",
      "|{\"EMPLOYEE\":[\"Bob Smith\",\"Alice Johnson\",\"Evan Zhao\",\"Diana Grace\",\"Carlos Ray\"],\"SALARY\":[\"20\",\"10\",\"50\",\"40\",\"30\"]}  |Which employees have a higher salary than Carlos Ray?  |Evan Zhao, Diana Grace  |[              |[                |NONE          |\n",
      "|                                                                                                                       |                                                       |                        |  [            |  \"Evan Zhao\",   |              |\n",
      "|                                                                                                                       |                                                       |                        |    2,         |  \"Diana Grace\"  |              |\n",
      "|                                                                                                                       |                                                       |                        |    0          |]                |              |\n",
      "|                                                                                                                       |                                                       |                        |  ],           |                 |              |\n",
      "|                                                                                                                       |                                                       |                        |  [            |                 |              |\n",
      "|                                                                                                                       |                                                       |                        |    3,         |                 |              |\n",
      "|                                                                                                                       |                                                       |                        |    0          |                 |              |\n",
      "|                                                                                                                       |                                                       |                        |  ]            |                 |              |\n",
      "|                                                                                                                       |                                                       |                        |]              |                 |              |\n",
      "-----------------------------------------------------------------------------------------------------------------------------------------------------------------------------------------------------------------------------------------------------------\n",
      "\n"
     ]
    }
   ],
   "source": [
    "# Ask questions\n",
    "df_query = df.with_column('\"query\"', F.lit('Which employees have a higher salary than Carlos Ray?').cast(T.StringType()))\n",
    "snow_model.run(df_query).show(max_width=1000)"
   ]
  }
 ],
 "metadata": {
  "kernelspec": {
   "display_name": "pysnowpark_huggingface",
   "language": "python",
   "name": "python3"
  },
  "language_info": {
   "codemirror_mode": {
    "name": "ipython",
    "version": 3
   },
   "file_extension": ".py",
   "mimetype": "text/x-python",
   "name": "python",
   "nbconvert_exporter": "python",
   "pygments_lexer": "ipython3",
   "version": "3.11.8"
  }
 },
 "nbformat": 4,
 "nbformat_minor": 2
}

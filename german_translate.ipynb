{
 "cells": [
  {
   "cell_type": "markdown",
   "metadata": {},
   "source": [
    "# Imports"
   ]
  },
  {
   "cell_type": "code",
   "execution_count": 2,
   "metadata": {},
   "outputs": [],
   "source": [
    "import warnings\n",
    "warnings.filterwarnings(\"ignore\")\n",
    "\n",
    "# Load variables\n",
    "import os\n",
    "from dotenv import load_dotenv\n",
    "load_dotenv()\n",
    "\n",
    "# Snowpark Imports\n",
    "from snowflake.snowpark.session import Session"
   ]
  },
  {
   "cell_type": "markdown",
   "metadata": {},
   "source": [
    "# Connect to Snowflake"
   ]
  },
  {
   "cell_type": "code",
   "execution_count": 3,
   "metadata": {},
   "outputs": [
    {
     "name": "stdout",
     "output_type": "stream",
     "text": [
      "Role:      \"ACCOUNTADMIN\"\n",
      "Warehouse: \"COMPUTE_WH\"\n",
      "Database:  \"MACHINE_LEARNING\"\n",
      "Schema:    \"PUBLIC\"\n"
     ]
    }
   ],
   "source": [
    "snowflake_connection_cfg = {\n",
    "    \"ACCOUNT\": os.getenv('SF_ACCOUNT'),\n",
    "    \"USER\": os.getenv('SF_USER'),\n",
    "    \"ROLE\": os.getenv('SF_ROLE'),\n",
    "    \"PASSWORD\": os.getenv('SF_PASSWORD'),\n",
    "    \"DATABASE\": os.getenv('SF_DATABASE'),\n",
    "    \"SCHEMA\": os.getenv('SF_SCHEMA'),\n",
    "    \"WAREHOUSE\": os.getenv('SF_WAREHOUSE')\n",
    "}\n",
    "\n",
    "# Creating Snowpark Session\n",
    "session = Session.builder.configs(snowflake_connection_cfg).create()\n",
    "\n",
    "print('Role:     ', session.get_current_role())\n",
    "print('Warehouse:', session.get_current_warehouse())\n",
    "print('Database: ', session.get_current_database())\n",
    "print('Schema:   ', session.get_current_schema())"
   ]
  },
  {
   "cell_type": "code",
   "execution_count": 4,
   "metadata": {},
   "outputs": [
    {
     "name": "stdout",
     "output_type": "stream",
     "text": [
      "--------------------------------------------------------------------------------------------------------------------------------------\n",
      "|\"INPUTS\"                                                                                                                            |\n",
      "--------------------------------------------------------------------------------------------------------------------------------------\n",
      "|Künstliche Intelligenz revolutioniert zunehmend verschiedenste Branchen, von der Automobilindustrie bis zur Medizintechnik.         |\n",
      "|Unternehmen investieren vermehrt in Cloud-Technologien, um ihre Daten effizienter zu verwalten und zu sichern.                      |\n",
      "|Die Entwicklung nachhaltiger Technologien wird als Schlüssel zur Bekämpfung des Klimawandels angesehen.                             |\n",
      "|Im Bereich der Robotik werden Fortschritte gemacht, die es Maschinen ermöglichen, komplexere Aufgaben zu übernehmen.                |\n",
      "|Die neueste Generation von Smartphones bietet verbesserte Kamerafunktionen und längere Akkulaufzeiten.                              |\n",
      "|Datenschutz und Privatsphäre im Internet gewinnen durch neue gesetzliche Regelungen an Bedeutung.                                   |\n",
      "|Virtual Reality erlebt einen Boom, mit Anwendungen, die von Bildung bis Unterhaltung reichen.                                       |\n",
      "|Autonome Fahrzeuge werden intensiv getestet, und es wird erwartet, dass sie die Art und Weise, wie wir reisen, verändern werden.    |\n",
      "|Wearables werden zunehmend smarter und finden Anwendung in Gesundheitsüberwachung und Fitness.                                      |\n",
      "|3D-Drucktechnologie entwickelt sich weiter und wird bereits in der Produktion von Bauteilen bis hin zu ganzen Gebäuden eingesetzt.  |\n",
      "--------------------------------------------------------------------------------------------------------------------------------------\n",
      "\n"
     ]
    }
   ],
   "source": [
    "# Create some test data to work with\n",
    "sentences_german = [\n",
    "    \"Künstliche Intelligenz revolutioniert zunehmend verschiedenste Branchen, von der Automobilindustrie bis zur Medizintechnik.\",\n",
    "    \"Unternehmen investieren vermehrt in Cloud-Technologien, um ihre Daten effizienter zu verwalten und zu sichern.\",\n",
    "    \"Die Entwicklung nachhaltiger Technologien wird als Schlüssel zur Bekämpfung des Klimawandels angesehen.\",\n",
    "    \"Im Bereich der Robotik werden Fortschritte gemacht, die es Maschinen ermöglichen, komplexere Aufgaben zu übernehmen.\",\n",
    "    \"Die neueste Generation von Smartphones bietet verbesserte Kamerafunktionen und längere Akkulaufzeiten.\",\n",
    "    \"Datenschutz und Privatsphäre im Internet gewinnen durch neue gesetzliche Regelungen an Bedeutung.\",\n",
    "    \"Virtual Reality erlebt einen Boom, mit Anwendungen, die von Bildung bis Unterhaltung reichen.\",\n",
    "    \"Autonome Fahrzeuge werden intensiv getestet, und es wird erwartet, dass sie die Art und Weise, wie wir reisen, verändern werden.\",\n",
    "    \"Wearables werden zunehmend smarter und finden Anwendung in Gesundheitsüberwachung und Fitness.\",\n",
    "    \"3D-Drucktechnologie entwickelt sich weiter und wird bereits in der Produktion von Bauteilen bis hin zu ganzen Gebäuden eingesetzt.\"\n",
    "]\n",
    "\n",
    "\n",
    "df = session.create_dataframe(sentences_german, schema=['INPUTS'])\n",
    "df.show(n=15, max_width=1000)"
   ]
  },
  {
   "cell_type": "markdown",
   "metadata": {},
   "source": [
    "# Register & Run Translation Model"
   ]
  },
  {
   "cell_type": "code",
   "execution_count": 5,
   "metadata": {},
   "outputs": [],
   "source": [
    "# Get the model registry object\n",
    "from snowflake.ml.registry import Registry\n",
    "reg = Registry(\n",
    "    session=session, \n",
    "    database_name=session.get_current_database(), \n",
    "    schema_name=session.get_current_schema()\n",
    "    )"
   ]
  },
  {
   "cell_type": "code",
   "execution_count": 6,
   "metadata": {},
   "outputs": [
    {
     "name": "stderr",
     "output_type": "stream",
     "text": [
      "Some non-default generation parameters are set in the model config. These should go into a GenerationConfig file (https://huggingface.co/docs/transformers/generation_strategies#save-a-custom-decoding-strategy-with-your-model) instead. This warning will be raised to an exception in v4.41.\n",
      "Non-default generation parameters: {'max_length': 512, 'num_beams': 4, 'bad_words_ids': [[58100]], 'forced_eos_token_id': 0}\n"
     ]
    },
    {
     "name": "stdout",
     "output_type": "stream",
     "text": [
      "--------------------------------------------------------------------------------------------------------------------------------------------------------------------------------------------------------------------------------------------------------------------------------\n",
      "|\"INPUTS\"                                                                                                                            |\"TRANSLATION_TEXT\"                                                                                                                       |\n",
      "--------------------------------------------------------------------------------------------------------------------------------------------------------------------------------------------------------------------------------------------------------------------------------\n",
      "|Die neueste Generation von Smartphones bietet verbesserte Kamerafunktionen und längere Akkulaufzeiten.                              |The latest generation of smartphones offers improved camera functions and longer battery life.                                           |\n",
      "|Virtual Reality erlebt einen Boom, mit Anwendungen, die von Bildung bis Unterhaltung reichen.                                       |Virtual reality is experiencing a boom, with applications ranging from education to entertainment.                                       |\n",
      "|Datenschutz und Privatsphäre im Internet gewinnen durch neue gesetzliche Regelungen an Bedeutung.                                   |Data protection and privacy on the Internet are becoming increasingly important through new legal regulations.                           |\n",
      "|Die Entwicklung nachhaltiger Technologien wird als Schlüssel zur Bekämpfung des Klimawandels angesehen.                             |The development of sustainable technologies is seen as a key to combating climate change.                                                |\n",
      "|Im Bereich der Robotik werden Fortschritte gemacht, die es Maschinen ermöglichen, komplexere Aufgaben zu übernehmen.                |Progress is being made in the field of robotics, enabling machines to take on more complex tasks.                                        |\n",
      "|Autonome Fahrzeuge werden intensiv getestet, und es wird erwartet, dass sie die Art und Weise, wie wir reisen, verändern werden.    |Autonomous vehicles are being intensively tested, and it is expected that they will change the way we travel.                            |\n",
      "|Künstliche Intelligenz revolutioniert zunehmend verschiedenste Branchen, von der Automobilindustrie bis zur Medizintechnik.         |Artificial intelligence is increasingly revolutionizing a wide range of industries, from the automotive industry to medical technology.  |\n",
      "|Wearables werden zunehmend smarter und finden Anwendung in Gesundheitsüberwachung und Fitness.                                      |Wearables are becoming increasingly smarter and are used in health monitoring and fitness.                                               |\n",
      "|Unternehmen investieren vermehrt in Cloud-Technologien, um ihre Daten effizienter zu verwalten und zu sichern.                      |Companies are increasingly investing in cloud technologies to manage and secure their data more efficiently.                             |\n",
      "|3D-Drucktechnologie entwickelt sich weiter und wird bereits in der Produktion von Bauteilen bis hin zu ganzen Gebäuden eingesetzt.  |3D printing technology is evolving and is already being used in the production of components up to entire buildings.                     |\n",
      "--------------------------------------------------------------------------------------------------------------------------------------------------------------------------------------------------------------------------------------------------------------------------------\n",
      "\n"
     ]
    }
   ],
   "source": [
    "# Get the translation model from Huggingface\n",
    "# Make sure it fits into a Snowflake warehouse and does not require GPUs\n",
    "# Otherwise the model must deployed in Snowpark Container Services\n",
    "from transformers import pipeline\n",
    "pipe = pipeline(\"translation\", model=\"Helsinki-NLP/opus-mt-de-en\")\n",
    "\n",
    "# Register the model to Snowflake\n",
    "snow_model_custom = reg.log_model(\n",
    "    pipe, \n",
    "    model_name='opus_mt_de_en', \n",
    "    conda_dependencies=['tokenizers','transformers','sentencepiece']\n",
    "    )\n",
    "\n",
    "# Model signature\n",
    "translations = snow_model_custom.run(df).cache_result()\n",
    "translations.show(n=10, max_width=1000)"
   ]
  }
 ],
 "metadata": {
  "kernelspec": {
   "display_name": "pysnowpark_huggingface",
   "language": "python",
   "name": "python3"
  },
  "language_info": {
   "codemirror_mode": {
    "name": "ipython",
    "version": 3
   },
   "file_extension": ".py",
   "mimetype": "text/x-python",
   "name": "python",
   "nbconvert_exporter": "python",
   "pygments_lexer": "ipython3",
   "version": "3.11.8"
  }
 },
 "nbformat": 4,
 "nbformat_minor": 2
}

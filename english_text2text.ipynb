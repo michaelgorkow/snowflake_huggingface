{
 "cells": [
  {
   "cell_type": "markdown",
   "metadata": {},
   "source": [
    "# Imports"
   ]
  },
  {
   "cell_type": "code",
   "execution_count": 1,
   "metadata": {},
   "outputs": [],
   "source": [
    "import warnings\n",
    "warnings.filterwarnings(\"ignore\")\n",
    "\n",
    "# Load variables\n",
    "import os\n",
    "from dotenv import load_dotenv\n",
    "load_dotenv()\n",
    "\n",
    "# Snowpark Imports\n",
    "from snowflake.snowpark.session import Session\n",
    "import snowflake.snowpark.functions as F"
   ]
  },
  {
   "cell_type": "markdown",
   "metadata": {},
   "source": [
    "# Connect to Snowflake"
   ]
  },
  {
   "cell_type": "code",
   "execution_count": 2,
   "metadata": {},
   "outputs": [
    {
     "name": "stdout",
     "output_type": "stream",
     "text": [
      "Role:      \"ACCOUNTADMIN\"\n",
      "Warehouse: \"COMPUTE_WH\"\n",
      "Database:  \"MACHINE_LEARNING\"\n",
      "Schema:    \"PUBLIC\"\n"
     ]
    }
   ],
   "source": [
    "snowflake_connection_cfg = {\n",
    "    \"ACCOUNT\": os.getenv('SF_ACCOUNT'),\n",
    "    \"USER\": os.getenv('SF_USER'),\n",
    "    \"ROLE\": os.getenv('SF_ROLE'),\n",
    "    \"PASSWORD\": os.getenv('SF_PASSWORD'),\n",
    "    \"DATABASE\": os.getenv('SF_DATABASE'),\n",
    "    \"SCHEMA\": os.getenv('SF_SCHEMA'),\n",
    "    \"WAREHOUSE\": os.getenv('SF_WAREHOUSE')\n",
    "}\n",
    "\n",
    "# Creating Snowpark Session\n",
    "session = Session.builder.configs(snowflake_connection_cfg).create()\n",
    "\n",
    "print('Role:     ', session.get_current_role())\n",
    "print('Warehouse:', session.get_current_warehouse())\n",
    "print('Database: ', session.get_current_database())\n",
    "print('Schema:   ', session.get_current_schema())"
   ]
  },
  {
   "cell_type": "code",
   "execution_count": 13,
   "metadata": {},
   "outputs": [
    {
     "name": "stdout",
     "output_type": "stream",
     "text": [
      "-------------------------------------------------------------------------------------------------------------------------------------------------------------------------------------------------------------------------------------------------------------------------------------------\n",
      "|\"INPUTS\"                                                                                                                                                                                                                                                                                 |\n",
      "-------------------------------------------------------------------------------------------------------------------------------------------------------------------------------------------------------------------------------------------------------------------------------------------\n",
      "|Technology is constantly evolving, leading to innovations like smartphones, electric vehicles, and smart homes. These advancements are making everyday tasks more convenient and transforming how we interact with our environment.                                                      |\n",
      "|Animals play a crucial role in our ecosystem. From pollinators like bees that help in the growth of fruits and vegetables, to predators that maintain the balance of species, each animal has a unique role that supports ecological balance.                                            |\n",
      "|Beauty trends have shifted significantly over the years, emphasizing more natural and sustainable products. Today's beauty industry focuses on ethical sourcing and transparency, catering to a more environmentally conscious consumer base.                                            |\n",
      "|Politics influence many aspects of our daily lives, from the quality of the roads we drive on to the safety of our neighborhoods. Understanding political systems and participating in electoral processes is crucial for ensuring that our voices are heard and our needs are met.      |\n",
      "|Machine learning, a subset of artificial intelligence, involves the development of algorithms that can learn from and make predictions based on data. This technology is revolutionizing industries by providing more personalized experiences and improving decision-making processes.  |\n",
      "-------------------------------------------------------------------------------------------------------------------------------------------------------------------------------------------------------------------------------------------------------------------------------------------\n",
      "\n"
     ]
    }
   ],
   "source": [
    "# Create some test data to work with\n",
    "topic_texts = [\n",
    "    \"Technology is constantly evolving, leading to innovations like smartphones, electric vehicles, and smart homes. These advancements are making everyday tasks more convenient and transforming how we interact with our environment.\",\n",
    "    \"Animals play a crucial role in our ecosystem. From pollinators like bees that help in the growth of fruits and vegetables, to predators that maintain the balance of species, each animal has a unique role that supports ecological balance.\",\n",
    "    \"Beauty trends have shifted significantly over the years, emphasizing more natural and sustainable products. Today's beauty industry focuses on ethical sourcing and transparency, catering to a more environmentally conscious consumer base.\",\n",
    "    \"Politics influence many aspects of our daily lives, from the quality of the roads we drive on to the safety of our neighborhoods. Understanding political systems and participating in electoral processes is crucial for ensuring that our voices are heard and our needs are met.\",\n",
    "    \"Machine learning, a subset of artificial intelligence, involves the development of algorithms that can learn from and make predictions based on data. This technology is revolutionizing industries by providing more personalized experiences and improving decision-making processes.\"\n",
    "]\n",
    "\n",
    "df = session.create_dataframe(topic_texts, schema=['INPUTS'])\n",
    "df.show(n=15, max_width=1000)"
   ]
  },
  {
   "cell_type": "markdown",
   "metadata": {},
   "source": [
    "# Register & Run Text2Text Model"
   ]
  },
  {
   "cell_type": "code",
   "execution_count": 4,
   "metadata": {},
   "outputs": [],
   "source": [
    "# Get the model registry object\n",
    "from snowflake.ml.registry import Registry\n",
    "reg = Registry(\n",
    "    session=session, \n",
    "    database_name=session.get_current_database(), \n",
    "    schema_name=session.get_current_schema()\n",
    "    )"
   ]
  },
  {
   "cell_type": "code",
   "execution_count": 16,
   "metadata": {},
   "outputs": [
    {
     "name": "stdout",
     "output_type": "stream",
     "text": [
      "-----------------------------------------------------------------------------------------------------------------------------------------------------------------------------------\n",
      "|\"INPUTS\"                                                                                              |\"GENERATED_TEXT\"                                                          |\n",
      "-----------------------------------------------------------------------------------------------------------------------------------------------------------------------------------\n",
      "|Beauty trends have shifted significantly over the years, emphasizing more natural and sustainable...  |Beauty                                                                    |\n",
      "|Politics influence many aspects of our daily lives, from the quality of the roads we drive on to ...  |Politics, Democracy, Society, Democracy                                   |\n",
      "|Animals play a crucial role in our ecosystem. From pollinators like bees that help in the growth ...  |Sustainability, Animals, Environment, Environmental Issues                |\n",
      "|Technology is constantly evolving, leading to innovations like smartphones, electric vehicles, an...  |Smart Home, Smart Cities, Mobility, Cars, Smart Cities, Technology, Tech  |\n",
      "|Machine learning, a subset of artificial intelligence, involves the development of algorithms tha...  |Ai, Artificial Intelligence, Machine Learning, Learning, Algorithms       |\n",
      "-----------------------------------------------------------------------------------------------------------------------------------------------------------------------------------\n",
      "\n"
     ]
    }
   ],
   "source": [
    "# Get the text2text generation model from Huggingface\n",
    "# Make sure it fits into a Snowflake warehouse and does not require GPUs\n",
    "# Otherwise the model must deployed in Snowpark Container Services\n",
    "from transformers import pipeline\n",
    "pipe = pipeline(\"text2text-generation\", model=\"fabiochiu/t5-base-tag-generation\")\n",
    "\n",
    "# use Snowpark Optimized Warehouse because model is big\n",
    "session.use_warehouse('snowpark_opt_wh')\n",
    "\n",
    "# Register the model to Snowflake (predict is the model's function we want to call)\n",
    "snow_model_custom = reg.log_model(\n",
    "    pipe, \n",
    "    model_name='t5_base_tag_generation', \n",
    "    sample_input_data=df.limit(10),\n",
    "    conda_dependencies=['tokenizers','transformers','sentencepiece']\n",
    "    )\n",
    "\n",
    "# Outputs\n",
    "tags = snow_model_custom.run(df).cache_result()\n",
    "tags.show(max_width=100)"
   ]
  }
 ],
 "metadata": {
  "kernelspec": {
   "display_name": "pysnowpark_huggingface",
   "language": "python",
   "name": "python3"
  },
  "language_info": {
   "codemirror_mode": {
    "name": "ipython",
    "version": 3
   },
   "file_extension": ".py",
   "mimetype": "text/x-python",
   "name": "python",
   "nbconvert_exporter": "python",
   "pygments_lexer": "ipython3",
   "version": "3.11.8"
  }
 },
 "nbformat": 4,
 "nbformat_minor": 2
}

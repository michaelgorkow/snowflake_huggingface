{
 "cells": [
  {
   "cell_type": "markdown",
   "metadata": {},
   "source": [
    "# Imports"
   ]
  },
  {
   "cell_type": "code",
   "execution_count": 25,
   "metadata": {},
   "outputs": [],
   "source": [
    "import warnings\n",
    "warnings.filterwarnings(\"ignore\")\n",
    "\n",
    "# Load variables\n",
    "import os\n",
    "from dotenv import load_dotenv\n",
    "load_dotenv()\n",
    "\n",
    "# Snowpark Imports\n",
    "from snowflake.snowpark.session import Session\n",
    "import snowflake.snowpark.functions as F\n",
    "import snowflake.snowpark.types as T\n",
    "from snowflake.ml.model.model_signature import FeatureSpec, DataType, ModelSignature"
   ]
  },
  {
   "cell_type": "markdown",
   "metadata": {},
   "source": [
    "# Connect to Snowflake"
   ]
  },
  {
   "cell_type": "code",
   "execution_count": 2,
   "metadata": {},
   "outputs": [
    {
     "name": "stdout",
     "output_type": "stream",
     "text": [
      "Role:      \"ACCOUNTADMIN\"\n",
      "Warehouse: \"COMPUTE_WH\"\n",
      "Database:  \"MACHINE_LEARNING\"\n",
      "Schema:    \"PUBLIC\"\n"
     ]
    }
   ],
   "source": [
    "snowflake_connection_cfg = {\n",
    "    \"ACCOUNT\": os.getenv('SF_ACCOUNT'),\n",
    "    \"USER\": os.getenv('SF_USER'),\n",
    "    \"ROLE\": os.getenv('SF_ROLE'),\n",
    "    \"PASSWORD\": os.getenv('SF_PASSWORD'),\n",
    "    \"DATABASE\": os.getenv('SF_DATABASE'),\n",
    "    \"SCHEMA\": os.getenv('SF_SCHEMA'),\n",
    "    \"WAREHOUSE\": os.getenv('SF_WAREHOUSE')\n",
    "}\n",
    "\n",
    "# Creating Snowpark Session\n",
    "session = Session.builder.configs(snowflake_connection_cfg).create()\n",
    "\n",
    "print('Role:     ', session.get_current_role())\n",
    "print('Warehouse:', session.get_current_warehouse())\n",
    "print('Database: ', session.get_current_database())\n",
    "print('Schema:   ', session.get_current_schema())"
   ]
  },
  {
   "cell_type": "code",
   "execution_count": 19,
   "metadata": {},
   "outputs": [
    {
     "name": "stdout",
     "output_type": "stream",
     "text": [
      "----------------------------------------------------------------------------------------------------------------------\n",
      "|\"sequences\"                                                                                    |\"candidate_labels\"  |\n",
      "----------------------------------------------------------------------------------------------------------------------\n",
      "|The government announced a new policy aimed at improving infrastructure and public services.   |[                   |\n",
      "|                                                                                               |  \"politics\",       |\n",
      "|                                                                                               |  \"sports\",         |\n",
      "|                                                                                               |  \"technology\"      |\n",
      "|                                                                                               |]                   |\n",
      "|Voters are showing increased interest in climate change issues in the upcoming elections.      |[                   |\n",
      "|                                                                                               |  \"politics\",       |\n",
      "|                                                                                               |  \"sports\",         |\n",
      "|                                                                                               |  \"technology\"      |\n",
      "|                                                                                               |]                   |\n",
      "|Recent debates highlight the need for reform in healthcare and education sectors.              |[                   |\n",
      "|                                                                                               |  \"politics\",       |\n",
      "|                                                                                               |  \"sports\",         |\n",
      "|                                                                                               |  \"technology\"      |\n",
      "|                                                                                               |]                   |\n",
      "|The local team secured a victory in the championship game after a dramatic final match.        |[                   |\n",
      "|                                                                                               |  \"politics\",       |\n",
      "|                                                                                               |  \"sports\",         |\n",
      "|                                                                                               |  \"technology\"      |\n",
      "|                                                                                               |]                   |\n",
      "|Athlete X broke the world record in the 100-meter sprint at the international track event.     |[                   |\n",
      "|                                                                                               |  \"politics\",       |\n",
      "|                                                                                               |  \"sports\",         |\n",
      "|                                                                                               |  \"technology\"      |\n",
      "|                                                                                               |]                   |\n",
      "|The sports community is embracing technology to enhance fair play and performance metrics.     |[                   |\n",
      "|                                                                                               |  \"politics\",       |\n",
      "|                                                                                               |  \"sports\",         |\n",
      "|                                                                                               |  \"technology\"      |\n",
      "|                                                                                               |]                   |\n",
      "|Advancements in AI are transforming industries, from healthcare to automotive manufacturing.   |[                   |\n",
      "|                                                                                               |  \"politics\",       |\n",
      "|                                                                                               |  \"sports\",         |\n",
      "|                                                                                               |  \"technology\"      |\n",
      "|                                                                                               |]                   |\n",
      "|Cybersecurity has become a top priority for businesses as digital threats continue to evolve.  |[                   |\n",
      "|                                                                                               |  \"politics\",       |\n",
      "|                                                                                               |  \"sports\",         |\n",
      "|                                                                                               |  \"technology\"      |\n",
      "|                                                                                               |]                   |\n",
      "|The latest smartphone model features an innovative solar charging system.                      |[                   |\n",
      "|                                                                                               |  \"politics\",       |\n",
      "|                                                                                               |  \"sports\",         |\n",
      "|                                                                                               |  \"technology\"      |\n",
      "|                                                                                               |]                   |\n",
      "|Researchers have developed a new algorithm that significantly speeds up data processing.       |[                   |\n",
      "|                                                                                               |  \"politics\",       |\n",
      "|                                                                                               |  \"sports\",         |\n",
      "|                                                                                               |  \"technology\"      |\n",
      "|                                                                                               |]                   |\n",
      "----------------------------------------------------------------------------------------------------------------------\n",
      "\n"
     ]
    }
   ],
   "source": [
    "# Create some test data to work with\n",
    "mixed_topics_sentences = [\n",
    "    # Politics\n",
    "    \"The government announced a new policy aimed at improving infrastructure and public services.\",\n",
    "    \"Voters are showing increased interest in climate change issues in the upcoming elections.\",\n",
    "    \"Recent debates highlight the need for reform in healthcare and education sectors.\",\n",
    "\n",
    "    # Sports\n",
    "    \"The local team secured a victory in the championship game after a dramatic final match.\",\n",
    "    \"Athlete X broke the world record in the 100-meter sprint at the international track event.\",\n",
    "    \"The sports community is embracing technology to enhance fair play and performance metrics.\",\n",
    "\n",
    "    # Technology\n",
    "    \"Advancements in AI are transforming industries, from healthcare to automotive manufacturing.\",\n",
    "    \"Cybersecurity has become a top priority for businesses as digital threats continue to evolve.\",\n",
    "    \"The latest smartphone model features an innovative solar charging system.\",\n",
    "    \"Researchers have developed a new algorithm that significantly speeds up data processing.\"\n",
    "]\n",
    "\n",
    "candidate_labels = ['politics','sports','technology']\n",
    "\n",
    "df = session.create_dataframe(mixed_topics_sentences, schema=['\"sequences\"'])\n",
    "df = df.with_column('\"candidate_labels\"', F.lit(candidate_labels))\n",
    "df.show(n=15, max_width=1000)"
   ]
  },
  {
   "cell_type": "markdown",
   "metadata": {},
   "source": [
    "# Register & Run Zero-Shot Model"
   ]
  },
  {
   "cell_type": "code",
   "execution_count": 5,
   "metadata": {},
   "outputs": [],
   "source": [
    "# Get the model registry object\n",
    "from snowflake.ml.registry import Registry\n",
    "reg = Registry(\n",
    "    session=session, \n",
    "    database_name=session.get_current_database(), \n",
    "    schema_name=session.get_current_schema()\n",
    "    )"
   ]
  },
  {
   "cell_type": "code",
   "execution_count": 38,
   "metadata": {},
   "outputs": [
    {
     "name": "stdout",
     "output_type": "stream",
     "text": [
      "-----------------------------------------------------------------------------------------------------------------------------------------------------------------------------\n",
      "|\"sequences\"                                         |\"candidate_labels\"  |\"sequence\"                                          |\"labels\"         |\"scores\"                  |\n",
      "-----------------------------------------------------------------------------------------------------------------------------------------------------------------------------\n",
      "|The latest smartphone model features an innovat...  |[                   |The latest smartphone model features an innovat...  |[                |[                         |\n",
      "|                                                    |  \"politics\",       |                                                    |  \"technology\",  |  0.9903589487075806,     |\n",
      "|                                                    |  \"sports\",         |                                                    |  \"sports\",      |  0.006737382151186466,   |\n",
      "|                                                    |  \"technology\"      |                                                    |  \"politics\"     |  0.0029036845080554485   |\n",
      "|                                                    |]                   |                                                    |]                |]                         |\n",
      "|Researchers have developed a new algorithm that...  |[                   |Researchers have developed a new algorithm that...  |[                |[                         |\n",
      "|                                                    |  \"politics\",       |                                                    |  \"technology\",  |  0.9947484135627747,     |\n",
      "|                                                    |  \"sports\",         |                                                    |  \"sports\",      |  0.0035148346796631813,  |\n",
      "|                                                    |  \"technology\"      |                                                    |  \"politics\"     |  0.0017367167165502906   |\n",
      "|                                                    |]                   |                                                    |]                |]                         |\n",
      "|Recent debates highlight the need for reform in...  |[                   |Recent debates highlight the need for reform in...  |[                |[                         |\n",
      "|                                                    |  \"politics\",       |                                                    |  \"politics\",    |  0.8969783782958984,     |\n",
      "|                                                    |  \"sports\",         |                                                    |  \"sports\",      |  0.05154125764966011,    |\n",
      "|                                                    |  \"technology\"      |                                                    |  \"technology\"   |  0.05148036777973175     |\n",
      "|                                                    |]                   |                                                    |]                |]                         |\n",
      "|Advancements in AI are transforming industries,...  |[                   |Advancements in AI are transforming industries,...  |[                |[                         |\n",
      "|                                                    |  \"politics\",       |                                                    |  \"technology\",  |  0.986897885799408,      |\n",
      "|                                                    |  \"sports\",         |                                                    |  \"sports\",      |  0.006860150024294853,   |\n",
      "|                                                    |  \"technology\"      |                                                    |  \"politics\"     |  0.006241964641958475    |\n",
      "|                                                    |]                   |                                                    |]                |]                         |\n",
      "|The sports community is embracing technology to...  |[                   |The sports community is embracing technology to...  |[                |[                         |\n",
      "|                                                    |  \"politics\",       |                                                    |  \"sports\",      |  0.6579700112342834,     |\n",
      "|                                                    |  \"sports\",         |                                                    |  \"technology\",  |  0.34036198258399963,    |\n",
      "|                                                    |  \"technology\"      |                                                    |  \"politics\"     |  0.0016679820837453008   |\n",
      "|                                                    |]                   |                                                    |]                |]                         |\n",
      "|Voters are showing increased interest in climat...  |[                   |Voters are showing increased interest in climat...  |[                |[                         |\n",
      "|                                                    |  \"politics\",       |                                                    |  \"politics\",    |  0.9838654398918152,     |\n",
      "|                                                    |  \"sports\",         |                                                    |  \"sports\",      |  0.009039081633090973,   |\n",
      "|                                                    |  \"technology\"      |                                                    |  \"technology\"   |  0.00709551339969039     |\n",
      "|                                                    |]                   |                                                    |]                |]                         |\n",
      "|The government announced a new policy aimed at ...  |[                   |The government announced a new policy aimed at ...  |[                |[                         |\n",
      "|                                                    |  \"politics\",       |                                                    |  \"politics\",    |  0.9957723021507263,     |\n",
      "|                                                    |  \"sports\",         |                                                    |  \"technology\",  |  0.002519152360036969,   |\n",
      "|                                                    |  \"technology\"      |                                                    |  \"sports\"       |  0.0017085539875552058   |\n",
      "|                                                    |]                   |                                                    |]                |]                         |\n",
      "|The local team secured a victory in the champio...  |[                   |The local team secured a victory in the champio...  |[                |[                         |\n",
      "|                                                    |  \"politics\",       |                                                    |  \"sports\",      |  0.9913759827613831,     |\n",
      "|                                                    |  \"sports\",         |                                                    |  \"technology\",  |  0.007842379622161388,   |\n",
      "|                                                    |  \"technology\"      |                                                    |  \"politics\"     |  0.0007816568249836564   |\n",
      "|                                                    |]                   |                                                    |]                |]                         |\n",
      "|Cybersecurity has become a top priority for bus...  |[                   |Cybersecurity has become a top priority for bus...  |[                |[                         |\n",
      "|                                                    |  \"politics\",       |                                                    |  \"technology\",  |  0.9675704836845398,     |\n",
      "|                                                    |  \"sports\",         |                                                    |  \"politics\",    |  0.017806971445679665,   |\n",
      "|                                                    |  \"technology\"      |                                                    |  \"sports\"       |  0.014622514136135578    |\n",
      "|                                                    |]                   |                                                    |]                |]                         |\n",
      "|Athlete X broke the world record in the 100-met...  |[                   |Athlete X broke the world record in the 100-met...  |[                |[                         |\n",
      "|                                                    |  \"politics\",       |                                                    |  \"sports\",      |  0.9978824257850647,     |\n",
      "|                                                    |  \"sports\",         |                                                    |  \"technology\",  |  0.0017733679851517081,  |\n",
      "|                                                    |  \"technology\"      |                                                    |  \"politics\"     |  0.00034420849988237023  |\n",
      "|                                                    |]                   |                                                    |]                |]                         |\n",
      "-----------------------------------------------------------------------------------------------------------------------------------------------------------------------------\n",
      "\n"
     ]
    }
   ],
   "source": [
    "# Get the embedding model from Huggingface\n",
    "# Make sure it fits into a Snowflake warehouse and does not require GPUs\n",
    "# Otherwise the model must deployed in Snowpark Container Services\n",
    "from transformers import pipeline\n",
    "pipe = pipeline(\"zero-shot-classification\", model=\"MoritzLaurer/DeBERTa-v3-base-mnli-fever-anli\")\n",
    "\n",
    "# use SOWH because model is big\n",
    "session.use_warehouse('snowpark_opt_wh')\n",
    "\n",
    "# Register the model to Snowflake (predict is the model's function we want to call)\n",
    "snow_model_custom = reg.log_model(\n",
    "    pipe, \n",
    "    model_name='deberta_v3_base_mnli_fever_anli', \n",
    "    sample_input_data=df.limit(10),\n",
    "    conda_dependencies=['tokenizers','transformers']\n",
    "    )\n",
    "\n",
    "# Model signature\n",
    "classifications = snow_model_custom.run(df).cache_result()\n",
    "classifications.show()"
   ]
  },
  {
   "cell_type": "code",
   "execution_count": 36,
   "metadata": {},
   "outputs": [
    {
     "name": "stdout",
     "output_type": "stream",
     "text": [
      "-----------------------------------------------------------------------------------------------------------------------------------\n",
      "|\"sequences\"                                                                                    |\"LABEL\"     |\"SCORE\"             |\n",
      "-----------------------------------------------------------------------------------------------------------------------------------\n",
      "|The latest smartphone model features an innovative solar charging system.                      |technology  |0.9903589487075806  |\n",
      "|Researchers have developed a new algorithm that significantly speeds up data processing.       |technology  |0.9947484135627747  |\n",
      "|Recent debates highlight the need for reform in healthcare and education sectors.              |politics    |0.8969783782958984  |\n",
      "|Advancements in AI are transforming industries, from healthcare to automotive manufacturing.   |technology  |0.986897885799408   |\n",
      "|The sports community is embracing technology to enhance fair play and performance metrics.     |sports      |0.6579700112342834  |\n",
      "|Voters are showing increased interest in climate change issues in the upcoming elections.      |politics    |0.9838654398918152  |\n",
      "|The government announced a new policy aimed at improving infrastructure and public services.   |politics    |0.9957723021507263  |\n",
      "|The local team secured a victory in the championship game after a dramatic final match.        |sports      |0.9913759827613831  |\n",
      "|Cybersecurity has become a top priority for businesses as digital threats continue to evolve.  |technology  |0.9675704836845398  |\n",
      "|Athlete X broke the world record in the 100-meter sprint at the international track event.     |sports      |0.9978824257850647  |\n",
      "-----------------------------------------------------------------------------------------------------------------------------------\n",
      "\n"
     ]
    }
   ],
   "source": [
    "classifications.select(F.col('\"sequences\"'), F.col('\"labels\"')[0].cast(T.StringType()).as_('LABEL'), F.col('\"scores\"')[0].cast(T.FloatType()).as_('SCORE')).show(n=10, max_width=1000)"
   ]
  }
 ],
 "metadata": {
  "kernelspec": {
   "display_name": "pysnowpark_huggingface",
   "language": "python",
   "name": "python3"
  },
  "language_info": {
   "codemirror_mode": {
    "name": "ipython",
    "version": 3
   },
   "file_extension": ".py",
   "mimetype": "text/x-python",
   "name": "python",
   "nbconvert_exporter": "python",
   "pygments_lexer": "ipython3",
   "version": "3.11.8"
  }
 },
 "nbformat": 4,
 "nbformat_minor": 2
}

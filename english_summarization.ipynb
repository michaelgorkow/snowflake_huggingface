{
 "cells": [
  {
   "cell_type": "markdown",
   "metadata": {},
   "source": [
    "# Imports"
   ]
  },
  {
   "cell_type": "code",
   "execution_count": 17,
   "metadata": {},
   "outputs": [],
   "source": [
    "import warnings\n",
    "warnings.filterwarnings(\"ignore\")\n",
    "\n",
    "# Load variables\n",
    "import os\n",
    "from dotenv import load_dotenv\n",
    "load_dotenv()\n",
    "\n",
    "# Snowpark Imports\n",
    "from snowflake.snowpark.session import Session\n",
    "import snowflake.snowpark.functions as F"
   ]
  },
  {
   "cell_type": "markdown",
   "metadata": {},
   "source": [
    "# Connect to Snowflake"
   ]
  },
  {
   "cell_type": "code",
   "execution_count": 18,
   "metadata": {},
   "outputs": [
    {
     "name": "stdout",
     "output_type": "stream",
     "text": [
      "Role:      \"ACCOUNTADMIN\"\n",
      "Warehouse: \"COMPUTE_WH\"\n",
      "Database:  \"MACHINE_LEARNING\"\n",
      "Schema:    \"PUBLIC\"\n"
     ]
    }
   ],
   "source": [
    "snowflake_connection_cfg = {\n",
    "    \"ACCOUNT\": os.getenv('SF_ACCOUNT'),\n",
    "    \"USER\": os.getenv('SF_USER'),\n",
    "    \"ROLE\": os.getenv('SF_ROLE'),\n",
    "    \"PASSWORD\": os.getenv('SF_PASSWORD'),\n",
    "    \"DATABASE\": os.getenv('SF_DATABASE'),\n",
    "    \"SCHEMA\": os.getenv('SF_SCHEMA'),\n",
    "    \"WAREHOUSE\": os.getenv('SF_WAREHOUSE')\n",
    "}\n",
    "\n",
    "# Creating Snowpark Session\n",
    "session = Session.builder.configs(snowflake_connection_cfg).create()\n",
    "\n",
    "print('Role:     ', session.get_current_role())\n",
    "print('Warehouse:', session.get_current_warehouse())\n",
    "print('Database: ', session.get_current_database())\n",
    "print('Schema:   ', session.get_current_schema())"
   ]
  },
  {
   "cell_type": "code",
   "execution_count": 19,
   "metadata": {},
   "outputs": [
    {
     "name": "stdout",
     "output_type": "stream",
     "text": [
      "------------------------------------------------------------------------------------------------------------------------------------------------------------------------------------------------------------------------------------------------------------------------------------------\n",
      "|\"DOCUMENTS\"                                                                                                                                                                                                                                                                             |\n",
      "------------------------------------------------------------------------------------------------------------------------------------------------------------------------------------------------------------------------------------------------------------------------------------------\n",
      "|                                                                                                                                                                                                                                                                                        |\n",
      "|    The History of Internet Development: The internet, as we know it today, began as a military research project in the late 1960s.                                                                                                                                                     |\n",
      "|    Initially designed to share information securely among military personnel, it evolved into a tool for scientists to exchange data.                                                                                                                                                  |\n",
      "|    Over decades, what started as a rudimentary network of computers has transformed into a global system that connects billions of devices.                                                                                                                                            |\n",
      "|    This massive growth was largely due to the advent of the World Wide Web in the early 1990s, which made the internet more accessible and user-friendly.                                                                                                                              |\n",
      "|    Websites proliferated rapidly, and the internet became a central medium for communication, entertainment, and commerce.                                                                                                                                                             |\n",
      "|    Today, internet technology continues to evolve with trends like the Internet of Things (IoT) and the increasing demand for faster, more reliable connections.                                                                                                                       |\n",
      "|                                                                                                                                                                                                                                                                                        |\n",
      "|                                                                                                                                                                                                                                                                                        |\n",
      "|    Advances in Mobile Technology: Mobile technology has seen unprecedented growth over the last two decades.                                                                                                                                                                           |\n",
      "|    The transformation from basic cell phones to sophisticated smartphones is one of the most significant innovations in modern technology.                                                                                                                                             |\n",
      "|    Early mobile phones were primarily used for voice communication and short text messages. However, the introduction of smartphones changed the landscape completely.                                                                                                                 |\n",
      "|    Modern smartphones offer a wide range of functions including internet access, high-quality photography, and mobile applications that cater to every imaginable need, from navigating one's way in a new city to managing personal finances or even monitoring health and fitness.   |\n",
      "|    As mobile technology continues to advance, we see the integration of AI and augmented reality, pushing the boundaries of what smartphones can do.                                                                                                                                   |\n",
      "|                                                                                                                                                                                                                                                                                        |\n",
      "|                                                                                                                                                                                                                                                                                        |\n",
      "|    The Role of Technology in Modern Education: Technology has dramatically transformed the educational landscape.                                                                                                                                                                      |\n",
      "|    From elementary classrooms to prestigious universities, technology is an integral part of how education is delivered and received today.                                                                                                                                            |\n",
      "|    Digital tools such as tablets, smartboards, and educational software have become commonplace, making learning more interactive and accessible.                                                                                                                                      |\n",
      "|    Moreover, the rise of online education platforms has made it possible for people around the world to learn anything from coding to art history from the comfort of their homes.                                                                                                     |\n",
      "|    These platforms offer courses from top institutions and industry leaders, making quality education more accessible than ever before.                                                                                                                                                |\n",
      "|    While technology in education presents numerous opportunities, it also brings challenges such as digital divide and concerns about screen time.                                                                                                                                     |\n",
      "|                                                                                                                                                                                                                                                                                        |\n",
      "------------------------------------------------------------------------------------------------------------------------------------------------------------------------------------------------------------------------------------------------------------------------------------------\n",
      "\n"
     ]
    }
   ],
   "source": [
    "# Create some test data to work with\n",
    "long_texts = [\n",
    "    \"\"\"\n",
    "    The History of Internet Development: The internet, as we know it today, began as a military research project in the late 1960s. \n",
    "    Initially designed to share information securely among military personnel, it evolved into a tool for scientists to exchange data. \n",
    "    Over decades, what started as a rudimentary network of computers has transformed into a global system that connects billions of devices. \n",
    "    This massive growth was largely due to the advent of the World Wide Web in the early 1990s, which made the internet more accessible and user-friendly. \n",
    "    Websites proliferated rapidly, and the internet became a central medium for communication, entertainment, and commerce. \n",
    "    Today, internet technology continues to evolve with trends like the Internet of Things (IoT) and the increasing demand for faster, more reliable connections.\n",
    "    \"\"\",\n",
    "    \"\"\"\n",
    "    Advances in Mobile Technology: Mobile technology has seen unprecedented growth over the last two decades. \n",
    "    The transformation from basic cell phones to sophisticated smartphones is one of the most significant innovations in modern technology. \n",
    "    Early mobile phones were primarily used for voice communication and short text messages. However, the introduction of smartphones changed the landscape completely. \n",
    "    Modern smartphones offer a wide range of functions including internet access, high-quality photography, and mobile applications that cater to every imaginable need, from navigating one's way in a new city to managing personal finances or even monitoring health and fitness. \n",
    "    As mobile technology continues to advance, we see the integration of AI and augmented reality, pushing the boundaries of what smartphones can do.\n",
    "    \"\"\",\n",
    "    \"\"\"\n",
    "    The Role of Technology in Modern Education: Technology has dramatically transformed the educational landscape. \n",
    "    From elementary classrooms to prestigious universities, technology is an integral part of how education is delivered and received today. \n",
    "    Digital tools such as tablets, smartboards, and educational software have become commonplace, making learning more interactive and accessible. \n",
    "    Moreover, the rise of online education platforms has made it possible for people around the world to learn anything from coding to art history from the comfort of their homes. \n",
    "    These platforms offer courses from top institutions and industry leaders, making quality education more accessible than ever before. \n",
    "    While technology in education presents numerous opportunities, it also brings challenges such as digital divide and concerns about screen time.\n",
    "    \"\"\"\n",
    "]\n",
    "\n",
    "\n",
    "df = session.create_dataframe(long_texts, schema=['DOCUMENTS'])\n",
    "df.show(n=15, max_width=1000)"
   ]
  },
  {
   "cell_type": "markdown",
   "metadata": {},
   "source": [
    "# Register & Run Summarization Model"
   ]
  },
  {
   "cell_type": "code",
   "execution_count": 20,
   "metadata": {},
   "outputs": [],
   "source": [
    "# Get the model registry object\n",
    "from snowflake.ml.registry import Registry\n",
    "reg = Registry(\n",
    "    session=session, \n",
    "    database_name=session.get_current_database(), \n",
    "    schema_name=session.get_current_schema()\n",
    "    )"
   ]
  },
  {
   "cell_type": "code",
   "execution_count": 21,
   "metadata": {},
   "outputs": [
    {
     "name": "stderr",
     "output_type": "stream",
     "text": [
      "Some non-default generation parameters are set in the model config. These should go into a GenerationConfig file (https://huggingface.co/docs/transformers/generation_strategies#save-a-custom-decoding-strategy-with-your-model) instead. This warning will be raised to an exception in v4.41.\n",
      "Non-default generation parameters: {'max_length': 200, 'min_length': 30, 'early_stopping': True, 'num_beams': 4, 'length_penalty': 2.0, 'no_repeat_ngram_size': 3}\n"
     ]
    },
    {
     "name": "stdout",
     "output_type": "stream",
     "text": [
      "--------------------------------------------------------------------------------------------------------------------------------------------------------------------------------------------------------------------------------------------------------------------------------------------------------------------------------------------------------------------------------------------------------------------------------------------------------------------\n",
      "|\"SUMMARY_TEXT\"                                                                                                                                                                                                                                                                                                                                                                                                                                                    |\n",
      "--------------------------------------------------------------------------------------------------------------------------------------------------------------------------------------------------------------------------------------------------------------------------------------------------------------------------------------------------------------------------------------------------------------------------------------------------------------------\n",
      "|Digital tools such as tablets, smartboards, and educational software have become commonplace . Moreover, the rise of online education platforms has made it possible for people around the world to learn anything from coding to art history from comfort of their homes .                                                                                                                                                                                       |\n",
      "|The transformation from basic cell phones to sophisticated smartphones is one of the most significant innovations in modern technology . Modern smartphones offer a wide range of functions including internet access, high-quality photography, and mobile applications that cater to every imaginable need . As mobile technology continues to advance, we see the integration of AI and augmented reality, pushing the boundaries of what smartphones can do.  |\n",
      "|The History of Internet Development: The Internet, as we know it today, began as a military research project in the late 1960s . Initially designed to share information securely among military personnel, it evolved into a tool for scientists to exchange data . This massive growth was largely due to the advent of the World Wide Web in the early 1990s, which made the internet more accessible and user-friendly .                                      |\n",
      "--------------------------------------------------------------------------------------------------------------------------------------------------------------------------------------------------------------------------------------------------------------------------------------------------------------------------------------------------------------------------------------------------------------------------------------------------------------------\n",
      "\n"
     ]
    }
   ],
   "source": [
    "# Get the summarization model from Huggingface\n",
    "# Make sure it fits into a Snowflake warehouse and does not require GPUs\n",
    "# Otherwise the model must deployed in Snowpark Container Services\n",
    "from transformers import pipeline\n",
    "pipe = pipeline(\"summarization\", model=\"Falconsai/text_summarization\")\n",
    "\n",
    "# Register the model to Snowflake (predict is the model's function we want to call)\n",
    "snow_model_custom = reg.log_model(\n",
    "    pipe, \n",
    "    model_name='text_summarization', \n",
    "    sample_input_data=df.limit(10),\n",
    "    conda_dependencies=['tokenizers','transformers','sentencepiece']\n",
    "    )\n",
    "\n",
    "# Outputs\n",
    "summaries = snow_model_custom.run(df).cache_result()\n",
    "summaries.select('SUMMARY_TEXT').show(max_width=1000)"
   ]
  }
 ],
 "metadata": {
  "kernelspec": {
   "display_name": "pysnowpark_huggingface",
   "language": "python",
   "name": "python3"
  },
  "language_info": {
   "codemirror_mode": {
    "name": "ipython",
    "version": 3
   },
   "file_extension": ".py",
   "mimetype": "text/x-python",
   "name": "python",
   "nbconvert_exporter": "python",
   "pygments_lexer": "ipython3",
   "version": "3.11.8"
  }
 },
 "nbformat": 4,
 "nbformat_minor": 2
}

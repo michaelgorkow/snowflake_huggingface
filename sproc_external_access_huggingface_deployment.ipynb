{
 "cells": [
  {
   "cell_type": "markdown",
   "metadata": {},
   "source": [
    "# Deploy almost any Hugging Face Model even with shitty Internet\n",
    "Almost all of the examples in this repository assume you're working with a local client and require uploading the model from local to Snowflake.  \n",
    "Depending on the model-size, this can take quite some time.  \n",
    "\n",
    "This notebook shows how to deploy a Stored Procedure that uses Snowflake's External Access Integration to securely deploy almost any Hugging Face Model directly within Snowflake.  \n",
    "This means that the model will be downloaded from within Snowflake Stored Procedure and afterwards registered as a model in Snowflake's Model Registry.  \n",
    "\n",
    "The deployed function itself <u><b>does not require external access</b></u> since it incorporates all the required Hugging Face assets in itws own.  \n",
    "This make is super secure since no data (even if the model contains malicious code) can ever leave your Snowflake environment."
   ]
  },
  {
   "cell_type": "markdown",
   "metadata": {},
   "source": [
    "# Imports"
   ]
  },
  {
   "cell_type": "code",
   "execution_count": 1,
   "metadata": {},
   "outputs": [],
   "source": [
    "import warnings\n",
    "warnings.filterwarnings(\"ignore\")\n",
    "\n",
    "# Load variables\n",
    "import os\n",
    "from dotenv import load_dotenv\n",
    "load_dotenv()\n",
    "\n",
    "# Snowpark Imports\n",
    "from snowflake.snowpark.session import Session\n",
    "from snowflake.snowpark import functions as F\n",
    "from snowflake.snowpark.functions import sproc\n",
    "from snowflake.ml.model.model_signature import FeatureSpec, DataType, ModelSignature"
   ]
  },
  {
   "cell_type": "markdown",
   "metadata": {},
   "source": [
    "# Connect to Snowflake"
   ]
  },
  {
   "cell_type": "code",
   "execution_count": 29,
   "metadata": {},
   "outputs": [
    {
     "name": "stdout",
     "output_type": "stream",
     "text": [
      "Role:      \"ACCOUNTADMIN\"\n",
      "Warehouse: \"SNOWPARK_OPT_WH\"\n",
      "Database:  \"MACHINE_LEARNING\"\n",
      "Schema:    \"PUBLIC\"\n"
     ]
    }
   ],
   "source": [
    "snowflake_connection_cfg = {\n",
    "    \"ACCOUNT\": os.getenv('SF_ACCOUNT'),\n",
    "    \"USER\": os.getenv('SF_USER'),\n",
    "    \"ROLE\": os.getenv('SF_ROLE'),\n",
    "    \"PASSWORD\": os.getenv('SF_PASSWORD'),\n",
    "    \"DATABASE\": os.getenv('SF_DATABASE'),\n",
    "    \"SCHEMA\": os.getenv('SF_SCHEMA'),\n",
    "    \"WAREHOUSE\": os.getenv('SF_WAREHOUSE')\n",
    "}\n",
    "\n",
    "# Creating Snowpark Session\n",
    "session = Session.builder.configs(snowflake_connection_cfg).create()\n",
    "\n",
    "# Use Snowpark-Optimized Warehouse\n",
    "session.use_warehouse('snowpark_opt_wh')\n",
    "\n",
    "print('Role:     ', session.get_current_role())\n",
    "print('Warehouse:', session.get_current_warehouse())\n",
    "print('Database: ', session.get_current_database())\n",
    "print('Schema:   ', session.get_current_schema())"
   ]
  },
  {
   "cell_type": "markdown",
   "metadata": {},
   "source": [
    "# External Access Integration"
   ]
  },
  {
   "cell_type": "code",
   "execution_count": 24,
   "metadata": {},
   "outputs": [
    {
     "data": {
      "text/plain": [
       "[Row(status='HUGGINGFACE_FUNCTIONS already exists, statement succeeded.')]"
      ]
     },
     "execution_count": 24,
     "metadata": {},
     "output_type": "execute_result"
    }
   ],
   "source": [
    "# Create the network rule and external access integration (requires appropriate privileges)\n",
    "# https://docs.snowflake.com/sql-reference/sql/create-network-rule#access-control-requirements\n",
    "# https://docs.snowflake.com/en/sql-reference/sql/create-external-access-integration#access-control-requirements\n",
    "session.sql(\"\"\"CREATE OR REPLACE NETWORK RULE HUGGING_FACE_NETWORK_RULE\n",
    "                    MODE = EGRESS\n",
    "                    TYPE = HOST_PORT\n",
    "                    VALUE_LIST = ('huggingface.co','cdn-lfs-us-1.huggingface.co')\"\"\").collect()\n",
    "\n",
    "session.sql(\"\"\"CREATE OR REPLACE EXTERNAL ACCESS INTEGRATION HUGGING_FACE_ACCESS_INTEGRATION\n",
    "                    ALLOWED_NETWORK_RULES = (HUGGING_FACE_NETWORK_RULE)\n",
    "                    ENABLED = true\"\"\").collect()\n",
    "\n",
    "session.sql('CREATE STAGE IF NOT EXISTS HUGGINGFACE_FUNCTIONS').collect()"
   ]
  },
  {
   "cell_type": "markdown",
   "metadata": {},
   "source": [
    "# Stored Procedure with External Access to create Hugging Face Functions in Snowflake"
   ]
  },
  {
   "cell_type": "code",
   "execution_count": 32,
   "metadata": {},
   "outputs": [
    {
     "name": "stderr",
     "output_type": "stream",
     "text": [
      "The version of package 'snowflake-snowpark-python' in the local environment is 1.14.0, which does not fit the criteria for the requirement 'snowflake-snowpark-python'. Your UDF might not work when the package version is different between the server and your local environment.\n",
      "The version of package 'snowflake-ml-python' in the local environment is 1.4.0, which does not fit the criteria for the requirement 'snowflake-ml-python'. Your UDF might not work when the package version is different between the server and your local environment.\n",
      "The version of package 'tokenizers' in the local environment is 0.15.2, which does not fit the criteria for the requirement 'tokenizers'. Your UDF might not work when the package version is different between the server and your local environment.\n",
      "The version of package 'sentence-transformers' in the local environment is 2.6.1, which does not fit the criteria for the requirement 'sentence-transformers'. Your UDF might not work when the package version is different between the server and your local environment.\n"
     ]
    }
   ],
   "source": [
    "# Stored Procedure with External Access\n",
    "@sproc(session=session,\n",
    "       name='DEPLOY_HUGGINGFACE_MODEL', \n",
    "       is_permanent=True, \n",
    "       replace=True, \n",
    "       stage_location='HUGGINGFACE_FUNCTIONS', \n",
    "       packages=['snowflake-snowpark-python','snowflake-ml-python','tokenizers','transformers','sentence-transformers'],\n",
    "       external_access_integrations=['HUGGING_FACE_ACCESS_INTEGRATION'])\n",
    "def deploy_huggingface_model(session: Session, huggingface_model: str, huggingface_task: str, snowflake_model_name: str, snowflake_version_name: str) -> str:\n",
    "    import os\n",
    "    os.environ['HF_HOME'] = '/tmp'\n",
    "    if len(huggingface_task) > 0:\n",
    "        # If task is provided, create a huggingface pipeline\n",
    "        from transformers import pipeline\n",
    "        model = pipeline(huggingface_task, model=huggingface_model)\n",
    "    else:\n",
    "        # Else we assume it's a sentence-transformer\n",
    "        from sentence_transformers import SentenceTransformer\n",
    "        model = SentenceTransformer(huggingface_model)\n",
    "\n",
    "    # Get the model registry object\n",
    "    from snowflake.ml.registry import Registry\n",
    "    reg = Registry(\n",
    "        session=session, \n",
    "        database_name=session.get_current_database(), \n",
    "        schema_name=session.get_current_schema()\n",
    "        )\n",
    "\n",
    "    # Register the model to Snowflake with provided name\n",
    "    snow_model = reg.log_model(\n",
    "        model, \n",
    "        model_name=snowflake_model_name, \n",
    "        version_name=snowflake_version_name,\n",
    "        conda_dependencies=['tokenizers','transformers','sentence-transformers']\n",
    "    )\n",
    "    # We return the models function signatures\n",
    "    return str(snow_model.show_functions())\n"
   ]
  },
  {
   "cell_type": "code",
   "execution_count": 39,
   "metadata": {},
   "outputs": [
    {
     "name": "stdout",
     "output_type": "stream",
     "text": [
      "[{'name': '__CALL__', 'target_method': '__call__', 'signature': ModelSignature(\n",
      "                    inputs=[\n",
      "                        FeatureSpec(dtype=DataType.STRING, name='documents')\n",
      "                    ],\n",
      "                    outputs=[\n",
      "                        FeatureSpec(dtype=DataType.STRING, name='summary_text')\n",
      "                    ]\n",
      "                )}]\n"
     ]
    }
   ],
   "source": [
    "model_signature = deploy_huggingface_model(session, 'Falconsai/text_summarization', 'summarization', 'my_text_summarization','v2')\n",
    "print(model_signature)"
   ]
  },
  {
   "cell_type": "markdown",
   "metadata": {},
   "source": [
    "# Retrieve Model Reference"
   ]
  },
  {
   "cell_type": "code",
   "execution_count": 40,
   "metadata": {},
   "outputs": [],
   "source": [
    "# Connect to Model Registry\n",
    "from snowflake.ml.registry import Registry\n",
    "reg = Registry(\n",
    "    session=session, \n",
    "    database_name=session.get_current_database(), \n",
    "    schema_name=session.get_current_schema()\n",
    "    )\n",
    "\n",
    "# Retrieve Model Reference\n",
    "my_model = reg.get_model('my_text_summarization').default"
   ]
  },
  {
   "cell_type": "markdown",
   "metadata": {},
   "source": [
    "# Run the Model"
   ]
  },
  {
   "cell_type": "code",
   "execution_count": 41,
   "metadata": {},
   "outputs": [
    {
     "name": "stdout",
     "output_type": "stream",
     "text": [
      "------------------------------------------------------------------------------------------------------------------------------------------------------------------------------------------------------------------------------------------------------------------------------------------\n",
      "|\"DOCUMENTS\"                                                                                                                                                                                                                                                                             |\n",
      "------------------------------------------------------------------------------------------------------------------------------------------------------------------------------------------------------------------------------------------------------------------------------------------\n",
      "|                                                                                                                                                                                                                                                                                        |\n",
      "|    The History of Internet Development: The internet, as we know it today, began as a military research project in the late 1960s.                                                                                                                                                     |\n",
      "|    Initially designed to share information securely among military personnel, it evolved into a tool for scientists to exchange data.                                                                                                                                                  |\n",
      "|    Over decades, what started as a rudimentary network of computers has transformed into a global system that connects billions of devices.                                                                                                                                            |\n",
      "|    This massive growth was largely due to the advent of the World Wide Web in the early 1990s, which made the internet more accessible and user-friendly.                                                                                                                              |\n",
      "|    Websites proliferated rapidly, and the internet became a central medium for communication, entertainment, and commerce.                                                                                                                                                             |\n",
      "|    Today, internet technology continues to evolve with trends like the Internet of Things (IoT) and the increasing demand for faster, more reliable connections.                                                                                                                       |\n",
      "|                                                                                                                                                                                                                                                                                        |\n",
      "|                                                                                                                                                                                                                                                                                        |\n",
      "|    Advances in Mobile Technology: Mobile technology has seen unprecedented growth over the last two decades.                                                                                                                                                                           |\n",
      "|    The transformation from basic cell phones to sophisticated smartphones is one of the most significant innovations in modern technology.                                                                                                                                             |\n",
      "|    Early mobile phones were primarily used for voice communication and short text messages. However, the introduction of smartphones changed the landscape completely.                                                                                                                 |\n",
      "|    Modern smartphones offer a wide range of functions including internet access, high-quality photography, and mobile applications that cater to every imaginable need, from navigating one's way in a new city to managing personal finances or even monitoring health and fitness.   |\n",
      "|    As mobile technology continues to advance, we see the integration of AI and augmented reality, pushing the boundaries of what smartphones can do.                                                                                                                                   |\n",
      "|                                                                                                                                                                                                                                                                                        |\n",
      "|                                                                                                                                                                                                                                                                                        |\n",
      "|    The Role of Technology in Modern Education: Technology has dramatically transformed the educational landscape.                                                                                                                                                                      |\n",
      "|    From elementary classrooms to prestigious universities, technology is an integral part of how education is delivered and received today.                                                                                                                                            |\n",
      "|    Digital tools such as tablets, smartboards, and educational software have become commonplace, making learning more interactive and accessible.                                                                                                                                      |\n",
      "|    Moreover, the rise of online education platforms has made it possible for people around the world to learn anything from coding to art history from the comfort of their homes.                                                                                                     |\n",
      "|    These platforms offer courses from top institutions and industry leaders, making quality education more accessible than ever before.                                                                                                                                                |\n",
      "|    While technology in education presents numerous opportunities, it also brings challenges such as digital divide and concerns about screen time.                                                                                                                                     |\n",
      "|                                                                                                                                                                                                                                                                                        |\n",
      "------------------------------------------------------------------------------------------------------------------------------------------------------------------------------------------------------------------------------------------------------------------------------------------\n",
      "\n"
     ]
    }
   ],
   "source": [
    "# Create some test data to work with\n",
    "long_texts = [\n",
    "    \"\"\"\n",
    "    The History of Internet Development: The internet, as we know it today, began as a military research project in the late 1960s. \n",
    "    Initially designed to share information securely among military personnel, it evolved into a tool for scientists to exchange data. \n",
    "    Over decades, what started as a rudimentary network of computers has transformed into a global system that connects billions of devices. \n",
    "    This massive growth was largely due to the advent of the World Wide Web in the early 1990s, which made the internet more accessible and user-friendly. \n",
    "    Websites proliferated rapidly, and the internet became a central medium for communication, entertainment, and commerce. \n",
    "    Today, internet technology continues to evolve with trends like the Internet of Things (IoT) and the increasing demand for faster, more reliable connections.\n",
    "    \"\"\",\n",
    "    \"\"\"\n",
    "    Advances in Mobile Technology: Mobile technology has seen unprecedented growth over the last two decades. \n",
    "    The transformation from basic cell phones to sophisticated smartphones is one of the most significant innovations in modern technology. \n",
    "    Early mobile phones were primarily used for voice communication and short text messages. However, the introduction of smartphones changed the landscape completely. \n",
    "    Modern smartphones offer a wide range of functions including internet access, high-quality photography, and mobile applications that cater to every imaginable need, from navigating one's way in a new city to managing personal finances or even monitoring health and fitness. \n",
    "    As mobile technology continues to advance, we see the integration of AI and augmented reality, pushing the boundaries of what smartphones can do.\n",
    "    \"\"\",\n",
    "    \"\"\"\n",
    "    The Role of Technology in Modern Education: Technology has dramatically transformed the educational landscape. \n",
    "    From elementary classrooms to prestigious universities, technology is an integral part of how education is delivered and received today. \n",
    "    Digital tools such as tablets, smartboards, and educational software have become commonplace, making learning more interactive and accessible. \n",
    "    Moreover, the rise of online education platforms has made it possible for people around the world to learn anything from coding to art history from the comfort of their homes. \n",
    "    These platforms offer courses from top institutions and industry leaders, making quality education more accessible than ever before. \n",
    "    While technology in education presents numerous opportunities, it also brings challenges such as digital divide and concerns about screen time.\n",
    "    \"\"\"\n",
    "]\n",
    "\n",
    "\n",
    "df = session.create_dataframe(long_texts, schema=['DOCUMENTS'])\n",
    "df.show(n=15, max_width=1000)"
   ]
  },
  {
   "cell_type": "code",
   "execution_count": 43,
   "metadata": {},
   "outputs": [
    {
     "name": "stdout",
     "output_type": "stream",
     "text": [
      "--------------------------------------------------------------------------------------------------------------------------------------------------------------------------------------------------------------------------------------------------------------------------------------------------------------------------------------------------------------------------------------------------------------------------------------------------------------------\n",
      "|\"SUMMARY_TEXT\"                                                                                                                                                                                                                                                                                                                                                                                                                                                    |\n",
      "--------------------------------------------------------------------------------------------------------------------------------------------------------------------------------------------------------------------------------------------------------------------------------------------------------------------------------------------------------------------------------------------------------------------------------------------------------------------\n",
      "|The History of Internet Development: The Internet, as we know it today, began as a military research project in the late 1960s . Initially designed to share information securely among military personnel, it evolved into a tool for scientists to exchange data . This massive growth was largely due to the advent of the World Wide Web in the early 1990s, which made the internet more accessible and user-friendly .                                      |\n",
      "|Digital tools such as tablets, smartboards, and educational software have become commonplace . Moreover, the rise of online education platforms has made it possible for people around the world to learn anything from coding to art history from comfort of their homes .                                                                                                                                                                                       |\n",
      "|The transformation from basic cell phones to sophisticated smartphones is one of the most significant innovations in modern technology . Modern smartphones offer a wide range of functions including internet access, high-quality photography, and mobile applications that cater to every imaginable need . As mobile technology continues to advance, we see the integration of AI and augmented reality, pushing the boundaries of what smartphones can do.  |\n",
      "--------------------------------------------------------------------------------------------------------------------------------------------------------------------------------------------------------------------------------------------------------------------------------------------------------------------------------------------------------------------------------------------------------------------------------------------------------------------\n",
      "\n"
     ]
    }
   ],
   "source": [
    "my_model.run(df).drop('DOCUMENTS').show(max_width=1000)"
   ]
  }
 ],
 "metadata": {
  "kernelspec": {
   "display_name": "pysnowpark_huggingface",
   "language": "python",
   "name": "python3"
  },
  "language_info": {
   "codemirror_mode": {
    "name": "ipython",
    "version": 3
   },
   "file_extension": ".py",
   "mimetype": "text/x-python",
   "name": "python",
   "nbconvert_exporter": "python",
   "pygments_lexer": "ipython3",
   "version": "3.11.8"
  }
 },
 "nbformat": 4,
 "nbformat_minor": 2
}

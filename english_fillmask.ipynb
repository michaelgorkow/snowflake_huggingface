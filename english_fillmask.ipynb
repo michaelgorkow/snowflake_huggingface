{
 "cells": [
  {
   "cell_type": "markdown",
   "metadata": {},
   "source": [
    "# Imports"
   ]
  },
  {
   "cell_type": "code",
   "execution_count": 1,
   "metadata": {},
   "outputs": [],
   "source": [
    "import warnings\n",
    "warnings.filterwarnings(\"ignore\")\n",
    "\n",
    "# Load variables\n",
    "import os\n",
    "from dotenv import load_dotenv\n",
    "load_dotenv()\n",
    "\n",
    "# Snowpark Imports\n",
    "from snowflake.snowpark.session import Session\n",
    "import snowflake.snowpark.functions as F\n",
    "import snowflake.snowpark.types as T"
   ]
  },
  {
   "cell_type": "markdown",
   "metadata": {},
   "source": [
    "# Connect to Snowflake"
   ]
  },
  {
   "cell_type": "code",
   "execution_count": 2,
   "metadata": {},
   "outputs": [
    {
     "name": "stdout",
     "output_type": "stream",
     "text": [
      "Role:      \"ACCOUNTADMIN\"\n",
      "Warehouse: \"COMPUTE_WH\"\n",
      "Database:  \"MACHINE_LEARNING\"\n",
      "Schema:    \"PUBLIC\"\n"
     ]
    }
   ],
   "source": [
    "snowflake_connection_cfg = {\n",
    "    \"ACCOUNT\": os.getenv('SF_ACCOUNT'),\n",
    "    \"USER\": os.getenv('SF_USER'),\n",
    "    \"ROLE\": os.getenv('SF_ROLE'),\n",
    "    \"PASSWORD\": os.getenv('SF_PASSWORD'),\n",
    "    \"DATABASE\": os.getenv('SF_DATABASE'),\n",
    "    \"SCHEMA\": os.getenv('SF_SCHEMA'),\n",
    "    \"WAREHOUSE\": os.getenv('SF_WAREHOUSE')\n",
    "}\n",
    "\n",
    "# Creating Snowpark Session\n",
    "session = Session.builder.configs(snowflake_connection_cfg).create()\n",
    "\n",
    "print('Role:     ', session.get_current_role())\n",
    "print('Warehouse:', session.get_current_warehouse())\n",
    "print('Database: ', session.get_current_database())\n",
    "print('Schema:   ', session.get_current_schema())"
   ]
  },
  {
   "cell_type": "code",
   "execution_count": 13,
   "metadata": {},
   "outputs": [
    {
     "name": "stdout",
     "output_type": "stream",
     "text": [
      "-------------------------------------------------------------------------------------------\n",
      "|\"INPUTS\"                                                                                 |\n",
      "-------------------------------------------------------------------------------------------\n",
      "|Snowflake is an awesome technology because of its superior [MASK].                       |\n",
      "|During the summer, many people enjoy going to the [MASK] for a refreshing swim.          |\n",
      "|The chef added a pinch of [MASK] to enhance the flavor of the soup.                      |\n",
      "|To capture the perfect shot, the photographer adjusted the [MASK] on his camera.         |\n",
      "|The novel's twist was so unexpected that it completely changed the [MASK] of the story.  |\n",
      "-------------------------------------------------------------------------------------------\n",
      "\n"
     ]
    }
   ],
   "source": [
    "# Create some test data to work with\n",
    "masked_texts = [\n",
    "    \"Snowflake is an awesome technology because of its superior [MASK].\",\n",
    "    \"During the summer, many people enjoy going to the [MASK] for a refreshing swim.\",\n",
    "    \"The chef added a pinch of [MASK] to enhance the flavor of the soup.\",\n",
    "    \"To capture the perfect shot, the photographer adjusted the [MASK] on his camera.\",\n",
    "    \"The novel's twist was so unexpected that it completely changed the [MASK] of the story.\"\n",
    "]\n",
    "\n",
    "\n",
    "df = session.create_dataframe(masked_texts, schema=['INPUTS'])\n",
    "df.show(n=15, max_width=1000)"
   ]
  },
  {
   "cell_type": "markdown",
   "metadata": {},
   "source": [
    "# Register & Run Fill-Mask Model"
   ]
  },
  {
   "cell_type": "code",
   "execution_count": 4,
   "metadata": {},
   "outputs": [],
   "source": [
    "# Get the model registry object\n",
    "from snowflake.ml.registry import Registry\n",
    "reg = Registry(\n",
    "    session=session, \n",
    "    database_name=session.get_current_database(), \n",
    "    schema_name=session.get_current_schema()\n",
    "    )"
   ]
  },
  {
   "cell_type": "code",
   "execution_count": 39,
   "metadata": {},
   "outputs": [
    {
     "name": "stdout",
     "output_type": "stream",
     "text": [
      "--------------------------------------------------------------------------------------------------------\n",
      "|\"OUTPUTS\"                                                                                             |\n",
      "--------------------------------------------------------------------------------------------------------\n",
      "|[{\"score\": 0.223093181848526, \"token\": 2836, \"token_str\": \"performance\", \"sequence\": \"snowflake i...  |\n",
      "|[{\"score\": 0.34172508120536804, \"token\": 5474, \"token_str\": \"salt\", \"sequence\": \"the chef added a...  |\n",
      "|[{\"score\": 0.3048401176929474, \"token\": 10014, \"token_str\": \"lens\", \"sequence\": \"to capture the p...  |\n",
      "|[{\"score\": 0.2125847488641739, \"token\": 4309, \"token_str\": \"tone\", \"sequence\": \"the novel's twist...  |\n",
      "|[{\"score\": 0.43861153721809387, \"token\": 3509, \"token_str\": \"beach\", \"sequence\": \"during the summ...  |\n",
      "--------------------------------------------------------------------------------------------------------\n",
      "\n"
     ]
    }
   ],
   "source": [
    "# Get the fill-mask model from Huggingface\n",
    "# Make sure it fits into a Snowflake warehouse and does not require GPUs\n",
    "# Otherwise the model must deployed in Snowpark Container Services\n",
    "from transformers import pipeline\n",
    "pipe = pipeline(\"fill-mask\", model=\"google-bert/bert-base-uncased\")\n",
    "\n",
    "# use Snowpark Optimized Warehouse because model is big\n",
    "session.use_warehouse('snowpark_opt_wh')\n",
    "\n",
    "# Register the model to Snowflake\n",
    "snow_model = reg.log_model(\n",
    "    pipe, \n",
    "    model_name='bert_base_uncased', \n",
    "    sample_input_data=df.limit(10),\n",
    "    conda_dependencies=['tokenizers','transformers','sentencepiece']\n",
    "    )\n",
    "\n",
    "# Outputs\n",
    "filled_masks = snow_model.run(df).cache_result()\n",
    "filled_masks.select('OUTPUTS').show(n=5, max_width=100)"
   ]
  },
  {
   "cell_type": "code",
   "execution_count": 40,
   "metadata": {},
   "outputs": [
    {
     "name": "stdout",
     "output_type": "stream",
     "text": [
      "-----------------------------------------------------------------------------------------------------------------------------------------------------------------------------------------------------------------------------\n",
      "|\"INPUTS\"                                                                                 |\"SEQUENCE\"                                                                                  |\"TOKEN_STR\"  |\"SCORE\"               |\n",
      "-----------------------------------------------------------------------------------------------------------------------------------------------------------------------------------------------------------------------------\n",
      "|Snowflake is an awesome technology because of its superior [MASK].                       |snowflake is an awesome technology because of its superior performance.                     |performance  |0.223093181848526     |\n",
      "|Snowflake is an awesome technology because of its superior [MASK].                       |snowflake is an awesome technology because of its superior technology.                      |technology   |0.06360047310590744   |\n",
      "|Snowflake is an awesome technology because of its superior [MASK].                       |snowflake is an awesome technology because of its superior speed.                           |speed        |0.05310983583331108   |\n",
      "|Snowflake is an awesome technology because of its superior [MASK].                       |snowflake is an awesome technology because of its superior properties.                      |properties   |0.04189862310886383   |\n",
      "|Snowflake is an awesome technology because of its superior [MASK].                       |snowflake is an awesome technology because of its superior power.                           |power        |0.03870601579546928   |\n",
      "|The chef added a pinch of [MASK] to enhance the flavor of the soup.                      |the chef added a pinch of salt to enhance the flavor of the soup.                           |salt         |0.34172508120536804   |\n",
      "|The chef added a pinch of [MASK] to enhance the flavor of the soup.                      |the chef added a pinch of lemon to enhance the flavor of the soup.                          |lemon        |0.06315909326076508   |\n",
      "|The chef added a pinch of [MASK] to enhance the flavor of the soup.                      |the chef added a pinch of cream to enhance the flavor of the soup.                          |cream        |0.048354458063840866  |\n",
      "|The chef added a pinch of [MASK] to enhance the flavor of the soup.                      |the chef added a pinch of sugar to enhance the flavor of the soup.                          |sugar        |0.04822900518774986   |\n",
      "|The chef added a pinch of [MASK] to enhance the flavor of the soup.                      |the chef added a pinch of pepper to enhance the flavor of the soup.                         |pepper       |0.03954419493675232   |\n",
      "|To capture the perfect shot, the photographer adjusted the [MASK] on his camera.         |to capture the perfect shot, the photographer adjusted the lens on his camera.              |lens         |0.3048401176929474    |\n",
      "|To capture the perfect shot, the photographer adjusted the [MASK] on his camera.         |to capture the perfect shot, the photographer adjusted the lenses on his camera.            |lenses       |0.1248042806982994    |\n",
      "|To capture the perfect shot, the photographer adjusted the [MASK] on his camera.         |to capture the perfect shot, the photographer adjusted the focus on his camera.             |focus        |0.045262712985277176  |\n",
      "|To capture the perfect shot, the photographer adjusted the [MASK] on his camera.         |to capture the perfect shot, the photographer adjusted the angle on his camera.             |angle        |0.037716735154390335  |\n",
      "|To capture the perfect shot, the photographer adjusted the [MASK] on his camera.         |to capture the perfect shot, the photographer adjusted the sensor on his camera.            |sensor       |0.03136306256055832   |\n",
      "|The novel's twist was so unexpected that it completely changed the [MASK] of the story.  |the novel's twist was so unexpected that it completely changed the tone of the story.       |tone         |0.2125847488641739    |\n",
      "|The novel's twist was so unexpected that it completely changed the [MASK] of the story.  |the novel's twist was so unexpected that it completely changed the structure of the story.  |structure    |0.10637883096933363   |\n",
      "|The novel's twist was so unexpected that it completely changed the [MASK] of the story.  |the novel's twist was so unexpected that it completely changed the course of the story.     |course       |0.0716828927397728    |\n",
      "|The novel's twist was so unexpected that it completely changed the [MASK] of the story.  |the novel's twist was so unexpected that it completely changed the nature of the story.     |nature       |0.03940482437610626   |\n",
      "|The novel's twist was so unexpected that it completely changed the [MASK] of the story.  |the novel's twist was so unexpected that it completely changed the direction of the story.  |direction    |0.035926058888435364  |\n",
      "|During the summer, many people enjoy going to the [MASK] for a refreshing swim.          |during the summer, many people enjoy going to the beach for a refreshing swim.              |beach        |0.4386115372180938    |\n",
      "|During the summer, many people enjoy going to the [MASK] for a refreshing swim.          |during the summer, many people enjoy going to the lake for a refreshing swim.               |lake         |0.16535630822181702   |\n",
      "|During the summer, many people enjoy going to the [MASK] for a refreshing swim.          |during the summer, many people enjoy going to the ocean for a refreshing swim.              |ocean        |0.08455873280763626   |\n",
      "|During the summer, many people enjoy going to the [MASK] for a refreshing swim.          |during the summer, many people enjoy going to the river for a refreshing swim.              |river        |0.03272027522325516   |\n",
      "|During the summer, many people enjoy going to the [MASK] for a refreshing swim.          |during the summer, many people enjoy going to the beaches for a refreshing swim.            |beaches      |0.023058723658323288  |\n",
      "-----------------------------------------------------------------------------------------------------------------------------------------------------------------------------------------------------------------------------\n",
      "\n"
     ]
    }
   ],
   "source": [
    "# Transform outputs into rows\n",
    "filled_masks = filled_masks.join_table_function('FLATTEN', F.parse_json(F.col('OUTPUTS')))\n",
    "filled_masks = filled_masks.with_column('SCORE', F.col('VALUE')['score'].cast(T.FloatType()))\n",
    "filled_masks = filled_masks.with_column('SEQUENCE', F.col('VALUE')['sequence'].cast(T.StringType()))\n",
    "filled_masks = filled_masks.with_column('TOKEN_STR', F.col('VALUE')['token_str'].cast(T.StringType()))\n",
    "filled_masks.select(['INPUTS','SEQUENCE','TOKEN_STR','SCORE']).show(n=50, max_width=1000)"
   ]
  }
 ],
 "metadata": {
  "kernelspec": {
   "display_name": "pysnowpark_huggingface",
   "language": "python",
   "name": "python3"
  },
  "language_info": {
   "codemirror_mode": {
    "name": "ipython",
    "version": 3
   },
   "file_extension": ".py",
   "mimetype": "text/x-python",
   "name": "python",
   "nbconvert_exporter": "python",
   "pygments_lexer": "ipython3",
   "version": "3.11.8"
  }
 },
 "nbformat": 4,
 "nbformat_minor": 2
}

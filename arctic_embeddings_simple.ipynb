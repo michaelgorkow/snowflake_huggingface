{
 "cells": [
  {
   "cell_type": "markdown",
   "metadata": {},
   "source": [
    "# Imports"
   ]
  },
  {
   "cell_type": "code",
   "execution_count": 9,
   "metadata": {},
   "outputs": [],
   "source": [
    "import warnings\n",
    "warnings.filterwarnings(\"ignore\")\n",
    "\n",
    "# Load variables\n",
    "import os\n",
    "from dotenv import load_dotenv\n",
    "load_dotenv()\n",
    "\n",
    "# Snowpark Imports\n",
    "from snowflake.snowpark.session import Session\n",
    "import snowflake.snowpark.functions as F\n",
    "from snowflake.snowpark.functions import pandas_udf\n",
    "import snowflake.snowpark.types as T\n",
    "\n",
    "# Other\n",
    "import pandas as pd\n",
    "from cachetools import cached"
   ]
  },
  {
   "cell_type": "markdown",
   "metadata": {},
   "source": [
    "# Connect to Snowflake"
   ]
  },
  {
   "cell_type": "code",
   "execution_count": 10,
   "metadata": {},
   "outputs": [],
   "source": [
    "snowflake_connection_cfg = {\n",
    "    \"ACCOUNT\": os.getenv('SF_ACCOUNT'),\n",
    "    \"USER\": os.getenv('SF_USER'),\n",
    "    \"ROLE\": os.getenv('SF_ROLE'),\n",
    "    \"PASSWORD\": os.getenv('SF_PASSWORD'),\n",
    "    \"DATABASE\": os.getenv('SF_DATABASE'),\n",
    "    \"SCHEMA\": os.getenv('SF_SCHEMA'),\n",
    "    \"WAREHOUSE\": os.getenv('SF_WAREHOUSE')\n",
    "}\n",
    "\n",
    "# Creating Snowpark Session\n",
    "session = Session.builder.configs(snowflake_connection_cfg).create()"
   ]
  },
  {
   "cell_type": "markdown",
   "metadata": {},
   "source": [
    "## Create some Test Data\n",
    "Goal is to retrieve sentences related to AI. Other sentences should have higher distance."
   ]
  },
  {
   "cell_type": "code",
   "execution_count": 11,
   "metadata": {},
   "outputs": [
    {
     "name": "stdout",
     "output_type": "stream",
     "text": [
      "------------------------------------------------------\n",
      "|\"TEXT\"                                              |\n",
      "------------------------------------------------------\n",
      "|AI refers to the simulation of human intelligen...  |\n",
      "|The potential for AI to improve healthcare is v...  |\n",
      "|AI technologies, such as machine learning and d...  |\n",
      "|Ethical considerations are crucial in the devel...  |\n",
      "|As AI continues to evolve, the need for skilled...  |\n",
      "|Political campaigns increasingly leverage data ...  |\n",
      "|Major sporting events, such as the Olympics and...  |\n",
      "|In business, strategic mergers and acquisitions...  |\n",
      "|The intersection of sports and politics often m...  |\n",
      "|Technological innovations in business, like blo...  |\n",
      "------------------------------------------------------\n",
      "\n"
     ]
    }
   ],
   "source": [
    "ai_sentences = [\n",
    "    \"AI refers to the simulation of human intelligence in machines that are programmed to think like humans and mimic their actions.\",\n",
    "    \"The potential for AI to improve healthcare is vast, with applications ranging from diagnostic tools to personalized medicine.\",\n",
    "    \"AI technologies, such as machine learning and deep learning, are increasingly integral to advancements in sectors like finance, transportation, and security.\",\n",
    "    \"Ethical considerations are crucial in the development and deployment of AI, ensuring technologies are used responsibly and do not perpetuate biases.\",\n",
    "    \"As AI continues to evolve, the need for skilled professionals to design, manage, and oversee these systems is growing exponentially.\"\n",
    "]\n",
    "\n",
    "mixed_topics_sentences = [\n",
    "    \"Political campaigns increasingly leverage data analytics to target voters and optimize their messages.\",\n",
    "    \"Major sporting events, such as the Olympics and the FIFA World Cup, significantly boost the economy of the host country through tourism and infrastructure improvements.\",\n",
    "    \"In business, strategic mergers and acquisitions can reshape industries, creating new market leaders and altering competitive dynamics.\",\n",
    "    \"The intersection of sports and politics often manifests when athletes take public stands on political issues, influencing public opinion and policy.\",\n",
    "    \"Technological innovations in business, like blockchain and AI, are becoming pivotal in enhancing transparency and efficiency in financial transactions and governance.\"\n",
    "]\n",
    "\n",
    "search_text = 'AI is transforming industries by automating complex processes, enhancing decision-making with predictive analytics, and personalizing user experiences at an unprecedented scale.'\n",
    "\n",
    "df = session.create_dataframe(ai_sentences+mixed_topics_sentences, schema=['TEXT'])\n",
    "df.show()"
   ]
  },
  {
   "cell_type": "markdown",
   "metadata": {},
   "source": [
    "# Deploy the Arctic XS Model"
   ]
  },
  {
   "cell_type": "code",
   "execution_count": 12,
   "metadata": {},
   "outputs": [
    {
     "data": {
      "text/plain": [
       "[Row(status='HF_MODELS already exists, statement succeeded.')]"
      ]
     },
     "execution_count": 12,
     "metadata": {},
     "output_type": "execute_result"
    }
   ],
   "source": [
    "# Create a Stage to host our Functions\n",
    "session.sql('CREATE OR REPLACE STAGE FUNCTIONS').collect()\n",
    "\n",
    "# Create a stage for Hugging Face Models\n",
    "session.sql('CREATE STAGE IF NOT EXISTS HF_MODELS').collect()"
   ]
  },
  {
   "cell_type": "code",
   "execution_count": 13,
   "metadata": {},
   "outputs": [
    {
     "data": {
      "text/plain": [
       "[PutResult(source='arctic_model_xs.joblib', target='arctic_model_xs.joblib', source_size=90321645, target_size=0, source_compression='NONE', target_compression='NONE', status='SKIPPED', message='')]"
      ]
     },
     "execution_count": 13,
     "metadata": {},
     "output_type": "execute_result"
    }
   ],
   "source": [
    "import os\n",
    "import joblib\n",
    "os.environ[\"HF_HOME\"] = '/tmp'\n",
    "\n",
    "# Get the Arctic Model from Hugging Face\n",
    "from transformers import AutoModel, AutoTokenizer\n",
    "tokenizer = AutoTokenizer.from_pretrained(\"Snowflake/snowflake-arctic-embed-xs\")\n",
    "model = AutoModel.from_pretrained(\"Snowflake/snowflake-arctic-embed-xs\", add_pooling_layer=False)\n",
    "\n",
    "# Save the tokenizer and model using joblib\n",
    "import joblib\n",
    "joblib.dump(tokenizer, '/tmp/arctic_tokenizer_xs.joblib')\n",
    "joblib.dump(model, '/tmp/arctic_model_xs.joblib')\n",
    "\n",
    "# Upload to Snowflake\n",
    "session.file.put('/tmp/arctic_tokenizer_xs.joblib', stage_location='@HF_MODELS/', auto_compress=False)\n",
    "session.file.put('/tmp/arctic_model_xs.joblib', stage_location='@HF_MODELS/', auto_compress=False)"
   ]
  },
  {
   "cell_type": "code",
   "execution_count": 14,
   "metadata": {},
   "outputs": [
    {
     "name": "stderr",
     "output_type": "stream",
     "text": [
      "Package 'pytorch' is not installed in the local environment. Your UDF might not work when the package is installed on the server but not on your local environment.\n",
      "The version of package 'cachetools' in the local environment is 5.3.3, which does not fit the criteria for the requirement 'cachetools'. Your UDF might not work when the package version is different between the server and your local environment.\n",
      "The version of package 'joblib' in the local environment is 1.4.0, which does not fit the criteria for the requirement 'joblib'. Your UDF might not work when the package version is different between the server and your local environment.\n"
     ]
    }
   ],
   "source": [
    "# Function to load Models (and cache them)\n",
    "@cached(cache={})\n",
    "def load_model_opt(import_dir) -> object:\n",
    "    import joblib\n",
    "    tokenizer = joblib.load(f'{import_dir}arctic_tokenizer_xs.joblib')\n",
    "    model = joblib.load(f'{import_dir}arctic_model_xs.joblib')\n",
    "    return tokenizer, model\n",
    "    \n",
    "# Actual Embedding-Function that will be registered in Snowflake\n",
    "def embed_arctic_xs_opt(text: pd.Series) -> pd.Series:\n",
    "    import sys\n",
    "    IMPORT_DIRECTORY_NAME = \"snowflake_import_directory\"\n",
    "    import_dir = sys._xoptions[IMPORT_DIRECTORY_NAME]\n",
    "    tokenizer, model = load_model_opt(import_dir)\n",
    "    embeddings = model(**tokenizer(text.tolist(), padding=True, truncation=True, return_tensors='pt', max_length=512))[0][:, 0]\n",
    "    return embeddings.tolist()\n",
    "\n",
    "# Register Function as Vectorized Pandas UDF\n",
    "embed_arctic_xs_opt = pandas_udf(\n",
    "    session=session,\n",
    "    name=\"EMBED_ARCTIC_XS_OPT\", \n",
    "    func=embed_arctic_xs_opt,\n",
    "    return_type=T.ArrayType(), \n",
    "    input_types=[T.StringType()], \n",
    "    packages=['pytorch','transformers','cachetools','joblib'], \n",
    "    is_permanent=True, \n",
    "    replace=True,\n",
    "    stage_location='@FUNCTIONS', \n",
    "    external_access_integrations=['HF_INT'],\n",
    "    imports=[\n",
    "        '@hf_models/arctic_model_xs.joblib',\n",
    "        '@hf_models/arctic_tokenizer_xs.joblib'\n",
    "        ]\n",
    "    )"
   ]
  },
  {
   "cell_type": "code",
   "execution_count": 15,
   "metadata": {},
   "outputs": [
    {
     "name": "stdout",
     "output_type": "stream",
     "text": [
      "-----------------------------------------------------------------------------------------------------------\n",
      "|\"TEXT\"                                              |\"EMBEDDING_XS\"                                      |\n",
      "-----------------------------------------------------------------------------------------------------------\n",
      "|Technological innovations in business, like blo...  |[0.1598115861415863, 0.6208478808403015, -0.335...  |\n",
      "|Ethical considerations are crucial in the devel...  |[-0.29632332921028137, 0.563687801361084, -0.23...  |\n",
      "|In business, strategic mergers and acquisitions...  |[0.21651607751846313, 0.7585282325744629, 0.070...  |\n",
      "|The potential for AI to improve healthcare is v...  |[-0.0001352909894194454, 0.40068864822387695, 0...  |\n",
      "|AI technologies, such as machine learning and d...  |[0.2519180178642273, 0.3343959450721741, -0.007...  |\n",
      "|The intersection of sports and politics often m...  |[-0.4530579745769501, 0.24810077250003815, 0.19...  |\n",
      "|AI refers to the simulation of human intelligen...  |[0.28594380617141724, 0.23065607249736786, -0.1...  |\n",
      "|Political campaigns increasingly leverage data ...  |[-0.16542716324329376, 0.32436394691467285, -0....  |\n",
      "|Major sporting events, such as the Olympics and...  |[0.16280654072761536, 1.099736213684082, 0.1863...  |\n",
      "|As AI continues to evolve, the need for skilled...  |[-0.2427491992712021, 0.6662875413894653, -0.07...  |\n",
      "-----------------------------------------------------------------------------------------------------------\n",
      "\n"
     ]
    }
   ],
   "source": [
    "# Run Embedding Model\n",
    "embedded_df_xs = df.with_column('EMBEDDING_XS', embed_arctic_xs_opt('TEXT').cast(T.VectorType(float,384)))\n",
    "embedded_df_xs.write.save_as_table('EMBEDDINGS_XS', mode='overwrite')\n",
    "\n",
    "# Outputs:\n",
    "embedded_df_xs = session.table('EMBEDDINGS_XS')\n",
    "embedded_df_xs.show()"
   ]
  },
  {
   "cell_type": "code",
   "execution_count": 16,
   "metadata": {},
   "outputs": [
    {
     "name": "stdout",
     "output_type": "stream",
     "text": [
      "--------------------------------------------------------------------------------------------------------------------------------------------\n",
      "|\"TEXT\"                                              |\"EMBEDDING_XS\"                                      |\"VECTOR_DISTANCE_XS_EMBEDDING\"  |\n",
      "--------------------------------------------------------------------------------------------------------------------------------------------\n",
      "|AI technologies, such as machine learning and d...  |[0.2519180178642273, 0.3343959450721741, -0.007...  |5.26300961887902                |\n",
      "|As AI continues to evolve, the need for skilled...  |[-0.2427491992712021, 0.6662875413894653, -0.07...  |5.374090073325059               |\n",
      "|The potential for AI to improve healthcare is v...  |[-0.0001352909894194454, 0.40068864822387695, 0...  |5.620593230951895               |\n",
      "|AI refers to the simulation of human intelligen...  |[0.28594380617141724, 0.23065607249736786, -0.1...  |6.300694067127768               |\n",
      "|Ethical considerations are crucial in the devel...  |[-0.29632332921028137, 0.563687801361084, -0.23...  |6.485275610461929               |\n",
      "|Technological innovations in business, like blo...  |[0.1598115861415863, 0.6208478808403015, -0.335...  |6.707793915032197               |\n",
      "|In business, strategic mergers and acquisitions...  |[0.21651607751846313, 0.7585282325744629, 0.070...  |7.300782033757984               |\n",
      "|Political campaigns increasingly leverage data ...  |[-0.16542716324329376, 0.32436394691467285, -0....  |7.353436513933681               |\n",
      "|Major sporting events, such as the Olympics and...  |[0.16280654072761536, 1.099736213684082, 0.1863...  |8.475391444165629               |\n",
      "|The intersection of sports and politics often m...  |[-0.4530579745769501, 0.24810077250003815, 0.19...  |8.769733520078224               |\n",
      "--------------------------------------------------------------------------------------------------------------------------------------------\n",
      "\n"
     ]
    }
   ],
   "source": [
    "# Calculate distances to search query\n",
    "distances = embedded_df_xs.with_column(\n",
    "    'VECTOR_DISTANCE_XS_EMBEDDING', \n",
    "    F.vector_l2_distance(\n",
    "        F.col('EMBEDDING_XS'),\n",
    "        embed_arctic_xs_opt(F.lit(search_text)).cast(T.VectorType(float,384))\n",
    "    )\n",
    ").order_by('VECTOR_DISTANCE_XS_EMBEDDING').show()"
   ]
  }
 ],
 "metadata": {
  "kernelspec": {
   "display_name": "pysnowpark_huggingface",
   "language": "python",
   "name": "python3"
  },
  "language_info": {
   "codemirror_mode": {
    "name": "ipython",
    "version": 3
   },
   "file_extension": ".py",
   "mimetype": "text/x-python",
   "name": "python",
   "nbconvert_exporter": "python",
   "pygments_lexer": "ipython3",
   "version": "3.11.8"
  }
 },
 "nbformat": 4,
 "nbformat_minor": 2
}
